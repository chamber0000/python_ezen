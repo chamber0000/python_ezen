{
 "cells": [
  {
   "cell_type": "code",
   "execution_count": 30,
   "metadata": {},
   "outputs": [
    {
     "name": "stdout",
     "output_type": "stream",
     "text": [
      "Requirement already satisfied: selenium in c:\\users\\ezen\\appdata\\local\\programs\\python\\python311\\lib\\site-packages (4.8.2)\n",
      "Requirement already satisfied: urllib3[socks]~=1.26 in c:\\users\\ezen\\appdata\\local\\programs\\python\\python311\\lib\\site-packages (from selenium) (1.26.14)\n",
      "Requirement already satisfied: trio~=0.17 in c:\\users\\ezen\\appdata\\local\\programs\\python\\python311\\lib\\site-packages (from selenium) (0.22.0)\n",
      "Requirement already satisfied: trio-websocket~=0.9 in c:\\users\\ezen\\appdata\\local\\programs\\python\\python311\\lib\\site-packages (from selenium) (0.9.2)\n",
      "Requirement already satisfied: certifi>=2021.10.8 in c:\\users\\ezen\\appdata\\local\\programs\\python\\python311\\lib\\site-packages (from selenium) (2022.12.7)\n",
      "Requirement already satisfied: attrs>=19.2.0 in c:\\users\\ezen\\appdata\\local\\programs\\python\\python311\\lib\\site-packages (from trio~=0.17->selenium) (22.2.0)\n",
      "Requirement already satisfied: sortedcontainers in c:\\users\\ezen\\appdata\\local\\programs\\python\\python311\\lib\\site-packages (from trio~=0.17->selenium) (2.4.0)\n",
      "Requirement already satisfied: async-generator>=1.9 in c:\\users\\ezen\\appdata\\local\\programs\\python\\python311\\lib\\site-packages (from trio~=0.17->selenium) (1.10)\n",
      "Requirement already satisfied: idna in c:\\users\\ezen\\appdata\\local\\programs\\python\\python311\\lib\\site-packages (from trio~=0.17->selenium) (3.4)\n",
      "Requirement already satisfied: outcome in c:\\users\\ezen\\appdata\\local\\programs\\python\\python311\\lib\\site-packages (from trio~=0.17->selenium) (1.2.0)\n",
      "Requirement already satisfied: sniffio in c:\\users\\ezen\\appdata\\local\\programs\\python\\python311\\lib\\site-packages (from trio~=0.17->selenium) (1.3.0)\n",
      "Requirement already satisfied: cffi>=1.14 in c:\\users\\ezen\\appdata\\local\\programs\\python\\python311\\lib\\site-packages (from trio~=0.17->selenium) (1.15.1)\n",
      "Requirement already satisfied: wsproto>=0.14 in c:\\users\\ezen\\appdata\\local\\programs\\python\\python311\\lib\\site-packages (from trio-websocket~=0.9->selenium) (1.2.0)\n",
      "Requirement already satisfied: PySocks!=1.5.7,<2.0,>=1.5.6 in c:\\users\\ezen\\appdata\\local\\programs\\python\\python311\\lib\\site-packages (from urllib3[socks]~=1.26->selenium) (1.7.1)\n",
      "Requirement already satisfied: pycparser in c:\\users\\ezen\\appdata\\local\\programs\\python\\python311\\lib\\site-packages (from cffi>=1.14->trio~=0.17->selenium) (2.21)\n",
      "Requirement already satisfied: h11<1,>=0.9.0 in c:\\users\\ezen\\appdata\\local\\programs\\python\\python311\\lib\\site-packages (from wsproto>=0.14->trio-websocket~=0.9->selenium) (0.14.0)\n"
     ]
    },
    {
     "name": "stderr",
     "output_type": "stream",
     "text": [
      "\n",
      "[notice] A new release of pip is available: 23.0 -> 23.0.1\n",
      "[notice] To update, run: python.exe -m pip install --upgrade pip\n"
     ]
    }
   ],
   "source": [
    "# 라이브러리 설치\n",
    "!pip install selenium"
   ]
  },
  {
   "attachments": {},
   "cell_type": "markdown",
   "metadata": {},
   "source": [
    "### selenium 라이브러리\n",
    "1. 원래는 웹 어플리케이션 / 웹에 있는 서비스들을 테스트 하기 위한 라이브러리\n",
    "2. python을 이용하여 웹 브라우저를 제어하는 기능 \n",
    "3. 웹드라이버라는 별도의 프로그램 설치가 필요함.(구글에서 webdriver 검색/설치)"
   ]
  },
  {
   "cell_type": "code",
   "execution_count": 31,
   "metadata": {},
   "outputs": [],
   "source": [
    "# 라이브러리 로드\n",
    "from selenium import webdriver"
   ]
  },
  {
   "cell_type": "code",
   "execution_count": 58,
   "metadata": {},
   "outputs": [],
   "source": [
    "# webdriver 파일의 위치를 저장\n",
    "# 상대경로\n",
    "path = '../chromdriver'\n",
    "# 절대경로\n",
    "path2 = 'C:/Users/ezen/Documents/GitHub/python_ezen/chromedriver'\n",
    "# path2 = 'C:\\\\Users\\\\ezen\\\\Documents\\\\GitHub\\\\python_ezen\\\\chromedriver'"
   ]
  },
  {
   "cell_type": "code",
   "execution_count": 59,
   "metadata": {},
   "outputs": [
    {
     "name": "stderr",
     "output_type": "stream",
     "text": [
      "C:\\Users\\ezen\\AppData\\Local\\Temp\\ipykernel_8092\\106312065.py:2: DeprecationWarning: executable_path has been deprecated, please pass in a Service object\n",
      "  driver = webdriver.Chrome(path)\n"
     ]
    }
   ],
   "source": [
    "# 웹드라이버 실행\n",
    "driver = webdriver.Chrome(path)\n",
    "# 웹드라이버에 주소창에 네이버에 요청\n",
    "driver.get('https://www.naver.com')\n"
   ]
  },
  {
   "cell_type": "code",
   "execution_count": 56,
   "metadata": {},
   "outputs": [],
   "source": [
    "from selenium.webdriver.common.by import By \n",
    "from selenium.webdriver.common.keys import Keys"
   ]
  },
  {
   "cell_type": "code",
   "execution_count": 57,
   "metadata": {},
   "outputs": [
    {
     "ename": "NoSuchWindowException",
     "evalue": "Message: no such window: target window already closed\nfrom unknown error: web view not found\n  (Session info: chrome=111.0.5563.64)\nStacktrace:\nBacktrace:\n\t(No symbol) [0x00E5DCE3]\n\t(No symbol) [0x00DF39D1]\n\t(No symbol) [0x00D04DA8]\n\t(No symbol) [0x00CED0D3]\n\t(No symbol) [0x00D4EA8B]\n\t(No symbol) [0x00D5D093]\n\t(No symbol) [0x00D4ACC6]\n\t(No symbol) [0x00D26F68]\n\t(No symbol) [0x00D280CD]\n\tGetHandleVerifier [0x010D3832+2506274]\n\tGetHandleVerifier [0x01109794+2727300]\n\tGetHandleVerifier [0x0110E36C+2746716]\n\tGetHandleVerifier [0x00F06690+617600]\n\t(No symbol) [0x00DFC712]\n\t(No symbol) [0x00E01FF8]\n\t(No symbol) [0x00E020DB]\n\t(No symbol) [0x00E0C63B]\n\tBaseThreadInitThunk [0x76E58484+36]\n\tRtlValidSecurityDescriptor [0x77072FEA+282]\n\tRtlValidSecurityDescriptor [0x77072FBA+234]\n",
     "output_type": "error",
     "traceback": [
      "\u001b[1;31m---------------------------------------------------------------------------\u001b[0m",
      "\u001b[1;31mNoSuchWindowException\u001b[0m                     Traceback (most recent call last)",
      "Cell \u001b[1;32mIn[57], line 1\u001b[0m\n\u001b[1;32m----> 1\u001b[0m element \u001b[39m=\u001b[39m driver\u001b[39m.\u001b[39;49mfind_element(By\u001b[39m.\u001b[39;49mID,\u001b[39m'\u001b[39;49m\u001b[39mquery\u001b[39;49m\u001b[39m'\u001b[39;49m) \u001b[39m# query라는 ID값을 가진 값을 변수에 저장\u001b[39;00m\n\u001b[0;32m      2\u001b[0m element\u001b[39m.\u001b[39msend_keys(\u001b[39m'\u001b[39m\u001b[39m하이디라오\u001b[39m\u001b[39m'\u001b[39m) \u001b[39m# 네이버 검색창에 '하이디라오' 입력되도록 보낸다\u001b[39;00m\n",
      "File \u001b[1;32mc:\\Users\\ezen\\AppData\\Local\\Programs\\Python\\Python311\\Lib\\site-packages\\selenium\\webdriver\\remote\\webdriver.py:830\u001b[0m, in \u001b[0;36mWebDriver.find_element\u001b[1;34m(self, by, value)\u001b[0m\n\u001b[0;32m    827\u001b[0m     by \u001b[39m=\u001b[39m By\u001b[39m.\u001b[39mCSS_SELECTOR\n\u001b[0;32m    828\u001b[0m     value \u001b[39m=\u001b[39m \u001b[39mf\u001b[39m\u001b[39m'\u001b[39m\u001b[39m[name=\u001b[39m\u001b[39m\"\u001b[39m\u001b[39m{\u001b[39;00mvalue\u001b[39m}\u001b[39;00m\u001b[39m\"\u001b[39m\u001b[39m]\u001b[39m\u001b[39m'\u001b[39m\n\u001b[1;32m--> 830\u001b[0m \u001b[39mreturn\u001b[39;00m \u001b[39mself\u001b[39;49m\u001b[39m.\u001b[39;49mexecute(Command\u001b[39m.\u001b[39;49mFIND_ELEMENT, {\u001b[39m\"\u001b[39;49m\u001b[39musing\u001b[39;49m\u001b[39m\"\u001b[39;49m: by, \u001b[39m\"\u001b[39;49m\u001b[39mvalue\u001b[39;49m\u001b[39m\"\u001b[39;49m: value})[\u001b[39m\"\u001b[39m\u001b[39mvalue\u001b[39m\u001b[39m\"\u001b[39m]\n",
      "File \u001b[1;32mc:\\Users\\ezen\\AppData\\Local\\Programs\\Python\\Python311\\Lib\\site-packages\\selenium\\webdriver\\remote\\webdriver.py:440\u001b[0m, in \u001b[0;36mWebDriver.execute\u001b[1;34m(self, driver_command, params)\u001b[0m\n\u001b[0;32m    438\u001b[0m response \u001b[39m=\u001b[39m \u001b[39mself\u001b[39m\u001b[39m.\u001b[39mcommand_executor\u001b[39m.\u001b[39mexecute(driver_command, params)\n\u001b[0;32m    439\u001b[0m \u001b[39mif\u001b[39;00m response:\n\u001b[1;32m--> 440\u001b[0m     \u001b[39mself\u001b[39;49m\u001b[39m.\u001b[39;49merror_handler\u001b[39m.\u001b[39;49mcheck_response(response)\n\u001b[0;32m    441\u001b[0m     response[\u001b[39m\"\u001b[39m\u001b[39mvalue\u001b[39m\u001b[39m\"\u001b[39m] \u001b[39m=\u001b[39m \u001b[39mself\u001b[39m\u001b[39m.\u001b[39m_unwrap_value(response\u001b[39m.\u001b[39mget(\u001b[39m\"\u001b[39m\u001b[39mvalue\u001b[39m\u001b[39m\"\u001b[39m, \u001b[39mNone\u001b[39;00m))\n\u001b[0;32m    442\u001b[0m     \u001b[39mreturn\u001b[39;00m response\n",
      "File \u001b[1;32mc:\\Users\\ezen\\AppData\\Local\\Programs\\Python\\Python311\\Lib\\site-packages\\selenium\\webdriver\\remote\\errorhandler.py:245\u001b[0m, in \u001b[0;36mErrorHandler.check_response\u001b[1;34m(self, response)\u001b[0m\n\u001b[0;32m    243\u001b[0m         alert_text \u001b[39m=\u001b[39m value[\u001b[39m\"\u001b[39m\u001b[39malert\u001b[39m\u001b[39m\"\u001b[39m]\u001b[39m.\u001b[39mget(\u001b[39m\"\u001b[39m\u001b[39mtext\u001b[39m\u001b[39m\"\u001b[39m)\n\u001b[0;32m    244\u001b[0m     \u001b[39mraise\u001b[39;00m exception_class(message, screen, stacktrace, alert_text)  \u001b[39m# type: ignore[call-arg]  # mypy is not smart enough here\u001b[39;00m\n\u001b[1;32m--> 245\u001b[0m \u001b[39mraise\u001b[39;00m exception_class(message, screen, stacktrace)\n",
      "\u001b[1;31mNoSuchWindowException\u001b[0m: Message: no such window: target window already closed\nfrom unknown error: web view not found\n  (Session info: chrome=111.0.5563.64)\nStacktrace:\nBacktrace:\n\t(No symbol) [0x00E5DCE3]\n\t(No symbol) [0x00DF39D1]\n\t(No symbol) [0x00D04DA8]\n\t(No symbol) [0x00CED0D3]\n\t(No symbol) [0x00D4EA8B]\n\t(No symbol) [0x00D5D093]\n\t(No symbol) [0x00D4ACC6]\n\t(No symbol) [0x00D26F68]\n\t(No symbol) [0x00D280CD]\n\tGetHandleVerifier [0x010D3832+2506274]\n\tGetHandleVerifier [0x01109794+2727300]\n\tGetHandleVerifier [0x0110E36C+2746716]\n\tGetHandleVerifier [0x00F06690+617600]\n\t(No symbol) [0x00DFC712]\n\t(No symbol) [0x00E01FF8]\n\t(No symbol) [0x00E020DB]\n\t(No symbol) [0x00E0C63B]\n\tBaseThreadInitThunk [0x76E58484+36]\n\tRtlValidSecurityDescriptor [0x77072FEA+282]\n\tRtlValidSecurityDescriptor [0x77072FBA+234]\n"
     ]
    }
   ],
   "source": [
    "element = driver.find_element(By.ID,'query') # query라는 ID값을 가진 값을 변수에 저장\n",
    "element.send_keys('하이디라오') # 네이버 검색창에 '하이디라오' 입력되도록 보낸다"
   ]
  },
  {
   "cell_type": "code",
   "execution_count": 36,
   "metadata": {},
   "outputs": [],
   "source": [
    "element.send_keys(Keys.ENTER) # 키보드 \"Enter\"키를 보낸다. "
   ]
  },
  {
   "cell_type": "code",
   "execution_count": 37,
   "metadata": {},
   "outputs": [],
   "source": [
    "from bs4 import BeautifulSoup as bs"
   ]
  },
  {
   "cell_type": "code",
   "execution_count": 38,
   "metadata": {},
   "outputs": [],
   "source": [
    "soup = bs(driver.page_source,\"html.parser\")   # response = requests.get(url)  html_data = response.text   동일 의미 "
   ]
  },
  {
   "cell_type": "code",
   "execution_count": 44,
   "metadata": {},
   "outputs": [
    {
     "data": {
      "text/plain": [
       "[<div class=\"question_group\"> <a class=\"api_txt_lines question_text\" href=\"https://kin.naver.com/qna/detail.naver?d1id=8&amp;dirId=8020603&amp;docId=440718964&amp;qb=7ZWY7J2065SU65287Jik&amp;enc=utf8&amp;section=kin.ext&amp;rank=1&amp;search_sort=0&amp;spq=0\" onclick=\"return goOtherCR(this,'a=kin*k.question&amp;r=1&amp;i=10000009_00001a44d674&amp;u='+urlencode(this.href));\" target=\"_blank\"><mark>하이디라오</mark> 매실 <mark>하이디라오</mark>에서 주는 매실 이거 맞나요?</a> </div>,\n",
       " <div class=\"question_group\"> <a class=\"api_txt_lines question_text\" href=\"https://kin.naver.com/qna/detail.naver?d1id=8&amp;dirId=8020604&amp;docId=436775032&amp;qb=7ZWY7J2065SU65287Jik&amp;enc=utf8&amp;section=kin.ext&amp;rank=2&amp;search_sort=0&amp;spq=0\" onclick=\"return goOtherCR(this,'a=kin*k.question&amp;r=2&amp;i=10000009_00001a08a878&amp;u='+urlencode(this.href));\" target=\"_blank\">북앤라이프 도서문화상품권 <mark>하이디라오</mark> 쓸 수 있나요?</a> </div>,\n",
       " <div class=\"question_group\"> <a class=\"api_txt_lines question_text\" href=\"https://kin.naver.com/qna/detail.naver?d1id=12&amp;dirId=120110&amp;docId=435955731&amp;qb=7ZWY7J2065SU65287Jik&amp;enc=utf8&amp;section=kin.ext&amp;rank=3&amp;search_sort=0&amp;spq=0\" onclick=\"return goOtherCR(this,'a=kin*k.question&amp;r=3&amp;i=10000009_000019fc2813&amp;u='+urlencode(this.href));\" target=\"_blank\">홍대 <mark>하이디라오</mark> 룸 예약할 때 최소인원이나 이용제한 시간 있나요?</a> </div>]"
      ]
     },
     "execution_count": 44,
     "metadata": {},
     "output_type": "execute_result"
    }
   ],
   "source": [
    "div_list = soup.find_all('div',attrs={\n",
    "    'class' : 'question_group'\n",
    "})\n",
    "div_list"
   ]
  },
  {
   "cell_type": "code",
   "execution_count": 50,
   "metadata": {},
   "outputs": [
    {
     "data": {
      "text/plain": [
       "[' 하이디라오 매실 하이디라오에서 주는 매실 이거 맞나요? ',\n",
       " ' 북앤라이프 도서문화상품권 하이디라오 쓸 수 있나요? ',\n",
       " ' 홍대 하이디라오 룸 예약할 때 최소인원이나 이용제한 시간 있나요? ']"
      ]
     },
     "execution_count": 50,
     "metadata": {},
     "output_type": "execute_result"
    }
   ],
   "source": [
    "a_list=[]\n",
    "for i in div_list:\n",
    "    if i.get_text():\n",
    "        a_list.append(i.get_text())\n",
    "a_list"
   ]
  },
  {
   "cell_type": "code",
   "execution_count": 62,
   "metadata": {},
   "outputs": [],
   "source": [
    "import time"
   ]
  },
  {
   "cell_type": "code",
   "execution_count": 69,
   "metadata": {},
   "outputs": [],
   "source": [
    "# 함수 생성\n",
    "# 검색어를 매개변수로 받아와서\n",
    "# 웹드라이버에서 검색을 하고 결과를 리스트의 형태로 리턴\n",
    "# 결과는 지식인의 타이틀을 리스트트화 한 결과\n",
    "# 1.함수생성\n",
    "def search_text(_search):\n",
    "    element = driver.find_element(By.ID,'query')\n",
    "    element.send_keys(_search) # 2.웹드라이버에서 검색어를 입력 \n",
    "    element.send_keys(Keys.ENTER) # 3.웹 드라이버에서 엔터키를 입력\n",
    "    time.sleep(1)\n",
    "    data = bs(driver.page_source,'html.parser') # 4.페이지의 소스코드를 변수에 입력\n",
    "                                                # 5.bs를 이용하여 html parsing\n",
    "    div_list = data.find_all('div',attrs={      # 6.parsing된 데이터에서 지식인 부분 출력\n",
    "        'class':'question_group'\n",
    "    })\n",
    "    search_list =[]                                   # 7. a태그 안에 text들을 리스트 형태로 저장\n",
    "    for i in div_list:\n",
    "        if i.find('a'):\n",
    "            search_list.append(i.find('a').get_text())\n",
    "    return search_list\n",
    "\n",
    "     \n",
    "\n"
   ]
  },
  {
   "cell_type": "code",
   "execution_count": 70,
   "metadata": {},
   "outputs": [
    {
     "data": {
      "text/plain": [
       "['파이썬 파싱이 뮈에요? 파싱이 뭐죠? 예시도 보여주세요 ㅜㅜ',\n",
       " '프로그램 파싱이란 게 뭘까요?',\n",
       " '파싱 리튬 배터리 수리 가능한가요 파싱 FS-970N 배터리 물리적 충격으로 접합부쪽 뚜껑이 분리됐어요 ㅠㅠ 다시 닫아서 테이프로 감아봐도 안되던데, 수리가 가능한가요? 정식 수입 업체에서는 배터리 소모품이라 수리가 어렵다고해서 사설로 가능한지 알아보고싶은데 정보가 없네요 ..']"
      ]
     },
     "execution_count": 70,
     "metadata": {},
     "output_type": "execute_result"
    }
   ],
   "source": [
    "search_text('파싱')"
   ]
  },
  {
   "cell_type": "code",
   "execution_count": 89,
   "metadata": {},
   "outputs": [],
   "source": [
    "# 클래스 형태로 웹드라이버 제어\n",
    "\n",
    "# 클래스 선언\n",
    "class web():\n",
    "    # 생성자 함수 생성.\n",
    "    def __init__(self,_url,_input):\n",
    "        self.url = _url\n",
    "        self.input = _input\n",
    "    # 검색을 하는 함수\n",
    "    def search(self,_search):\n",
    "        # 웹드라이버를 실행\n",
    "        self.path = '../chromedriver'\n",
    "        self.driver = webdriver.Chrome(self.path)\n",
    "        #url 주소로 접속\n",
    "        self.driver.get(self.url)\n",
    "        time.sleep(0.5)\n",
    "        #검색어창 지정\n",
    "        self.element = self.driver.find_element(By.ID,self.input)\n",
    "        #검색어를 입력\n",
    "        self.element.send_keys(_search)\n",
    "        #엔터키를 입력\n",
    "        self.element.send_keys(Keys.ENTER)\n",
    "        time.sleep(0.5)\n",
    "        #해당 페이지의 html parsing 데이터\n",
    "        self.soup = bs(self.driver.page_source, 'html.parser')\n",
    "        self.div_list = self.soup.find_all('div',attrs={\n",
    "            'class':'question_group'\n",
    "        })\n",
    "        # div_list에서 a태그의 title text만 리스트의 형태로 출력\n",
    "        self_result=[]\n",
    "        for i in self.div_list:\n",
    "            if i.find('a'):\n",
    "                self_result.append(i.find('a').get_text())\n",
    "        #self.driver.close()\n",
    "        return self_result\n",
    "    \n",
    "\n",
    "\n"
   ]
  },
  {
   "cell_type": "code",
   "execution_count": 90,
   "metadata": {},
   "outputs": [],
   "source": [
    "test = web('https://www.naver.com','query')\n"
   ]
  },
  {
   "cell_type": "code",
   "execution_count": 91,
   "metadata": {},
   "outputs": [
    {
     "name": "stderr",
     "output_type": "stream",
     "text": [
      "C:\\Users\\ezen\\AppData\\Local\\Temp\\ipykernel_8092\\4023396138.py:13: DeprecationWarning: executable_path has been deprecated, please pass in a Service object\n",
      "  self.driver = webdriver.Chrome(self.path)\n"
     ]
    },
    {
     "data": {
      "text/plain": [
       "['챗GPT 할려고 했는데 이렇게 떠요...어떻게 하나요??',\n",
       " '챗GPT 사용법 알려주세요 어디 들어가서 뭐 해야 해요?',\n",
       " '챗GPT 왜 이럴까요? 챗GPT 사용하는데 계속 오류가 나고 사용이 안돼요. 질문을 해도 질문 답변하다가 계속 끊기고... 요즘 챗GPT 못쓰면 안된다는데 잘쓰고 싶은데 안돼서 오류해결이나 방법 계속 찾고 있네요.... 스마트폰으로 잘 사용하는 방법 있으면 좀 알려주세요. 챗GPT 사용법이 생각보다 어렵네요']"
      ]
     },
     "execution_count": 91,
     "metadata": {},
     "output_type": "execute_result"
    }
   ],
   "source": [
    "test.search('챗gpt')"
   ]
  },
  {
   "cell_type": "code",
   "execution_count": null,
   "metadata": {},
   "outputs": [],
   "source": []
  },
  {
   "cell_type": "code",
   "execution_count": null,
   "metadata": {},
   "outputs": [],
   "source": []
  }
 ],
 "metadata": {
  "kernelspec": {
   "display_name": "Python 3",
   "language": "python",
   "name": "python3"
  },
  "language_info": {
   "codemirror_mode": {
    "name": "ipython",
    "version": 3
   },
   "file_extension": ".py",
   "mimetype": "text/x-python",
   "name": "python",
   "nbconvert_exporter": "python",
   "pygments_lexer": "ipython3",
   "version": "3.11.2"
  },
  "orig_nbformat": 4
 },
 "nbformat": 4,
 "nbformat_minor": 2
}
