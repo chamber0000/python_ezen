{
 "cells": [
  {
   "cell_type": "code",
   "execution_count": 5,
   "metadata": {},
   "outputs": [
    {
     "name": "stdout",
     "output_type": "stream",
     "text": [
      "10\n",
      "<class 'int'>\n",
      "test\n",
      "<class 'str'>\n"
     ]
    }
   ],
   "source": [
    "# 변수 선언\n",
    "a = 10\n",
    "b = \"test\"\n",
    "\n",
    "# 변수 출력\n",
    "print(a)\n",
    "print(type(a))\n",
    "print(b)\n",
    "print(type(b))\n",
    "\n"
   ]
  },
  {
   "cell_type": "code",
   "execution_count": 8,
   "metadata": {},
   "outputs": [
    {
     "name": "stdout",
     "output_type": "stream",
     "text": [
      "test2\n"
     ]
    }
   ],
   "source": [
    "a = 'test2'\n",
    "print(a)"
   ]
  },
  {
   "cell_type": "code",
   "execution_count": 9,
   "metadata": {},
   "outputs": [
    {
     "name": "stdout",
     "output_type": "stream",
     "text": [
      "<class 'bool'>\n",
      "True False True\n"
     ]
    }
   ],
   "source": [
    "# 불형 데이타\n",
    "a = True\n",
    "print(type(a))\n",
    "\n",
    "b = (100 > 10)\n",
    "c = (100 < 10)\n",
    "d = (100 == 100)\n",
    "print(b,c,d)"
   ]
  },
  {
   "cell_type": "code",
   "execution_count": 11,
   "metadata": {},
   "outputs": [
    {
     "name": "stdout",
     "output_type": "stream",
     "text": [
      "10 4 21 2.3333333333333335 2 1 343\n",
      "13 20\n"
     ]
    }
   ],
   "source": [
    "# 산술 연산자\n",
    "a, b, c = 7, 3, 2\n",
    "print(a+b,a-b,a*b,a/b,a//b,a%b,a**b)\n",
    "print(a+b*c, (a+b)*c)"
   ]
  },
  {
   "cell_type": "code",
   "execution_count": 12,
   "metadata": {},
   "outputs": [
    {
     "name": "stdout",
     "output_type": "stream",
     "text": [
      "12\n"
     ]
    }
   ],
   "source": [
    "# 대입 연산자\n",
    "a += 5\n",
    "print(a)"
   ]
  },
  {
   "attachments": {},
   "cell_type": "markdown",
   "metadata": {},
   "source": [
    "### 조건문\n",
    " - if문"
   ]
  },
  {
   "cell_type": "code",
   "execution_count": 13,
   "metadata": {},
   "outputs": [
    {
     "name": "stdout",
     "output_type": "stream",
     "text": [
      "a는 10보다 작다\n"
     ]
    }
   ],
   "source": [
    "a = 5\n",
    "\n",
    "if a < 10:\n",
    "    print(\"a는 10보다 작다\")"
   ]
  },
  {
   "cell_type": "code",
   "execution_count": 14,
   "metadata": {},
   "outputs": [
    {
     "name": "stdout",
     "output_type": "stream",
     "text": [
      "a는 10보다 크거나 같다\n"
     ]
    }
   ],
   "source": [
    "# if else\n",
    "a = 20\n",
    "\n",
    "if a < 10:\n",
    "    print(\"a는 10보다 작다\")\n",
    "else:\n",
    "    print(\"a는 10보다 크거나 같다\")  "
   ]
  },
  {
   "cell_type": "code",
   "execution_count": 20,
   "metadata": {},
   "outputs": [
    {
     "name": "stdout",
     "output_type": "stream",
     "text": [
      "B\n",
      "프로그램 종료\n"
     ]
    }
   ],
   "source": [
    "# if elif else\n",
    "score = int(input(\"점수를 입력하세요: \"))\n",
    "\n",
    "if score > 90:\n",
    "    print(\"A\")\n",
    "elif score > 80:\n",
    "    print(\"B\")\n",
    "elif score > 70:\n",
    "    print(\"C\")    \n",
    "else:\n",
    "    print(\"F\")\n",
    "print(\"프로그램 종료\")  "
   ]
  },
  {
   "cell_type": "code",
   "execution_count": 18,
   "metadata": {},
   "outputs": [
    {
     "name": "stdout",
     "output_type": "stream",
     "text": [
      "0번째 반복\n",
      "1번째 반복\n",
      "2번째 반복\n",
      "3번째 반복\n",
      "4번째 반복\n",
      "5번째 반복\n",
      "6번째 반복\n",
      "7번째 반복\n",
      "8번째 반복\n",
      "9번째 반복\n"
     ]
    }
   ],
   "source": [
    "# 반복문\n",
    "# for문\n",
    "\n",
    "for i in range(0,10,1):\n",
    "    print(\"%d번째 반복\" %i)"
   ]
  },
  {
   "cell_type": "code",
   "execution_count": 24,
   "metadata": {},
   "outputs": [
    {
     "name": "stdout",
     "output_type": "stream",
     "text": [
      "1번째 합은 1 이다\n",
      "2번째 합은 3 이다\n",
      "3번째 합은 6 이다\n",
      "4번째 합은 10 이다\n",
      "5번째 합은 15 이다\n",
      "6번째 합은 21 이다\n",
      "7번째 합은 28 이다\n",
      "8번째 합은 36 이다\n",
      "9번째 합은 45 이다\n",
      "10번째 합은 55 이다\n",
      "1부터 10까지 합은 55\n"
     ]
    }
   ],
   "source": [
    "# 1부터 10까지 합산\n",
    "\n",
    "sum = 0\n",
    "\n",
    "for i in range(1,11,1):\n",
    "    sum += i\n",
    "    print(\"%d번째 합은 %d 이다\" %(i,sum))\n",
    "print(\"1부터 10까지 합은 %d\" %sum)"
   ]
  },
  {
   "cell_type": "code",
   "execution_count": 29,
   "metadata": {},
   "outputs": [
    {
     "name": "stdout",
     "output_type": "stream",
     "text": [
      " \n",
      "2단\n",
      "2*1=2 2*2=4 2*3=6 2*4=8 2*5=10 2*6=12 2*7=14 2*8=16 2*9=18  \n",
      "3단\n",
      "3*1=3 3*2=6 3*3=9 3*4=12 3*5=15 3*6=18 3*7=21 3*8=24 3*9=27  \n",
      "4단\n",
      "4*1=4 4*2=8 4*3=12 4*4=16 4*5=20 4*6=24 4*7=28 4*8=32 4*9=36  \n",
      "5단\n",
      "5*1=5 5*2=10 5*3=15 5*4=20 5*5=25 5*6=30 5*7=35 5*8=40 5*9=45  \n",
      "6단\n",
      "6*1=6 6*2=12 6*3=18 6*4=24 6*5=30 6*6=36 6*7=42 6*8=48 6*9=54  \n",
      "7단\n",
      "7*1=7 7*2=14 7*3=21 7*4=28 7*5=35 7*6=42 7*7=49 7*8=56 7*9=63  \n",
      "8단\n",
      "8*1=8 8*2=16 8*3=24 8*4=32 8*5=40 8*6=48 8*7=56 8*8=64 8*9=72  \n",
      "9단\n",
      "9*1=9 9*2=18 9*3=27 9*4=36 9*5=45 9*6=54 9*7=63 9*8=72 9*9=81 "
     ]
    }
   ],
   "source": [
    "#구구단\n",
    "\n",
    "for i in range(2,10,1):\n",
    "    print(end = \" \\n\")\n",
    "    print(\"%d단\" %i)\n",
    "    for j in range(1,10,1):\n",
    "        print(\"%d*%d=%d\" %(i,j,i*j), end =\" \")"
   ]
  },
  {
   "cell_type": "code",
   "execution_count": 33,
   "metadata": {},
   "outputs": [
    {
     "name": "stdout",
     "output_type": "stream",
     "text": [
      "2까지 합은 2이다\n",
      "4까지 합은 6이다\n",
      "6까지 합은 12이다\n",
      "8까지 합은 20이다\n",
      "10까지 합은 30이다\n",
      "12까지 합은 42이다\n",
      "14까지 합은 56이다\n",
      "16까지 합은 72이다\n",
      "18까지 합은 90이다\n",
      "20까지 합은 110이다\n",
      "22까지 합은 132이다\n",
      "24까지 합은 156이다\n",
      "26까지 합은 182이다\n",
      "28까지 합은 210이다\n",
      "30까지 합은 240이다\n",
      "32까지 합은 272이다\n",
      "34까지 합은 306이다\n",
      "36까지 합은 342이다\n",
      "38까지 합은 380이다\n",
      "40까지 합은 420이다\n",
      "42까지 합은 462이다\n",
      "44까지 합은 506이다\n",
      "46까지 합은 552이다\n",
      "48까지 합은 600이다\n",
      "50까지 합은 650이다\n",
      "52까지 합은 702이다\n",
      "54까지 합은 756이다\n",
      "56까지 합은 812이다\n",
      "58까지 합은 870이다\n",
      "60까지 합은 930이다\n",
      "62까지 합은 992이다\n",
      "64까지 합은 1056이다\n",
      "66까지 합은 1122이다\n",
      "68까지 합은 1190이다\n",
      "70까지 합은 1260이다\n",
      "72까지 합은 1332이다\n",
      "74까지 합은 1406이다\n",
      "76까지 합은 1482이다\n",
      "78까지 합은 1560이다\n",
      "80까지 합은 1640이다\n",
      "82까지 합은 1722이다\n",
      "84까지 합은 1806이다\n",
      "86까지 합은 1892이다\n",
      "88까지 합은 1980이다\n",
      "90까지 합은 2070이다\n",
      "92까지 합은 2162이다\n",
      "94까지 합은 2256이다\n",
      "96까지 합은 2352이다\n",
      "98까지 합은 2450이다\n",
      "100까지 합은 2550이다\n",
      "2550\n"
     ]
    }
   ],
   "source": [
    "# 1부터 100까지 숫자중에 짝수의 합계를 구한다.\n",
    "sum = 0\n",
    "for i in range(1,101,1):\n",
    "    if i%2==0:\n",
    "        sum += i\n",
    "        print(\"%d까지 합은 %d이다\" %(i,sum))\n",
    "print(sum)\n"
   ]
  },
  {
   "cell_type": "code",
   "execution_count": 32,
   "metadata": {},
   "outputs": [
    {
     "name": "stdout",
     "output_type": "stream",
     "text": [
      "1 4\n",
      "2 3\n",
      "3 2\n",
      "4 1\n"
     ]
    }
   ],
   "source": [
    "# 2개의 주사위를 굴려 두 2주사위의 합이 5가 되는 것\n",
    "\n",
    "\n",
    "for i in range(1,7,1):\n",
    "    for j in range(1,7,1):\n",
    "        if i + j == 5:\n",
    "            print(i,j)"
   ]
  },
  {
   "cell_type": "code",
   "execution_count": 34,
   "metadata": {},
   "outputs": [
    {
     "name": "stdout",
     "output_type": "stream",
     "text": [
      "0\n",
      "1\n",
      "2\n",
      "3\n",
      "4\n",
      "5\n",
      "6\n",
      "7\n",
      "8\n",
      "9\n"
     ]
    }
   ],
   "source": [
    "#while\n",
    "i = 0\n",
    "\n",
    "while i < 10:\n",
    "    print(i)\n",
    "    i += 1\n",
    "    "
   ]
  },
  {
   "cell_type": "code",
   "execution_count": 35,
   "metadata": {},
   "outputs": [
    {
     "name": "stdout",
     "output_type": "stream",
     "text": [
      "5번째 반복\n"
     ]
    }
   ],
   "source": [
    "# break\n",
    "\n",
    "for i in range(1,101,1):\n",
    "    if i == 5:\n",
    "        print(\"%d번째 반복\" %i)\n",
    "        break"
   ]
  },
  {
   "cell_type": "code",
   "execution_count": 37,
   "metadata": {},
   "outputs": [
    {
     "name": "stdout",
     "output_type": "stream",
     "text": [
      "합계가 500을 넘어가는 수는 32이고, 합계는 528이다\n"
     ]
    }
   ],
   "source": [
    "# 1부터 100까지 합계가 500이 넘어가는 숫자와 합계\n",
    "\n",
    "sum = 0\n",
    "for i in range(1,101,1):\n",
    "    sum += i\n",
    "    if sum > 500:\n",
    "        break\n",
    "print(\"합계가 500을 넘어가는 수는 %d이고, 합계는 %d이다\" %(i,sum))"
   ]
  },
  {
   "cell_type": "code",
   "execution_count": 48,
   "metadata": {},
   "outputs": [
    {
     "name": "stdout",
     "output_type": "stream",
     "text": [
      "합계가 500을 넘어가는 수는 32이고, 합계는 528이다\n"
     ]
    }
   ],
   "source": [
    "i = 1\n",
    "sum = 0\n",
    "\n",
    "while i <= 100:\n",
    "   sum += i\n",
    "   if sum >=500:\n",
    "    break\n",
    "   i += 1 \n",
    "\n",
    "print(\"합계가 500을 넘어가는 수는 %d이고, 합계는 %d이다\" %(i,sum))"
   ]
  },
  {
   "cell_type": "code",
   "execution_count": 53,
   "metadata": {},
   "outputs": [
    {
     "name": "stdout",
     "output_type": "stream",
     "text": [
      "2550\n"
     ]
    }
   ],
   "source": [
    "#continue\n",
    "# 짝수 합계\n",
    "sum = 0\n",
    "for i in range(1,101,1):\n",
    "    if i%2 != 0:\n",
    "        continue\n",
    "    sum += i\n",
    "\n",
    "print(sum)"
   ]
  },
  {
   "cell_type": "code",
   "execution_count": 54,
   "metadata": {},
   "outputs": [
    {
     "name": "stdout",
     "output_type": "stream",
     "text": [
      "(1, 'hello') (3, 3.14) (1, 'hello', 3, 3.14) (1, 'hello', 1, 'hello', 1, 'hello') hello\n"
     ]
    }
   ],
   "source": [
    "#튜플\n",
    "a = (1, \"hello\")\n",
    "b = (3, 3.14)\n",
    "c = a + b\n",
    "d = a * 3\n",
    "e = a[1]\n",
    "\n",
    "print(a,b,c,d,e)"
   ]
  },
  {
   "cell_type": "code",
   "execution_count": 59,
   "metadata": {},
   "outputs": [
    {
     "name": "stdout",
     "output_type": "stream",
     "text": [
      "[5, 10, 20, 50]\n",
      "[40, 30, 20, 10]\n",
      "[5, 10, 20, 50, 22]\n",
      "<class 'list'>\n"
     ]
    }
   ],
   "source": [
    "# list \n",
    "a = [20,10,50,5]\n",
    "b = [10,20,30,40]\n",
    "\n",
    "a.sort()\n",
    "print(a)\n",
    "b.reverse()\n",
    "print(b)\n",
    "a.append(22)\n",
    "print(a)\n",
    "c=list()\n",
    "print(type(c))"
   ]
  },
  {
   "cell_type": "code",
   "execution_count": 74,
   "metadata": {},
   "outputs": [
    {
     "name": "stdout",
     "output_type": "stream",
     "text": [
      "3의배수는\n",
      " [3, 6, 9, 12, 15, 18, 21, 24, 27, 30, 33, 36, 39, 42, 45, 48, 51, 54, 57, 60, 63, 66, 69]\n",
      "\n",
      " 합은 828 이다\n"
     ]
    }
   ],
   "source": [
    "a = []\n",
    "for i in range(1,71,1):\n",
    "    if i%3 == 0:\n",
    "        a.append(i)\n",
    "print(\"3의배수는\\n\",a)\n",
    "\n",
    "sum = 0\n",
    "for i in a:\n",
    "    sum += i\n",
    "print(\"\\n\",\"합은\", sum, \"이다\")\n"
   ]
  },
  {
   "cell_type": "code",
   "execution_count": 79,
   "metadata": {},
   "outputs": [
    {
     "name": "stdout",
     "output_type": "stream",
     "text": [
      "{'name': 'test1', 'age': 20, 'phone': '0102345566'}\n",
      "{'name': 'test1', 'age': 20, 'phone': '0102345566', 'area': 'seoul'}\n"
     ]
    }
   ],
   "source": [
    "#딕셔너리\n",
    "dic = {\n",
    "    \"name\" : \"test1\",\n",
    "    \"age\" : 20,\n",
    "    \"phone\" : \"0102345566\"\n",
    "}\n",
    "print(dic)\n",
    "dic[\"area\"] = \"seoul\"\n",
    "print(dic)"
   ]
  },
  {
   "cell_type": "code",
   "execution_count": 94,
   "metadata": {},
   "outputs": [
    {
     "name": "stdout",
     "output_type": "stream",
     "text": [
      "{'name': 'test1', 'age': 20}\n",
      "test1\n",
      "test1\n"
     ]
    }
   ],
   "source": [
    "test_data = [\n",
    "    {\n",
    "        \"name\" : \"test1\",\n",
    "        \"age\" : 20\n",
    "    },\n",
    "    {\n",
    "        \"name\" : \"test2\",\n",
    "        \"age\" : 30\n",
    "    },\n",
    "    {\n",
    "        \"name\" : \"test3\",\n",
    "        \"age\" : 40\n",
    "    }\n",
    "]\n",
    "\n",
    "b = test_data[0]\n",
    "print(b)\n",
    "c = b[\"name\"]\n",
    "print(c)\n",
    "\n",
    "print(test_data[0][\"name\"])"
   ]
  },
  {
   "cell_type": "code",
   "execution_count": 95,
   "metadata": {},
   "outputs": [
    {
     "name": "stdout",
     "output_type": "stream",
     "text": [
      "['test1', 'test2', 'test3']\n"
     ]
    }
   ],
   "source": [
    "names=[]\n",
    "\n",
    "for i in test_data:\n",
    "    names.append(i[\"name\"])\n",
    "print(names)"
   ]
  },
  {
   "cell_type": "code",
   "execution_count": 104,
   "metadata": {},
   "outputs": [
    {
     "name": "stdout",
     "output_type": "stream",
     "text": [
      " hello World  \n",
      " HELLO WORLD  \n",
      "hello World  \n",
      " hello World\n",
      "hello World\n",
      "helloWorld\n"
     ]
    }
   ],
   "source": [
    "#문자열 변환\n",
    "\n",
    "a = \" hello World  \"\n",
    "a.upper()\n",
    "print(a)\n",
    "print(a.upper())\n",
    "print(a.lstrip())\n",
    "print(a.rstrip())\n",
    "print(a.strip())\n",
    "print(a.replace(\" \",\"\"))"
   ]
  },
  {
   "cell_type": "code",
   "execution_count": 106,
   "metadata": {},
   "outputs": [
    {
     "name": "stdout",
     "output_type": "stream",
     "text": [
      "a,b,c,d,e\n",
      "['a', 'b', 'c', 'd', 'e']\n"
     ]
    }
   ],
   "source": [
    "a = \"a,b,c,d,e\"\n",
    "print(a)\n",
    "a.split(\",\")\n",
    "print(a.split(\",\"))"
   ]
  },
  {
   "attachments": {},
   "cell_type": "markdown",
   "metadata": {},
   "source": [
    "###함수"
   ]
  },
  {
   "cell_type": "code",
   "execution_count": 108,
   "metadata": {},
   "outputs": [
    {
     "name": "stdout",
     "output_type": "stream",
     "text": [
      "Hello world\n"
     ]
    }
   ],
   "source": [
    "def func_1():\n",
    "    return \"Hello world\"\n",
    "\n",
    "a = func_1()\n",
    "print(a)"
   ]
  },
  {
   "cell_type": "code",
   "execution_count": 110,
   "metadata": {},
   "outputs": [
    {
     "name": "stdout",
     "output_type": "stream",
     "text": [
      "4\n"
     ]
    }
   ],
   "source": [
    "def func_2(x,y):\n",
    "    result = x + y\n",
    "    return result\n",
    "print(func_2(1,3))"
   ]
  },
  {
   "cell_type": "code",
   "execution_count": 112,
   "metadata": {},
   "outputs": [
    {
     "name": "stdout",
     "output_type": "stream",
     "text": [
      "4\n",
      "6\n"
     ]
    }
   ],
   "source": [
    "def func_3(x,y=3):\n",
    "    result = x + y\n",
    "    return result\n",
    "print(func_3(1,3))\n",
    "print(func_3(3))"
   ]
  },
  {
   "cell_type": "code",
   "execution_count": 117,
   "metadata": {},
   "outputs": [
    {
     "name": "stdout",
     "output_type": "stream",
     "text": [
      "25\n",
      "8\n"
     ]
    }
   ],
   "source": [
    "def func_4(x,y):\n",
    "    result = x ** y\n",
    "    return result\n",
    "print(func_4(5,2))\n",
    "print(func_4(y=3, x=2))\n"
   ]
  },
  {
   "cell_type": "code",
   "execution_count": 147,
   "metadata": {},
   "outputs": [
    {
     "name": "stdout",
     "output_type": "stream",
     "text": [
      "55\n",
      "54\n"
     ]
    }
   ],
   "source": [
    "def func_5(x,y):\n",
    "    sum = 0\n",
    "    if x < y:\n",
    "        for i in range(x,y+1,1):\n",
    "            sum += i\n",
    "        return sum\n",
    "    else:\n",
    "        for i in range(y,x+1,1):\n",
    "            sum += i\n",
    "        return sum\n",
    "print(func_5(1,10))\n",
    "print(func_5(10,2))"
   ]
  },
  {
   "cell_type": "code",
   "execution_count": 148,
   "metadata": {},
   "outputs": [
    {
     "name": "stdout",
     "output_type": "stream",
     "text": [
      "55\n",
      "54\n"
     ]
    }
   ],
   "source": [
    "def func_5(x,y):\n",
    "\n",
    "    sum = 0\n",
    "    for i in range(min(x,y),max(x,y)+1,1):\n",
    "        sum += i\n",
    "    return sum\n",
    "    \n",
    "print(func_5(1,10))\n",
    "print(func_5(10,2))"
   ]
  },
  {
   "cell_type": "code",
   "execution_count": 145,
   "metadata": {},
   "outputs": [
    {
     "name": "stdout",
     "output_type": "stream",
     "text": [
      "55\n",
      "54\n"
     ]
    }
   ],
   "source": [
    "def func_6(x,y):\n",
    "\n",
    "    a = min(x,y)\n",
    "    b = max(x,y)\n",
    "    sum = 0\n",
    "    while a <= b:\n",
    "        sum += a\n",
    "        a += 1\n",
    "    return sum\n",
    "    \n",
    "print(func_6(1,10))\n",
    "print(func_6(10,2))"
   ]
  },
  {
   "cell_type": "code",
   "execution_count": 160,
   "metadata": {},
   "outputs": [
    {
     "name": "stdout",
     "output_type": "stream",
     "text": [
      "15\n",
      "5\n",
      "연산식이 잘못되었습니다.\n"
     ]
    }
   ],
   "source": [
    "# 매개변수 3개 x, y ,z \n",
    "# z값이 \"합\"이면 x+y \n",
    "# z값이 \"차\"이면 x-y 리턴\n",
    "# z값이 둘다 아니면 \"연산값이 잘못되었습니다.\"\n",
    "\n",
    "def func_7(x,y,z):\n",
    "    if z == \"합\":\n",
    "        result = x+y\n",
    "    elif z == \"차\":\n",
    "        result = x-y\n",
    "    else:\n",
    "        result =\"연산식이 잘못되었습니다.\"\n",
    "    return result\n",
    "\n",
    "print(func_7(10,5,'합'))\n",
    "print(func_7(10,5,\"차\"))\n",
    "print(func_7(10,5,\"곱\"))"
   ]
  },
  {
   "cell_type": "code",
   "execution_count": 173,
   "metadata": {},
   "outputs": [
    {
     "name": "stdout",
     "output_type": "stream",
     "text": [
      "[1, 4, 9, 16]\n"
     ]
    }
   ],
   "source": [
    "def func_8(x):\n",
    "    result = x**2\n",
    "    return result\n",
    "\n",
    "result=[]\n",
    "a = [1,2,3,4]\n",
    "for i in a:\n",
    "    result.append(func_8(i))\n",
    "print(result)    \n",
    "\n"
   ]
  },
  {
   "cell_type": "code",
   "execution_count": 174,
   "metadata": {},
   "outputs": [
    {
     "name": "stdout",
     "output_type": "stream",
     "text": [
      "[1, 4, 9, 16]\n"
     ]
    }
   ],
   "source": [
    "#map 함수\n",
    "result_2 = list(map(func_8, a))\n",
    "print(result_2)\n"
   ]
  },
  {
   "cell_type": "code",
   "execution_count": 175,
   "metadata": {},
   "outputs": [
    {
     "name": "stdout",
     "output_type": "stream",
     "text": [
      "[1, 4, 9, 16]\n"
     ]
    }
   ],
   "source": [
    "# lambda 함수\n",
    "lamb = lambda x : x**2\n",
    "print(list(map(lamb,a)))\n"
   ]
  },
  {
   "cell_type": "code",
   "execution_count": null,
   "metadata": {},
   "outputs": [],
   "source": []
  }
 ],
 "metadata": {
  "kernelspec": {
   "display_name": "Python 3",
   "language": "python",
   "name": "python3"
  },
  "language_info": {
   "codemirror_mode": {
    "name": "ipython",
    "version": 3
   },
   "file_extension": ".py",
   "mimetype": "text/x-python",
   "name": "python",
   "nbconvert_exporter": "python",
   "pygments_lexer": "ipython3",
   "version": "3.11.1 (tags/v3.11.1:a7a450f, Dec  6 2022, 19:58:39) [MSC v.1934 64 bit (AMD64)]"
  },
  "orig_nbformat": 4,
  "vscode": {
   "interpreter": {
    "hash": "d83fa9b78f6d32ae369e3b25d0bdfb8546935a326f61d3bc2625644343d73d1f"
   }
  }
 },
 "nbformat": 4,
 "nbformat_minor": 2
}
