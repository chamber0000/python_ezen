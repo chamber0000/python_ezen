{
 "cells": [
  {
   "cell_type": "code",
   "execution_count": 22,
   "metadata": {},
   "outputs": [],
   "source": [
    "import pandas as pd\n",
    "import seaborn as sns"
   ]
  },
  {
   "cell_type": "code",
   "execution_count": 77,
   "metadata": {},
   "outputs": [
    {
     "data": {
      "text/html": [
       "<div>\n",
       "<style scoped>\n",
       "    .dataframe tbody tr th:only-of-type {\n",
       "        vertical-align: middle;\n",
       "    }\n",
       "\n",
       "    .dataframe tbody tr th {\n",
       "        vertical-align: top;\n",
       "    }\n",
       "\n",
       "    .dataframe thead th {\n",
       "        text-align: right;\n",
       "    }\n",
       "</style>\n",
       "<table border=\"1\" class=\"dataframe\">\n",
       "  <thead>\n",
       "    <tr style=\"text-align: right;\">\n",
       "      <th></th>\n",
       "      <th>total_bill</th>\n",
       "      <th>tip</th>\n",
       "      <th>sex</th>\n",
       "      <th>smoker</th>\n",
       "      <th>day</th>\n",
       "      <th>time</th>\n",
       "      <th>size</th>\n",
       "    </tr>\n",
       "  </thead>\n",
       "  <tbody>\n",
       "    <tr>\n",
       "      <th>0</th>\n",
       "      <td>16.99</td>\n",
       "      <td>1.01</td>\n",
       "      <td>Female</td>\n",
       "      <td>No</td>\n",
       "      <td>Sun</td>\n",
       "      <td>Dinner</td>\n",
       "      <td>2</td>\n",
       "    </tr>\n",
       "    <tr>\n",
       "      <th>1</th>\n",
       "      <td>10.34</td>\n",
       "      <td>1.66</td>\n",
       "      <td>Male</td>\n",
       "      <td>No</td>\n",
       "      <td>Sun</td>\n",
       "      <td>Dinner</td>\n",
       "      <td>3</td>\n",
       "    </tr>\n",
       "  </tbody>\n",
       "</table>\n",
       "</div>"
      ],
      "text/plain": [
       "   total_bill   tip     sex smoker  day    time  size\n",
       "0       16.99  1.01  Female     No  Sun  Dinner     2\n",
       "1       10.34  1.66    Male     No  Sun  Dinner     3"
      ]
     },
     "execution_count": 77,
     "metadata": {},
     "output_type": "execute_result"
    }
   ],
   "source": [
    "tips = sns.load_dataset('tips')\n",
    "tips.head(2)"
   ]
  },
  {
   "attachments": {},
   "cell_type": "markdown",
   "metadata": {},
   "source": [
    "1. 컬럼의 이름변경 -> [총 금액, 팁, 성별, 흡연여부, 요일, 시간 인원]\n",
    "2. 총 금액과 팁 컬럼의 데이터를 소수점 첫째 자리까지 유지하고 반올림\n",
    "3. 식사 인원, 성별에 따라(그룹화), 팁의 비율의 평균값을 구하고 시각화(바형 그래프)"
   ]
  },
  {
   "cell_type": "code",
   "execution_count": 78,
   "metadata": {},
   "outputs": [],
   "source": [
    "tips.columns = ['총 금액', '팁', '성별', '흡연여부','요일','시간','인원']"
   ]
  },
  {
   "cell_type": "code",
   "execution_count": 79,
   "metadata": {},
   "outputs": [
    {
     "name": "stdout",
     "output_type": "stream",
     "text": [
      "<class 'pandas.core.frame.DataFrame'>\n",
      "RangeIndex: 244 entries, 0 to 243\n",
      "Data columns (total 7 columns):\n",
      " #   Column  Non-Null Count  Dtype   \n",
      "---  ------  --------------  -----   \n",
      " 0   총 금액    244 non-null    float64 \n",
      " 1   팁       244 non-null    float64 \n",
      " 2   성별      244 non-null    category\n",
      " 3   흡연여부    244 non-null    category\n",
      " 4   요일      244 non-null    category\n",
      " 5   시간      244 non-null    category\n",
      " 6   인원      244 non-null    int64   \n",
      "dtypes: category(4), float64(2), int64(1)\n",
      "memory usage: 7.4 KB\n"
     ]
    }
   ],
   "source": [
    "tips.info()"
   ]
  },
  {
   "cell_type": "code",
   "execution_count": 80,
   "metadata": {},
   "outputs": [],
   "source": [
    "#tips['총 금액'] = round(tips['총 금액'],1)\n",
    "#tips['팁'] = round(tips['팁'],1)\n",
    "\n",
    "#tips['총 금액'] = tips['총 금액'].round(1)\n",
    "#tips['팁'] = tips['팁'].round(1)\n",
    "\n",
    "tips[['총 금액','팁']] = tips[['총 금액','팁']].round(1)"
   ]
  },
  {
   "cell_type": "code",
   "execution_count": 81,
   "metadata": {},
   "outputs": [
    {
     "data": {
      "text/html": [
       "<div>\n",
       "<style scoped>\n",
       "    .dataframe tbody tr th:only-of-type {\n",
       "        vertical-align: middle;\n",
       "    }\n",
       "\n",
       "    .dataframe tbody tr th {\n",
       "        vertical-align: top;\n",
       "    }\n",
       "\n",
       "    .dataframe thead th {\n",
       "        text-align: right;\n",
       "    }\n",
       "</style>\n",
       "<table border=\"1\" class=\"dataframe\">\n",
       "  <thead>\n",
       "    <tr style=\"text-align: right;\">\n",
       "      <th></th>\n",
       "      <th>총 금액</th>\n",
       "      <th>팁</th>\n",
       "      <th>성별</th>\n",
       "      <th>흡연여부</th>\n",
       "      <th>요일</th>\n",
       "      <th>시간</th>\n",
       "      <th>인원</th>\n",
       "    </tr>\n",
       "  </thead>\n",
       "  <tbody>\n",
       "    <tr>\n",
       "      <th>0</th>\n",
       "      <td>17.0</td>\n",
       "      <td>1.0</td>\n",
       "      <td>Female</td>\n",
       "      <td>No</td>\n",
       "      <td>Sun</td>\n",
       "      <td>Dinner</td>\n",
       "      <td>2</td>\n",
       "    </tr>\n",
       "    <tr>\n",
       "      <th>1</th>\n",
       "      <td>10.3</td>\n",
       "      <td>1.7</td>\n",
       "      <td>Male</td>\n",
       "      <td>No</td>\n",
       "      <td>Sun</td>\n",
       "      <td>Dinner</td>\n",
       "      <td>3</td>\n",
       "    </tr>\n",
       "  </tbody>\n",
       "</table>\n",
       "</div>"
      ],
      "text/plain": [
       "   총 금액    팁      성별 흡연여부   요일      시간  인원\n",
       "0  17.0  1.0  Female   No  Sun  Dinner   2\n",
       "1  10.3  1.7    Male   No  Sun  Dinner   3"
      ]
     },
     "execution_count": 81,
     "metadata": {},
     "output_type": "execute_result"
    }
   ],
   "source": [
    "tips.head(2)"
   ]
  },
  {
   "cell_type": "code",
   "execution_count": 215,
   "metadata": {},
   "outputs": [
    {
     "data": {
      "text/html": [
       "<div>\n",
       "<style scoped>\n",
       "    .dataframe tbody tr th:only-of-type {\n",
       "        vertical-align: middle;\n",
       "    }\n",
       "\n",
       "    .dataframe tbody tr th {\n",
       "        vertical-align: top;\n",
       "    }\n",
       "\n",
       "    .dataframe thead th {\n",
       "        text-align: right;\n",
       "    }\n",
       "</style>\n",
       "<table border=\"1\" class=\"dataframe\">\n",
       "  <thead>\n",
       "    <tr style=\"text-align: right;\">\n",
       "      <th></th>\n",
       "      <th>총 금액</th>\n",
       "      <th>팁</th>\n",
       "      <th>성별</th>\n",
       "      <th>흡연여부</th>\n",
       "      <th>요일</th>\n",
       "      <th>시간</th>\n",
       "      <th>인원</th>\n",
       "      <th>팁의 비율</th>\n",
       "      <th>팁 비율</th>\n",
       "    </tr>\n",
       "  </thead>\n",
       "  <tbody>\n",
       "    <tr>\n",
       "      <th>0</th>\n",
       "      <td>17.0</td>\n",
       "      <td>1.0</td>\n",
       "      <td>Female</td>\n",
       "      <td>No</td>\n",
       "      <td>Sun</td>\n",
       "      <td>Dinner</td>\n",
       "      <td>2</td>\n",
       "      <td>5.882353</td>\n",
       "      <td>5.882353</td>\n",
       "    </tr>\n",
       "    <tr>\n",
       "      <th>1</th>\n",
       "      <td>10.3</td>\n",
       "      <td>1.7</td>\n",
       "      <td>Male</td>\n",
       "      <td>No</td>\n",
       "      <td>Sun</td>\n",
       "      <td>Dinner</td>\n",
       "      <td>3</td>\n",
       "      <td>16.504854</td>\n",
       "      <td>16.504854</td>\n",
       "    </tr>\n",
       "    <tr>\n",
       "      <th>2</th>\n",
       "      <td>21.0</td>\n",
       "      <td>3.5</td>\n",
       "      <td>Male</td>\n",
       "      <td>No</td>\n",
       "      <td>Sun</td>\n",
       "      <td>Dinner</td>\n",
       "      <td>3</td>\n",
       "      <td>16.666667</td>\n",
       "      <td>16.666667</td>\n",
       "    </tr>\n",
       "  </tbody>\n",
       "</table>\n",
       "</div>"
      ],
      "text/plain": [
       "   총 금액    팁      성별 흡연여부   요일      시간  인원      팁의 비율       팁 비율\n",
       "0  17.0  1.0  Female   No  Sun  Dinner   2   5.882353   5.882353\n",
       "1  10.3  1.7    Male   No  Sun  Dinner   3  16.504854  16.504854\n",
       "2  21.0  3.5    Male   No  Sun  Dinner   3  16.666667  16.666667"
      ]
     },
     "execution_count": 215,
     "metadata": {},
     "output_type": "execute_result"
    }
   ],
   "source": [
    "# 팁 비율 = (팁 / 총 금액) *100\n",
    "tips['팁 비율'] = tips['팁'] / tips['총 금액'] * 100\n",
    "tips.head(3)"
   ]
  },
  {
   "cell_type": "code",
   "execution_count": 216,
   "metadata": {},
   "outputs": [
    {
     "name": "stderr",
     "output_type": "stream",
     "text": [
      "C:\\Users\\ezen\\AppData\\Local\\Temp\\ipykernel_2472\\1450570463.py:1: FutureWarning: The default value of numeric_only in DataFrameGroupBy.mean is deprecated. In a future version, numeric_only will default to False. Either specify numeric_only or select only columns which should be valid for the function.\n",
      "  group_data = tips.groupby(['인원','성별']).mean()['팁 비율']\n"
     ]
    },
    {
     "data": {
      "text/plain": [
       "인원  성별    \n",
       "1   Male      22.093023\n",
       "    Female    21.322912\n",
       "2   Male      16.273796\n",
       "    Female    17.053626\n",
       "3   Male      14.763093\n",
       "    Female    16.025679\n",
       "4   Male      15.017047\n",
       "    Female    13.267871\n",
       "5   Male      13.371547\n",
       "    Female    17.114094\n",
       "6   Male      14.953486\n",
       "    Female    16.306239\n",
       "Name: 팁 비율, dtype: float64"
      ]
     },
     "execution_count": 216,
     "metadata": {},
     "output_type": "execute_result"
    }
   ],
   "source": [
    "group_data = tips.groupby(['인원','성별']).mean()['팁 비율']\n",
    "group_data"
   ]
  },
  {
   "cell_type": "code",
   "execution_count": 217,
   "metadata": {},
   "outputs": [
    {
     "data": {
      "text/plain": [
       "<AxesSubplot: ylabel='인원,성별'>"
      ]
     },
     "execution_count": 217,
     "metadata": {},
     "output_type": "execute_result"
    },
    {
     "name": "stderr",
     "output_type": "stream",
     "text": [
      "C:\\Users\\ezen\\AppData\\Roaming\\Python\\Python311\\site-packages\\IPython\\core\\events.py:89: UserWarning: Glyph 51064 (\\N{HANGUL SYLLABLE IN}) missing from current font.\n",
      "  func(*args, **kwargs)\n",
      "C:\\Users\\ezen\\AppData\\Roaming\\Python\\Python311\\site-packages\\IPython\\core\\events.py:89: UserWarning: Glyph 50896 (\\N{HANGUL SYLLABLE WEON}) missing from current font.\n",
      "  func(*args, **kwargs)\n",
      "C:\\Users\\ezen\\AppData\\Roaming\\Python\\Python311\\site-packages\\IPython\\core\\events.py:89: UserWarning: Glyph 49457 (\\N{HANGUL SYLLABLE SEONG}) missing from current font.\n",
      "  func(*args, **kwargs)\n",
      "C:\\Users\\ezen\\AppData\\Roaming\\Python\\Python311\\site-packages\\IPython\\core\\events.py:89: UserWarning: Glyph 48324 (\\N{HANGUL SYLLABLE BYEOL}) missing from current font.\n",
      "  func(*args, **kwargs)\n",
      "C:\\Users\\ezen\\AppData\\Roaming\\Python\\Python311\\site-packages\\IPython\\core\\pylabtools.py:152: UserWarning: Glyph 51064 (\\N{HANGUL SYLLABLE IN}) missing from current font.\n",
      "  fig.canvas.print_figure(bytes_io, **kw)\n",
      "C:\\Users\\ezen\\AppData\\Roaming\\Python\\Python311\\site-packages\\IPython\\core\\pylabtools.py:152: UserWarning: Glyph 50896 (\\N{HANGUL SYLLABLE WEON}) missing from current font.\n",
      "  fig.canvas.print_figure(bytes_io, **kw)\n",
      "C:\\Users\\ezen\\AppData\\Roaming\\Python\\Python311\\site-packages\\IPython\\core\\pylabtools.py:152: UserWarning: Glyph 49457 (\\N{HANGUL SYLLABLE SEONG}) missing from current font.\n",
      "  fig.canvas.print_figure(bytes_io, **kw)\n",
      "C:\\Users\\ezen\\AppData\\Roaming\\Python\\Python311\\site-packages\\IPython\\core\\pylabtools.py:152: UserWarning: Glyph 48324 (\\N{HANGUL SYLLABLE BYEOL}) missing from current font.\n",
      "  fig.canvas.print_figure(bytes_io, **kw)\n"
     ]
    },
    {
     "data": {
      "image/png": "[encoded data removed]",
      "text/plain": [
       "<Figure size 640x480 with 1 Axes>"
      ]
     },
     "metadata": {},
     "output_type": "display_data"
    }
   ],
   "source": [
    "# matplot 사용하지 않고 출력\n",
    "\n",
    "# tips_group.plot.bar()\n",
    "group_data.plot.barh()  # 수평 바형 그래프"
   ]
  },
  {
   "cell_type": "code",
   "execution_count": 218,
   "metadata": {},
   "outputs": [],
   "source": [
    "import matplotlib.pyplot as plt"
   ]
  },
  {
   "cell_type": "code",
   "execution_count": 119,
   "metadata": {},
   "outputs": [
    {
     "data": {
      "image/png": "[encoded data removed]",
      "text/plain": [
       "<Figure size 640x480 with 1 Axes>"
      ]
     },
     "metadata": {},
     "output_type": "display_data"
    }
   ],
   "source": [
    "x = group_data.index\n",
    "list_x = list(range(0,len(x),1))\n",
    "y = group_data.values   # 시리즈 형태라서 \n",
    "plt.barh(list_x,y)\n",
    "plt.yticks(list_x,x)\n",
    "\n",
    "plt.show()"
   ]
  },
  {
   "cell_type": "code",
   "execution_count": 219,
   "metadata": {},
   "outputs": [
    {
     "name": "stderr",
     "output_type": "stream",
     "text": [
      "C:\\Users\\ezen\\AppData\\Local\\Temp\\ipykernel_2472\\153376217.py:1: FutureWarning: The default value of numeric_only in DataFrameGroupBy.mean is deprecated. In a future version, numeric_only will default to False. Either specify numeric_only or select only columns which should be valid for the function.\n",
      "  group_data = tips.groupby(['인원','성별']).mean()[['팁 비율']]\n"
     ]
    },
    {
     "data": {
      "text/html": [
       "<div>\n",
       "<style scoped>\n",
       "    .dataframe tbody tr th:only-of-type {\n",
       "        vertical-align: middle;\n",
       "    }\n",
       "\n",
       "    .dataframe tbody tr th {\n",
       "        vertical-align: top;\n",
       "    }\n",
       "\n",
       "    .dataframe thead th {\n",
       "        text-align: right;\n",
       "    }\n",
       "</style>\n",
       "<table border=\"1\" class=\"dataframe\">\n",
       "  <thead>\n",
       "    <tr style=\"text-align: right;\">\n",
       "      <th></th>\n",
       "      <th></th>\n",
       "      <th>팁 비율</th>\n",
       "    </tr>\n",
       "    <tr>\n",
       "      <th>인원</th>\n",
       "      <th>성별</th>\n",
       "      <th></th>\n",
       "    </tr>\n",
       "  </thead>\n",
       "  <tbody>\n",
       "    <tr>\n",
       "      <th rowspan=\"2\" valign=\"top\">1</th>\n",
       "      <th>Male</th>\n",
       "      <td>22.093023</td>\n",
       "    </tr>\n",
       "    <tr>\n",
       "      <th>Female</th>\n",
       "      <td>21.322912</td>\n",
       "    </tr>\n",
       "    <tr>\n",
       "      <th rowspan=\"2\" valign=\"top\">2</th>\n",
       "      <th>Male</th>\n",
       "      <td>16.273796</td>\n",
       "    </tr>\n",
       "    <tr>\n",
       "      <th>Female</th>\n",
       "      <td>17.053626</td>\n",
       "    </tr>\n",
       "    <tr>\n",
       "      <th rowspan=\"2\" valign=\"top\">3</th>\n",
       "      <th>Male</th>\n",
       "      <td>14.763093</td>\n",
       "    </tr>\n",
       "    <tr>\n",
       "      <th>Female</th>\n",
       "      <td>16.025679</td>\n",
       "    </tr>\n",
       "    <tr>\n",
       "      <th rowspan=\"2\" valign=\"top\">4</th>\n",
       "      <th>Male</th>\n",
       "      <td>15.017047</td>\n",
       "    </tr>\n",
       "    <tr>\n",
       "      <th>Female</th>\n",
       "      <td>13.267871</td>\n",
       "    </tr>\n",
       "    <tr>\n",
       "      <th rowspan=\"2\" valign=\"top\">5</th>\n",
       "      <th>Male</th>\n",
       "      <td>13.371547</td>\n",
       "    </tr>\n",
       "    <tr>\n",
       "      <th>Female</th>\n",
       "      <td>17.114094</td>\n",
       "    </tr>\n",
       "    <tr>\n",
       "      <th rowspan=\"2\" valign=\"top\">6</th>\n",
       "      <th>Male</th>\n",
       "      <td>14.953486</td>\n",
       "    </tr>\n",
       "    <tr>\n",
       "      <th>Female</th>\n",
       "      <td>16.306239</td>\n",
       "    </tr>\n",
       "  </tbody>\n",
       "</table>\n",
       "</div>"
      ],
      "text/plain": [
       "                팁 비율\n",
       "인원 성별               \n",
       "1  Male    22.093023\n",
       "   Female  21.322912\n",
       "2  Male    16.273796\n",
       "   Female  17.053626\n",
       "3  Male    14.763093\n",
       "   Female  16.025679\n",
       "4  Male    15.017047\n",
       "   Female  13.267871\n",
       "5  Male    13.371547\n",
       "   Female  17.114094\n",
       "6  Male    14.953486\n",
       "   Female  16.306239"
      ]
     },
     "execution_count": 219,
     "metadata": {},
     "output_type": "execute_result"
    }
   ],
   "source": [
    "group_data = tips.groupby(['인원','성별']).mean()[['팁 비율']]\n",
    "group_data"
   ]
  },
  {
   "attachments": {},
   "cell_type": "markdown",
   "metadata": {},
   "source": [
    "1. 남자의 팁 비율 데이터프레임 생성\n",
    "2. 여자의 팁 비율 데이터프레임 생성\n",
    "3. 2개의 데이터프레임을 시각화"
   ]
  },
  {
   "cell_type": "code",
   "execution_count": 222,
   "metadata": {},
   "outputs": [
    {
     "data": {
      "text/plain": [
       "MultiIndex([(1,   'Male'),\n",
       "            (1, 'Female'),\n",
       "            (2,   'Male'),\n",
       "            (2, 'Female'),\n",
       "            (3,   'Male'),\n",
       "            (3, 'Female'),\n",
       "            (4,   'Male'),\n",
       "            (4, 'Female'),\n",
       "            (5,   'Male'),\n",
       "            (5, 'Female'),\n",
       "            (6,   'Male'),\n",
       "            (6, 'Female')],\n",
       "           names=['인원', '성별'])"
      ]
     },
     "execution_count": 222,
     "metadata": {},
     "output_type": "execute_result"
    }
   ],
   "source": [
    "group_data.index"
   ]
  },
  {
   "cell_type": "code",
   "execution_count": 223,
   "metadata": {},
   "outputs": [
    {
     "data": {
      "text/html": [
       "<div>\n",
       "<style scoped>\n",
       "    .dataframe tbody tr th:only-of-type {\n",
       "        vertical-align: middle;\n",
       "    }\n",
       "\n",
       "    .dataframe tbody tr th {\n",
       "        vertical-align: top;\n",
       "    }\n",
       "\n",
       "    .dataframe thead th {\n",
       "        text-align: right;\n",
       "    }\n",
       "</style>\n",
       "<table border=\"1\" class=\"dataframe\">\n",
       "  <thead>\n",
       "    <tr style=\"text-align: right;\">\n",
       "      <th></th>\n",
       "      <th>총 금액</th>\n",
       "      <th>팁</th>\n",
       "      <th>성별</th>\n",
       "      <th>흡연여부</th>\n",
       "      <th>요일</th>\n",
       "      <th>시간</th>\n",
       "      <th>인원</th>\n",
       "      <th>팁의 비율</th>\n",
       "      <th>팁 비율</th>\n",
       "    </tr>\n",
       "  </thead>\n",
       "  <tbody>\n",
       "    <tr>\n",
       "      <th>0</th>\n",
       "      <td>17.0</td>\n",
       "      <td>1.0</td>\n",
       "      <td>Female</td>\n",
       "      <td>No</td>\n",
       "      <td>Sun</td>\n",
       "      <td>Dinner</td>\n",
       "      <td>2</td>\n",
       "      <td>5.882353</td>\n",
       "      <td>5.882353</td>\n",
       "    </tr>\n",
       "    <tr>\n",
       "      <th>1</th>\n",
       "      <td>10.3</td>\n",
       "      <td>1.7</td>\n",
       "      <td>Male</td>\n",
       "      <td>No</td>\n",
       "      <td>Sun</td>\n",
       "      <td>Dinner</td>\n",
       "      <td>3</td>\n",
       "      <td>16.504854</td>\n",
       "      <td>16.504854</td>\n",
       "    </tr>\n",
       "    <tr>\n",
       "      <th>2</th>\n",
       "      <td>21.0</td>\n",
       "      <td>3.5</td>\n",
       "      <td>Male</td>\n",
       "      <td>No</td>\n",
       "      <td>Sun</td>\n",
       "      <td>Dinner</td>\n",
       "      <td>3</td>\n",
       "      <td>16.666667</td>\n",
       "      <td>16.666667</td>\n",
       "    </tr>\n",
       "    <tr>\n",
       "      <th>3</th>\n",
       "      <td>23.7</td>\n",
       "      <td>3.3</td>\n",
       "      <td>Male</td>\n",
       "      <td>No</td>\n",
       "      <td>Sun</td>\n",
       "      <td>Dinner</td>\n",
       "      <td>2</td>\n",
       "      <td>13.924051</td>\n",
       "      <td>13.924051</td>\n",
       "    </tr>\n",
       "    <tr>\n",
       "      <th>4</th>\n",
       "      <td>24.6</td>\n",
       "      <td>3.6</td>\n",
       "      <td>Female</td>\n",
       "      <td>No</td>\n",
       "      <td>Sun</td>\n",
       "      <td>Dinner</td>\n",
       "      <td>4</td>\n",
       "      <td>14.634146</td>\n",
       "      <td>14.634146</td>\n",
       "    </tr>\n",
       "    <tr>\n",
       "      <th>...</th>\n",
       "      <td>...</td>\n",
       "      <td>...</td>\n",
       "      <td>...</td>\n",
       "      <td>...</td>\n",
       "      <td>...</td>\n",
       "      <td>...</td>\n",
       "      <td>...</td>\n",
       "      <td>...</td>\n",
       "      <td>...</td>\n",
       "    </tr>\n",
       "    <tr>\n",
       "      <th>239</th>\n",
       "      <td>29.0</td>\n",
       "      <td>5.9</td>\n",
       "      <td>Male</td>\n",
       "      <td>No</td>\n",
       "      <td>Sat</td>\n",
       "      <td>Dinner</td>\n",
       "      <td>3</td>\n",
       "      <td>20.344828</td>\n",
       "      <td>20.344828</td>\n",
       "    </tr>\n",
       "    <tr>\n",
       "      <th>240</th>\n",
       "      <td>27.2</td>\n",
       "      <td>2.0</td>\n",
       "      <td>Female</td>\n",
       "      <td>Yes</td>\n",
       "      <td>Sat</td>\n",
       "      <td>Dinner</td>\n",
       "      <td>2</td>\n",
       "      <td>7.352941</td>\n",
       "      <td>7.352941</td>\n",
       "    </tr>\n",
       "    <tr>\n",
       "      <th>241</th>\n",
       "      <td>22.7</td>\n",
       "      <td>2.0</td>\n",
       "      <td>Male</td>\n",
       "      <td>Yes</td>\n",
       "      <td>Sat</td>\n",
       "      <td>Dinner</td>\n",
       "      <td>2</td>\n",
       "      <td>8.810573</td>\n",
       "      <td>8.810573</td>\n",
       "    </tr>\n",
       "    <tr>\n",
       "      <th>242</th>\n",
       "      <td>17.8</td>\n",
       "      <td>1.8</td>\n",
       "      <td>Male</td>\n",
       "      <td>No</td>\n",
       "      <td>Sat</td>\n",
       "      <td>Dinner</td>\n",
       "      <td>2</td>\n",
       "      <td>10.112360</td>\n",
       "      <td>10.112360</td>\n",
       "    </tr>\n",
       "    <tr>\n",
       "      <th>243</th>\n",
       "      <td>18.8</td>\n",
       "      <td>3.0</td>\n",
       "      <td>Female</td>\n",
       "      <td>No</td>\n",
       "      <td>Thur</td>\n",
       "      <td>Dinner</td>\n",
       "      <td>2</td>\n",
       "      <td>15.957447</td>\n",
       "      <td>15.957447</td>\n",
       "    </tr>\n",
       "  </tbody>\n",
       "</table>\n",
       "<p>244 rows × 9 columns</p>\n",
       "</div>"
      ],
      "text/plain": [
       "     총 금액    팁      성별 흡연여부    요일      시간  인원      팁의 비율       팁 비율\n",
       "0    17.0  1.0  Female   No   Sun  Dinner   2   5.882353   5.882353\n",
       "1    10.3  1.7    Male   No   Sun  Dinner   3  16.504854  16.504854\n",
       "2    21.0  3.5    Male   No   Sun  Dinner   3  16.666667  16.666667\n",
       "3    23.7  3.3    Male   No   Sun  Dinner   2  13.924051  13.924051\n",
       "4    24.6  3.6  Female   No   Sun  Dinner   4  14.634146  14.634146\n",
       "..    ...  ...     ...  ...   ...     ...  ..        ...        ...\n",
       "239  29.0  5.9    Male   No   Sat  Dinner   3  20.344828  20.344828\n",
       "240  27.2  2.0  Female  Yes   Sat  Dinner   2   7.352941   7.352941\n",
       "241  22.7  2.0    Male  Yes   Sat  Dinner   2   8.810573   8.810573\n",
       "242  17.8  1.8    Male   No   Sat  Dinner   2  10.112360  10.112360\n",
       "243  18.8  3.0  Female   No  Thur  Dinner   2  15.957447  15.957447\n",
       "\n",
       "[244 rows x 9 columns]"
      ]
     },
     "execution_count": 223,
     "metadata": {},
     "output_type": "execute_result"
    }
   ],
   "source": [
    "tips"
   ]
  },
  {
   "cell_type": "code",
   "execution_count": 224,
   "metadata": {},
   "outputs": [
    {
     "data": {
      "text/html": [
       "<div>\n",
       "<style scoped>\n",
       "    .dataframe tbody tr th:only-of-type {\n",
       "        vertical-align: middle;\n",
       "    }\n",
       "\n",
       "    .dataframe tbody tr th {\n",
       "        vertical-align: top;\n",
       "    }\n",
       "\n",
       "    .dataframe thead th {\n",
       "        text-align: right;\n",
       "    }\n",
       "</style>\n",
       "<table border=\"1\" class=\"dataframe\">\n",
       "  <thead>\n",
       "    <tr style=\"text-align: right;\">\n",
       "      <th></th>\n",
       "      <th>총 금액</th>\n",
       "      <th>팁</th>\n",
       "      <th>성별</th>\n",
       "      <th>흡연여부</th>\n",
       "      <th>요일</th>\n",
       "      <th>시간</th>\n",
       "      <th>인원</th>\n",
       "      <th>팁의 비율</th>\n",
       "      <th>팁 비율</th>\n",
       "    </tr>\n",
       "  </thead>\n",
       "  <tbody>\n",
       "    <tr>\n",
       "      <th>0</th>\n",
       "      <td>17.0</td>\n",
       "      <td>1.0</td>\n",
       "      <td>Female</td>\n",
       "      <td>No</td>\n",
       "      <td>Sun</td>\n",
       "      <td>Dinner</td>\n",
       "      <td>2</td>\n",
       "      <td>5.882353</td>\n",
       "      <td>5.882353</td>\n",
       "    </tr>\n",
       "    <tr>\n",
       "      <th>50</th>\n",
       "      <td>12.5</td>\n",
       "      <td>2.5</td>\n",
       "      <td>Male</td>\n",
       "      <td>No</td>\n",
       "      <td>Sun</td>\n",
       "      <td>Dinner</td>\n",
       "      <td>2</td>\n",
       "      <td>20.000000</td>\n",
       "      <td>20.000000</td>\n",
       "    </tr>\n",
       "    <tr>\n",
       "      <th>100</th>\n",
       "      <td>11.4</td>\n",
       "      <td>2.5</td>\n",
       "      <td>Female</td>\n",
       "      <td>Yes</td>\n",
       "      <td>Fri</td>\n",
       "      <td>Dinner</td>\n",
       "      <td>2</td>\n",
       "      <td>21.929825</td>\n",
       "      <td>21.929825</td>\n",
       "    </tr>\n",
       "    <tr>\n",
       "      <th>150</th>\n",
       "      <td>14.1</td>\n",
       "      <td>2.5</td>\n",
       "      <td>Male</td>\n",
       "      <td>No</td>\n",
       "      <td>Sun</td>\n",
       "      <td>Dinner</td>\n",
       "      <td>2</td>\n",
       "      <td>17.730496</td>\n",
       "      <td>17.730496</td>\n",
       "    </tr>\n",
       "    <tr>\n",
       "      <th>200</th>\n",
       "      <td>18.7</td>\n",
       "      <td>4.0</td>\n",
       "      <td>Male</td>\n",
       "      <td>Yes</td>\n",
       "      <td>Thur</td>\n",
       "      <td>Lunch</td>\n",
       "      <td>3</td>\n",
       "      <td>21.390374</td>\n",
       "      <td>21.390374</td>\n",
       "    </tr>\n",
       "  </tbody>\n",
       "</table>\n",
       "</div>"
      ],
      "text/plain": [
       "     총 금액    팁      성별 흡연여부    요일      시간  인원      팁의 비율       팁 비율\n",
       "0    17.0  1.0  Female   No   Sun  Dinner   2   5.882353   5.882353\n",
       "50   12.5  2.5    Male   No   Sun  Dinner   2  20.000000  20.000000\n",
       "100  11.4  2.5  Female  Yes   Fri  Dinner   2  21.929825  21.929825\n",
       "150  14.1  2.5    Male   No   Sun  Dinner   2  17.730496  17.730496\n",
       "200  18.7  4.0    Male  Yes  Thur   Lunch   3  21.390374  21.390374"
      ]
     },
     "execution_count": 224,
     "metadata": {},
     "output_type": "execute_result"
    }
   ],
   "source": [
    "test_df = pd.DataFrame()\n",
    "test2_df = pd.DataFrame()\n",
    "\n",
    "for i in tips.index:\n",
    "    if i%10 == 0:\n",
    "        test_df = pd.concat([test_df,tips.loc[[i]]])\n",
    "    if i%50 == 0:\n",
    "        test2_df = pd.concat([test2_df,tips.loc[[i]]])\n",
    "test2_df"
   ]
  },
  {
   "cell_type": "code",
   "execution_count": 225,
   "metadata": {},
   "outputs": [],
   "source": [
    "# step1 비어있는 데이터프레임 생성\n",
    "Male_data = pd.DataFrame()\n",
    "Female_data = pd.DataFrame()"
   ]
  },
  {
   "cell_type": "code",
   "execution_count": 226,
   "metadata": {},
   "outputs": [
    {
     "name": "stdout",
     "output_type": "stream",
     "text": [
      "1\n",
      "2\n",
      "1\n",
      "2\n",
      "1\n",
      "2\n",
      "1\n",
      "2\n",
      "1\n",
      "2\n",
      "1\n",
      "2\n"
     ]
    }
   ],
   "source": [
    "## step2 : for문을 이용하여 male인 경우 1을 출력, female인 경우 2를 출력\n",
    "for i in group_data.index:\n",
    "    if i[1] == 'Male':\n",
    "        print(1)\n",
    "    else:\n",
    "        print(2)"
   ]
  },
  {
   "cell_type": "code",
   "execution_count": 227,
   "metadata": {},
   "outputs": [
    {
     "name": "stdout",
     "output_type": "stream",
     "text": [
      "              팁 비율\n",
      "인원 성별             \n",
      "1  Male  22.093023\n",
      "female\n",
      "              팁 비율\n",
      "인원 성별             \n",
      "2  Male  16.273796\n",
      "female\n",
      "              팁 비율\n",
      "인원 성별             \n",
      "3  Male  14.763093\n",
      "female\n",
      "              팁 비율\n",
      "인원 성별             \n",
      "4  Male  15.017047\n",
      "female\n",
      "              팁 비율\n",
      "인원 성별             \n",
      "5  Male  13.371547\n",
      "female\n",
      "              팁 비율\n",
      "인원 성별             \n",
      "6  Male  14.953486\n",
      "female\n"
     ]
    }
   ],
   "source": [
    "## step3 : for문을 이용하여 male인 경우, 해당하는 인덱스의 데이터를 출력\n",
    "# loc[인덱스비교, 컬럼 비교]\n",
    "# iloc[인덱스의 위치 비교, 컬럼의 위치비교] \n",
    "for i in group_data.index:\n",
    "    if i[1] == 'Male':\n",
    "        print(group_data.loc[[i]]) # loc[[i]]는 데이터프레임 형태로 표시\n",
    "        \n",
    "    else:\n",
    "        print('female') \n",
    "        "
   ]
  },
  {
   "cell_type": "code",
   "execution_count": 228,
   "metadata": {},
   "outputs": [
    {
     "data": {
      "text/html": [
       "<div>\n",
       "<style scoped>\n",
       "    .dataframe tbody tr th:only-of-type {\n",
       "        vertical-align: middle;\n",
       "    }\n",
       "\n",
       "    .dataframe tbody tr th {\n",
       "        vertical-align: top;\n",
       "    }\n",
       "\n",
       "    .dataframe thead th {\n",
       "        text-align: right;\n",
       "    }\n",
       "</style>\n",
       "<table border=\"1\" class=\"dataframe\">\n",
       "  <thead>\n",
       "    <tr style=\"text-align: right;\">\n",
       "      <th></th>\n",
       "      <th></th>\n",
       "      <th>팁 비율</th>\n",
       "    </tr>\n",
       "    <tr>\n",
       "      <th>인원</th>\n",
       "      <th>성별</th>\n",
       "      <th></th>\n",
       "    </tr>\n",
       "  </thead>\n",
       "  <tbody>\n",
       "    <tr>\n",
       "      <th>1</th>\n",
       "      <th>Female</th>\n",
       "      <td>21.322912</td>\n",
       "    </tr>\n",
       "    <tr>\n",
       "      <th>2</th>\n",
       "      <th>Female</th>\n",
       "      <td>17.053626</td>\n",
       "    </tr>\n",
       "    <tr>\n",
       "      <th>3</th>\n",
       "      <th>Female</th>\n",
       "      <td>16.025679</td>\n",
       "    </tr>\n",
       "    <tr>\n",
       "      <th>4</th>\n",
       "      <th>Female</th>\n",
       "      <td>13.267871</td>\n",
       "    </tr>\n",
       "    <tr>\n",
       "      <th>5</th>\n",
       "      <th>Female</th>\n",
       "      <td>17.114094</td>\n",
       "    </tr>\n",
       "    <tr>\n",
       "      <th>6</th>\n",
       "      <th>Female</th>\n",
       "      <td>16.306239</td>\n",
       "    </tr>\n",
       "  </tbody>\n",
       "</table>\n",
       "</div>"
      ],
      "text/plain": [
       "                팁 비율\n",
       "인원 성별               \n",
       "1  Female  21.322912\n",
       "2  Female  17.053626\n",
       "3  Female  16.025679\n",
       "4  Female  13.267871\n",
       "5  Female  17.114094\n",
       "6  Female  16.306239"
      ]
     },
     "execution_count": 228,
     "metadata": {},
     "output_type": "execute_result"
    }
   ],
   "source": [
    "## step3 : for문을 이용하여 male인 경우, 데이터 결합 \n",
    "for i in group_data.index:\n",
    "    data = group_data.loc[[i]]\n",
    "    if i[1] == 'Male':\n",
    "        #print(group_data.loc[[i]]) # loc[[i]]는 데이터프레임 형태로 표시\n",
    "        Male_data = pd.concat([Male_data, data])\n",
    "    else:\n",
    "        #print(group_data.loc[[i]]) \n",
    "        Female_data = pd.concat([Female_data, data])\n",
    "\n",
    "# print(Male_data)\n",
    "# print(Female_data)\n",
    "Male_data\n",
    "Female_data"
   ]
  },
  {
   "cell_type": "code",
   "execution_count": 253,
   "metadata": {},
   "outputs": [
    {
     "ename": "TypeError",
     "evalue": "only size-1 arrays can be converted to Python scalars",
     "output_type": "error",
     "traceback": [
      "\u001b[1;31m---------------------------------------------------------------------------\u001b[0m",
      "\u001b[1;31mTypeError\u001b[0m                                 Traceback (most recent call last)",
      "Cell \u001b[1;32mIn[253], line 9\u001b[0m\n\u001b[0;32m      6\u001b[0m y2 \u001b[39m=\u001b[39m Female_data\u001b[39m.\u001b[39mvalues\n\u001b[0;32m      8\u001b[0m plt\u001b[39m.\u001b[39msubplot(\u001b[39m1\u001b[39m,\u001b[39m2\u001b[39m,\u001b[39m1\u001b[39m)\n\u001b[1;32m----> 9\u001b[0m plt\u001b[39m.\u001b[39;49mbar(x1,y1)\n\u001b[0;32m     10\u001b[0m plt\u001b[39m.\u001b[39msubplot(\u001b[39m1\u001b[39m,\u001b[39m2\u001b[39m,\u001b[39m2\u001b[39m)\n\u001b[0;32m     11\u001b[0m plt\u001b[39m.\u001b[39mbar(x2,y2,color\u001b[39m=\u001b[39m\u001b[39m'\u001b[39m\u001b[39mr\u001b[39m\u001b[39m'\u001b[39m)\n",
      "File \u001b[1;32mc:\\Users\\ezen\\AppData\\Local\\Programs\\Python\\Python311\\Lib\\site-packages\\matplotlib\\pyplot.py:2375\u001b[0m, in \u001b[0;36mbar\u001b[1;34m(x, height, width, bottom, align, data, **kwargs)\u001b[0m\n\u001b[0;32m   2371\u001b[0m \u001b[39m@_copy_docstring_and_deprecators\u001b[39m(Axes\u001b[39m.\u001b[39mbar)\n\u001b[0;32m   2372\u001b[0m \u001b[39mdef\u001b[39;00m \u001b[39mbar\u001b[39m(\n\u001b[0;32m   2373\u001b[0m         x, height, width\u001b[39m=\u001b[39m\u001b[39m0.8\u001b[39m, bottom\u001b[39m=\u001b[39m\u001b[39mNone\u001b[39;00m, \u001b[39m*\u001b[39m, align\u001b[39m=\u001b[39m\u001b[39m'\u001b[39m\u001b[39mcenter\u001b[39m\u001b[39m'\u001b[39m,\n\u001b[0;32m   2374\u001b[0m         data\u001b[39m=\u001b[39m\u001b[39mNone\u001b[39;00m, \u001b[39m*\u001b[39m\u001b[39m*\u001b[39mkwargs):\n\u001b[1;32m-> 2375\u001b[0m     \u001b[39mreturn\u001b[39;00m gca()\u001b[39m.\u001b[39;49mbar(\n\u001b[0;32m   2376\u001b[0m         x, height, width\u001b[39m=\u001b[39;49mwidth, bottom\u001b[39m=\u001b[39;49mbottom, align\u001b[39m=\u001b[39;49malign,\n\u001b[0;32m   2377\u001b[0m         \u001b[39m*\u001b[39;49m\u001b[39m*\u001b[39;49m({\u001b[39m\"\u001b[39;49m\u001b[39mdata\u001b[39;49m\u001b[39m\"\u001b[39;49m: data} \u001b[39mif\u001b[39;49;00m data \u001b[39mis\u001b[39;49;00m \u001b[39mnot\u001b[39;49;00m \u001b[39mNone\u001b[39;49;00m \u001b[39melse\u001b[39;49;00m {}), \u001b[39m*\u001b[39;49m\u001b[39m*\u001b[39;49mkwargs)\n",
      "File \u001b[1;32mc:\\Users\\ezen\\AppData\\Local\\Programs\\Python\\Python311\\Lib\\site-packages\\matplotlib\\__init__.py:1433\u001b[0m, in \u001b[0;36m_preprocess_data.<locals>.inner\u001b[1;34m(ax, data, *args, **kwargs)\u001b[0m\n\u001b[0;32m   1430\u001b[0m \u001b[39m@functools\u001b[39m\u001b[39m.\u001b[39mwraps(func)\n\u001b[0;32m   1431\u001b[0m \u001b[39mdef\u001b[39;00m \u001b[39minner\u001b[39m(ax, \u001b[39m*\u001b[39margs, data\u001b[39m=\u001b[39m\u001b[39mNone\u001b[39;00m, \u001b[39m*\u001b[39m\u001b[39m*\u001b[39mkwargs):\n\u001b[0;32m   1432\u001b[0m     \u001b[39mif\u001b[39;00m data \u001b[39mis\u001b[39;00m \u001b[39mNone\u001b[39;00m:\n\u001b[1;32m-> 1433\u001b[0m         \u001b[39mreturn\u001b[39;00m func(ax, \u001b[39m*\u001b[39;49m\u001b[39mmap\u001b[39;49m(sanitize_sequence, args), \u001b[39m*\u001b[39;49m\u001b[39m*\u001b[39;49mkwargs)\n\u001b[0;32m   1435\u001b[0m     bound \u001b[39m=\u001b[39m new_sig\u001b[39m.\u001b[39mbind(ax, \u001b[39m*\u001b[39margs, \u001b[39m*\u001b[39m\u001b[39m*\u001b[39mkwargs)\n\u001b[0;32m   1436\u001b[0m     auto_label \u001b[39m=\u001b[39m (bound\u001b[39m.\u001b[39marguments\u001b[39m.\u001b[39mget(label_namer)\n\u001b[0;32m   1437\u001b[0m                   \u001b[39mor\u001b[39;00m bound\u001b[39m.\u001b[39mkwargs\u001b[39m.\u001b[39mget(label_namer))\n",
      "File \u001b[1;32mc:\\Users\\ezen\\AppData\\Local\\Programs\\Python\\Python311\\Lib\\site-packages\\matplotlib\\axes\\_axes.py:2460\u001b[0m, in \u001b[0;36mAxes.bar\u001b[1;34m(self, x, height, width, bottom, align, **kwargs)\u001b[0m\n\u001b[0;32m   2457\u001b[0m args \u001b[39m=\u001b[39m \u001b[39mzip\u001b[39m(left, bottom, width, height, color, edgecolor, linewidth,\n\u001b[0;32m   2458\u001b[0m            hatch, patch_labels)\n\u001b[0;32m   2459\u001b[0m \u001b[39mfor\u001b[39;00m l, b, w, h, c, e, lw, htch, lbl \u001b[39min\u001b[39;00m args:\n\u001b[1;32m-> 2460\u001b[0m     r \u001b[39m=\u001b[39m mpatches\u001b[39m.\u001b[39;49mRectangle(\n\u001b[0;32m   2461\u001b[0m         xy\u001b[39m=\u001b[39;49m(l, b), width\u001b[39m=\u001b[39;49mw, height\u001b[39m=\u001b[39;49mh,\n\u001b[0;32m   2462\u001b[0m         facecolor\u001b[39m=\u001b[39;49mc,\n\u001b[0;32m   2463\u001b[0m         edgecolor\u001b[39m=\u001b[39;49me,\n\u001b[0;32m   2464\u001b[0m         linewidth\u001b[39m=\u001b[39;49mlw,\n\u001b[0;32m   2465\u001b[0m         label\u001b[39m=\u001b[39;49mlbl,\n\u001b[0;32m   2466\u001b[0m         hatch\u001b[39m=\u001b[39;49mhtch,\n\u001b[0;32m   2467\u001b[0m         )\n\u001b[0;32m   2468\u001b[0m     r\u001b[39m.\u001b[39m_internal_update(kwargs)\n\u001b[0;32m   2469\u001b[0m     r\u001b[39m.\u001b[39mget_path()\u001b[39m.\u001b[39m_interpolation_steps \u001b[39m=\u001b[39m \u001b[39m100\u001b[39m\n",
      "File \u001b[1;32mc:\\Users\\ezen\\AppData\\Local\\Programs\\Python\\Python311\\Lib\\site-packages\\matplotlib\\_api\\deprecation.py:454\u001b[0m, in \u001b[0;36mmake_keyword_only.<locals>.wrapper\u001b[1;34m(*args, **kwargs)\u001b[0m\n\u001b[0;32m    448\u001b[0m \u001b[39mif\u001b[39;00m \u001b[39mlen\u001b[39m(args) \u001b[39m>\u001b[39m name_idx:\n\u001b[0;32m    449\u001b[0m     warn_deprecated(\n\u001b[0;32m    450\u001b[0m         since, message\u001b[39m=\u001b[39m\u001b[39m\"\u001b[39m\u001b[39mPassing the \u001b[39m\u001b[39m%(name)s\u001b[39;00m\u001b[39m \u001b[39m\u001b[39m%(obj_type)s\u001b[39;00m\u001b[39m \u001b[39m\u001b[39m\"\u001b[39m\n\u001b[0;32m    451\u001b[0m         \u001b[39m\"\u001b[39m\u001b[39mpositionally is deprecated since Matplotlib \u001b[39m\u001b[39m%(since)s\u001b[39;00m\u001b[39m; the \u001b[39m\u001b[39m\"\u001b[39m\n\u001b[0;32m    452\u001b[0m         \u001b[39m\"\u001b[39m\u001b[39mparameter will become keyword-only \u001b[39m\u001b[39m%(removal)s\u001b[39;00m\u001b[39m.\u001b[39m\u001b[39m\"\u001b[39m,\n\u001b[0;32m    453\u001b[0m         name\u001b[39m=\u001b[39mname, obj_type\u001b[39m=\u001b[39m\u001b[39mf\u001b[39m\u001b[39m\"\u001b[39m\u001b[39mparameter of \u001b[39m\u001b[39m{\u001b[39;00mfunc\u001b[39m.\u001b[39m\u001b[39m__name__\u001b[39m\u001b[39m}\u001b[39;00m\u001b[39m()\u001b[39m\u001b[39m\"\u001b[39m)\n\u001b[1;32m--> 454\u001b[0m \u001b[39mreturn\u001b[39;00m func(\u001b[39m*\u001b[39;49margs, \u001b[39m*\u001b[39;49m\u001b[39m*\u001b[39;49mkwargs)\n",
      "File \u001b[1;32mc:\\Users\\ezen\\AppData\\Local\\Programs\\Python\\Python311\\Lib\\site-packages\\matplotlib\\patches.py:712\u001b[0m, in \u001b[0;36mRectangle.__init__\u001b[1;34m(self, xy, width, height, angle, rotation_point, **kwargs)\u001b[0m\n\u001b[0;32m    687\u001b[0m \u001b[39m@_docstring\u001b[39m\u001b[39m.\u001b[39mdedent_interpd\n\u001b[0;32m    688\u001b[0m \u001b[39m@_api\u001b[39m\u001b[39m.\u001b[39mmake_keyword_only(\u001b[39m\"\u001b[39m\u001b[39m3.6\u001b[39m\u001b[39m\"\u001b[39m, name\u001b[39m=\u001b[39m\u001b[39m\"\u001b[39m\u001b[39mangle\u001b[39m\u001b[39m\"\u001b[39m)\n\u001b[0;32m    689\u001b[0m \u001b[39mdef\u001b[39;00m \u001b[39m__init__\u001b[39m(\u001b[39mself\u001b[39m, xy, width, height, angle\u001b[39m=\u001b[39m\u001b[39m0.0\u001b[39m, \u001b[39m*\u001b[39m,\n\u001b[0;32m    690\u001b[0m              rotation_point\u001b[39m=\u001b[39m\u001b[39m'\u001b[39m\u001b[39mxy\u001b[39m\u001b[39m'\u001b[39m, \u001b[39m*\u001b[39m\u001b[39m*\u001b[39mkwargs):\n\u001b[0;32m    691\u001b[0m \u001b[39m    \u001b[39m\u001b[39m\"\"\"\u001b[39;00m\n\u001b[0;32m    692\u001b[0m \u001b[39m    Parameters\u001b[39;00m\n\u001b[0;32m    693\u001b[0m \u001b[39m    ----------\u001b[39;00m\n\u001b[1;32m   (...)\u001b[0m\n\u001b[0;32m    710\u001b[0m \u001b[39m        %(Patch:kwdoc)s\u001b[39;00m\n\u001b[0;32m    711\u001b[0m \u001b[39m    \"\"\"\u001b[39;00m\n\u001b[1;32m--> 712\u001b[0m     \u001b[39msuper\u001b[39;49m()\u001b[39m.\u001b[39;49m\u001b[39m__init__\u001b[39;49m(\u001b[39m*\u001b[39;49m\u001b[39m*\u001b[39;49mkwargs)\n\u001b[0;32m    713\u001b[0m     \u001b[39mself\u001b[39m\u001b[39m.\u001b[39m_x0 \u001b[39m=\u001b[39m xy[\u001b[39m0\u001b[39m]\n\u001b[0;32m    714\u001b[0m     \u001b[39mself\u001b[39m\u001b[39m.\u001b[39m_y0 \u001b[39m=\u001b[39m xy[\u001b[39m1\u001b[39m]\n",
      "File \u001b[1;32mc:\\Users\\ezen\\AppData\\Local\\Programs\\Python\\Python311\\Lib\\site-packages\\matplotlib\\_api\\deprecation.py:454\u001b[0m, in \u001b[0;36mmake_keyword_only.<locals>.wrapper\u001b[1;34m(*args, **kwargs)\u001b[0m\n\u001b[0;32m    448\u001b[0m \u001b[39mif\u001b[39;00m \u001b[39mlen\u001b[39m(args) \u001b[39m>\u001b[39m name_idx:\n\u001b[0;32m    449\u001b[0m     warn_deprecated(\n\u001b[0;32m    450\u001b[0m         since, message\u001b[39m=\u001b[39m\u001b[39m\"\u001b[39m\u001b[39mPassing the \u001b[39m\u001b[39m%(name)s\u001b[39;00m\u001b[39m \u001b[39m\u001b[39m%(obj_type)s\u001b[39;00m\u001b[39m \u001b[39m\u001b[39m\"\u001b[39m\n\u001b[0;32m    451\u001b[0m         \u001b[39m\"\u001b[39m\u001b[39mpositionally is deprecated since Matplotlib \u001b[39m\u001b[39m%(since)s\u001b[39;00m\u001b[39m; the \u001b[39m\u001b[39m\"\u001b[39m\n\u001b[0;32m    452\u001b[0m         \u001b[39m\"\u001b[39m\u001b[39mparameter will become keyword-only \u001b[39m\u001b[39m%(removal)s\u001b[39;00m\u001b[39m.\u001b[39m\u001b[39m\"\u001b[39m,\n\u001b[0;32m    453\u001b[0m         name\u001b[39m=\u001b[39mname, obj_type\u001b[39m=\u001b[39m\u001b[39mf\u001b[39m\u001b[39m\"\u001b[39m\u001b[39mparameter of \u001b[39m\u001b[39m{\u001b[39;00mfunc\u001b[39m.\u001b[39m\u001b[39m__name__\u001b[39m\u001b[39m}\u001b[39;00m\u001b[39m()\u001b[39m\u001b[39m\"\u001b[39m)\n\u001b[1;32m--> 454\u001b[0m \u001b[39mreturn\u001b[39;00m func(\u001b[39m*\u001b[39;49margs, \u001b[39m*\u001b[39;49m\u001b[39m*\u001b[39;49mkwargs)\n",
      "File \u001b[1;32mc:\\Users\\ezen\\AppData\\Local\\Programs\\Python\\Python311\\Lib\\site-packages\\matplotlib\\patches.py:91\u001b[0m, in \u001b[0;36mPatch.__init__\u001b[1;34m(self, edgecolor, facecolor, color, linewidth, linestyle, antialiased, hatch, fill, capstyle, joinstyle, **kwargs)\u001b[0m\n\u001b[0;32m     89\u001b[0m \u001b[39mself\u001b[39m\u001b[39m.\u001b[39mset_fill(fill)\n\u001b[0;32m     90\u001b[0m \u001b[39mself\u001b[39m\u001b[39m.\u001b[39mset_linestyle(linestyle)\n\u001b[1;32m---> 91\u001b[0m \u001b[39mself\u001b[39;49m\u001b[39m.\u001b[39;49mset_linewidth(linewidth)\n\u001b[0;32m     92\u001b[0m \u001b[39mself\u001b[39m\u001b[39m.\u001b[39mset_antialiased(antialiased)\n\u001b[0;32m     93\u001b[0m \u001b[39mself\u001b[39m\u001b[39m.\u001b[39mset_hatch(hatch)\n",
      "File \u001b[1;32mc:\\Users\\ezen\\AppData\\Local\\Programs\\Python\\Python311\\Lib\\site-packages\\matplotlib\\patches.py:392\u001b[0m, in \u001b[0;36mPatch.set_linewidth\u001b[1;34m(self, w)\u001b[0m\n\u001b[0;32m    390\u001b[0m \u001b[39mif\u001b[39;00m w \u001b[39mis\u001b[39;00m \u001b[39mNone\u001b[39;00m:\n\u001b[0;32m    391\u001b[0m     w \u001b[39m=\u001b[39m mpl\u001b[39m.\u001b[39mrcParams[\u001b[39m'\u001b[39m\u001b[39mpatch.linewidth\u001b[39m\u001b[39m'\u001b[39m]\n\u001b[1;32m--> 392\u001b[0m \u001b[39mself\u001b[39m\u001b[39m.\u001b[39m_linewidth \u001b[39m=\u001b[39m \u001b[39mfloat\u001b[39;49m(w)\n\u001b[0;32m    393\u001b[0m \u001b[39mself\u001b[39m\u001b[39m.\u001b[39m_dash_pattern \u001b[39m=\u001b[39m mlines\u001b[39m.\u001b[39m_scale_dashes(\n\u001b[0;32m    394\u001b[0m     \u001b[39m*\u001b[39m\u001b[39mself\u001b[39m\u001b[39m.\u001b[39m_unscaled_dash_pattern, w)\n\u001b[0;32m    395\u001b[0m \u001b[39mself\u001b[39m\u001b[39m.\u001b[39mstale \u001b[39m=\u001b[39m \u001b[39mTrue\u001b[39;00m\n",
      "\u001b[1;31mTypeError\u001b[0m: only size-1 arrays can be converted to Python scalars"
     ]
    },
    {
     "data": {
      "image/png": "[encoded data removed]",
      "text/plain": [
       "<Figure size 640x480 with 1 Axes>"
      ]
     },
     "metadata": {},
     "output_type": "display_data"
    }
   ],
   "source": [
    "x1 = range(len(Male_data.index))\n",
    "x2 = range(len(Female_data.index))\n",
    "y1 = Male_data['팁 비율']      # 데이터프레임 형태라서 컬럼 선택\n",
    "y2 = Female_data['팁 비율']   \n",
    "# y1 = Male_data.values        # 시리즈에서만 가능 \n",
    "# y2 = Female_data.values\n",
    "\n",
    "plt.subplot(1,2,1)\n",
    "plt.bar(x1,y1)\n",
    "plt.subplot(1,2,2)\n",
    "plt.bar(x2,y2,color='r')\n"
   ]
  },
  {
   "cell_type": "code",
   "execution_count": 235,
   "metadata": {},
   "outputs": [
    {
     "data": {
      "text/plain": [
       "<BarContainer object of 6 artists>"
      ]
     },
     "execution_count": 235,
     "metadata": {},
     "output_type": "execute_result"
    },
    {
     "data": {
      "image/png": "[encoded data removed]",
      "text/plain": [
       "<Figure size 640x480 with 1 Axes>"
      ]
     },
     "metadata": {},
     "output_type": "display_data"
    }
   ],
   "source": [
    "x1 = range(0,len(Male_data.index)*2,2)\n",
    "x2 = range(1,len(Female_data.index)*2,2)\n",
    "y1 = Male_data['팁 비율']\n",
    "y2 = Female_data['팁 비율']\n",
    "\n",
    "plt.bar(x1,y1)\n",
    "plt.bar(x2,y2,color='r')"
   ]
  },
  {
   "cell_type": "code",
   "execution_count": 252,
   "metadata": {},
   "outputs": [
    {
     "data": {
      "text/plain": [
       "<BarContainer object of 6 artists>"
      ]
     },
     "execution_count": 252,
     "metadata": {},
     "output_type": "execute_result"
    },
    {
     "data": {
      "image/png": "[encoded data removed]",
      "text/plain": [
       "<Figure size 640x480 with 1 Axes>"
      ]
     },
     "metadata": {},
     "output_type": "display_data"
    }
   ],
   "source": [
    "x1 = range(len(Male_data.index))\n",
    "x2 = range(len(Female_data.index))\n",
    "y1 = Male_data['팁 비율']\n",
    "y2 = Female_data['팁 비율']\n",
    "\n",
    "plt.bar(x1,y1)\n",
    "plt.bar(x2,y2,bottom= y1, color='r')"
   ]
  },
  {
   "attachments": {},
   "cell_type": "markdown",
   "metadata": {},
   "source": [
    "## pivot_table\n",
    "1. 그룹화\n",
    "2. 행 인덱스\n",
    "3. 열 인덱스\n",
    "4. 데이터 값\n",
    "5. 데이터의 집계"
   ]
  },
  {
   "cell_type": "code",
   "execution_count": 236,
   "metadata": {},
   "outputs": [
    {
     "data": {
      "text/html": [
       "<div>\n",
       "<style scoped>\n",
       "    .dataframe tbody tr th:only-of-type {\n",
       "        vertical-align: middle;\n",
       "    }\n",
       "\n",
       "    .dataframe tbody tr th {\n",
       "        vertical-align: top;\n",
       "    }\n",
       "\n",
       "    .dataframe thead th {\n",
       "        text-align: right;\n",
       "    }\n",
       "</style>\n",
       "<table border=\"1\" class=\"dataframe\">\n",
       "  <thead>\n",
       "    <tr style=\"text-align: right;\">\n",
       "      <th></th>\n",
       "      <th>age</th>\n",
       "      <th>sex</th>\n",
       "      <th>class</th>\n",
       "      <th>fare</th>\n",
       "      <th>survived</th>\n",
       "    </tr>\n",
       "  </thead>\n",
       "  <tbody>\n",
       "    <tr>\n",
       "      <th>0</th>\n",
       "      <td>22.0</td>\n",
       "      <td>male</td>\n",
       "      <td>Third</td>\n",
       "      <td>7.2500</td>\n",
       "      <td>0</td>\n",
       "    </tr>\n",
       "    <tr>\n",
       "      <th>1</th>\n",
       "      <td>38.0</td>\n",
       "      <td>female</td>\n",
       "      <td>First</td>\n",
       "      <td>71.2833</td>\n",
       "      <td>1</td>\n",
       "    </tr>\n",
       "    <tr>\n",
       "      <th>2</th>\n",
       "      <td>26.0</td>\n",
       "      <td>female</td>\n",
       "      <td>Third</td>\n",
       "      <td>7.9250</td>\n",
       "      <td>1</td>\n",
       "    </tr>\n",
       "  </tbody>\n",
       "</table>\n",
       "</div>"
      ],
      "text/plain": [
       "    age     sex  class     fare  survived\n",
       "0  22.0    male  Third   7.2500         0\n",
       "1  38.0  female  First  71.2833         1\n",
       "2  26.0  female  Third   7.9250         1"
      ]
     },
     "execution_count": 236,
     "metadata": {},
     "output_type": "execute_result"
    }
   ],
   "source": [
    "titanic = sns.load_dataset('titanic')\\\n",
    "         [['age','sex','class','fare','survived']]\n",
    "titanic.head(3)"
   ]
  },
  {
   "cell_type": "code",
   "execution_count": 237,
   "metadata": {},
   "outputs": [
    {
     "data": {
      "text/html": [
       "<div>\n",
       "<style scoped>\n",
       "    .dataframe tbody tr th:only-of-type {\n",
       "        vertical-align: middle;\n",
       "    }\n",
       "\n",
       "    .dataframe tbody tr th {\n",
       "        vertical-align: top;\n",
       "    }\n",
       "\n",
       "    .dataframe thead th {\n",
       "        text-align: right;\n",
       "    }\n",
       "</style>\n",
       "<table border=\"1\" class=\"dataframe\">\n",
       "  <thead>\n",
       "    <tr style=\"text-align: right;\">\n",
       "      <th>sex</th>\n",
       "      <th>female</th>\n",
       "      <th>male</th>\n",
       "    </tr>\n",
       "    <tr>\n",
       "      <th>class</th>\n",
       "      <th></th>\n",
       "      <th></th>\n",
       "    </tr>\n",
       "  </thead>\n",
       "  <tbody>\n",
       "    <tr>\n",
       "      <th>First</th>\n",
       "      <td>34.611765</td>\n",
       "      <td>41.281386</td>\n",
       "    </tr>\n",
       "    <tr>\n",
       "      <th>Second</th>\n",
       "      <td>28.722973</td>\n",
       "      <td>30.740707</td>\n",
       "    </tr>\n",
       "    <tr>\n",
       "      <th>Third</th>\n",
       "      <td>21.750000</td>\n",
       "      <td>26.507589</td>\n",
       "    </tr>\n",
       "  </tbody>\n",
       "</table>\n",
       "</div>"
      ],
      "text/plain": [
       "sex        female       male\n",
       "class                       \n",
       "First   34.611765  41.281386\n",
       "Second  28.722973  30.740707\n",
       "Third   21.750000  26.507589"
      ]
     },
     "execution_count": 237,
     "metadata": {},
     "output_type": "execute_result"
    }
   ],
   "source": [
    "pd.pivot_table(\n",
    "    titanic,          ## 기준이 되는 데이터\n",
    "    index = 'class',  ## 등급별로 그룹화\n",
    "    columns= 'sex',   ## 성별로 분할\n",
    "    values= 'age',    ## 그룹화된 데이터들의 나이를 선택\n",
    "    aggfunc= 'mean'   ## 나이의 평균\n",
    ")"
   ]
  },
  {
   "cell_type": "code",
   "execution_count": 247,
   "metadata": {},
   "outputs": [
    {
     "data": {
      "text/html": [
       "<div>\n",
       "<style scoped>\n",
       "    .dataframe tbody tr th:only-of-type {\n",
       "        vertical-align: middle;\n",
       "    }\n",
       "\n",
       "    .dataframe tbody tr th {\n",
       "        vertical-align: top;\n",
       "    }\n",
       "\n",
       "    .dataframe thead th {\n",
       "        text-align: right;\n",
       "    }\n",
       "</style>\n",
       "<table border=\"1\" class=\"dataframe\">\n",
       "  <thead>\n",
       "    <tr style=\"text-align: right;\">\n",
       "      <th>sex</th>\n",
       "      <th>female</th>\n",
       "      <th>male</th>\n",
       "    </tr>\n",
       "    <tr>\n",
       "      <th>class</th>\n",
       "      <th></th>\n",
       "      <th></th>\n",
       "    </tr>\n",
       "  </thead>\n",
       "  <tbody>\n",
       "    <tr>\n",
       "      <th>First</th>\n",
       "      <td>91</td>\n",
       "      <td>45</td>\n",
       "    </tr>\n",
       "    <tr>\n",
       "      <th>Second</th>\n",
       "      <td>70</td>\n",
       "      <td>17</td>\n",
       "    </tr>\n",
       "    <tr>\n",
       "      <th>Third</th>\n",
       "      <td>72</td>\n",
       "      <td>47</td>\n",
       "    </tr>\n",
       "  </tbody>\n",
       "</table>\n",
       "</div>"
      ],
      "text/plain": [
       "sex     female  male\n",
       "class               \n",
       "First       91    45\n",
       "Second      70    17\n",
       "Third       72    47"
      ]
     },
     "execution_count": 247,
     "metadata": {},
     "output_type": "execute_result"
    }
   ],
   "source": [
    "# 클래스별 성별 생존자의 수를 출력\n",
    "pd.pivot_table(\n",
    "    titanic,               ## 기준이 되는 데이터\n",
    "    index = 'class',       ## 등급별로 그룹화\n",
    "    columns= 'sex',        ## 성별로 분할\n",
    "    values= 'survived',    ## 그룹화된 데이터들의 나이를 선택\n",
    "    aggfunc= 'sum'         ## 나이의 평균\n",
    ")"
   ]
  },
  {
   "cell_type": "code",
   "execution_count": 248,
   "metadata": {},
   "outputs": [
    {
     "data": {
      "text/html": [
       "<div>\n",
       "<style scoped>\n",
       "    .dataframe tbody tr th:only-of-type {\n",
       "        vertical-align: middle;\n",
       "    }\n",
       "\n",
       "    .dataframe tbody tr th {\n",
       "        vertical-align: top;\n",
       "    }\n",
       "\n",
       "    .dataframe thead th {\n",
       "        text-align: right;\n",
       "    }\n",
       "</style>\n",
       "<table border=\"1\" class=\"dataframe\">\n",
       "  <thead>\n",
       "    <tr style=\"text-align: right;\">\n",
       "      <th></th>\n",
       "      <th></th>\n",
       "      <th>survived</th>\n",
       "    </tr>\n",
       "    <tr>\n",
       "      <th>class</th>\n",
       "      <th>sex</th>\n",
       "      <th></th>\n",
       "    </tr>\n",
       "  </thead>\n",
       "  <tbody>\n",
       "    <tr>\n",
       "      <th rowspan=\"2\" valign=\"top\">First</th>\n",
       "      <th>female</th>\n",
       "      <td>91</td>\n",
       "    </tr>\n",
       "    <tr>\n",
       "      <th>male</th>\n",
       "      <td>45</td>\n",
       "    </tr>\n",
       "    <tr>\n",
       "      <th rowspan=\"2\" valign=\"top\">Second</th>\n",
       "      <th>female</th>\n",
       "      <td>70</td>\n",
       "    </tr>\n",
       "    <tr>\n",
       "      <th>male</th>\n",
       "      <td>17</td>\n",
       "    </tr>\n",
       "    <tr>\n",
       "      <th rowspan=\"2\" valign=\"top\">Third</th>\n",
       "      <th>female</th>\n",
       "      <td>72</td>\n",
       "    </tr>\n",
       "    <tr>\n",
       "      <th>male</th>\n",
       "      <td>47</td>\n",
       "    </tr>\n",
       "  </tbody>\n",
       "</table>\n",
       "</div>"
      ],
      "text/plain": [
       "               survived\n",
       "class  sex             \n",
       "First  female        91\n",
       "       male          45\n",
       "Second female        70\n",
       "       male          17\n",
       "Third  female        72\n",
       "       male          47"
      ]
     },
     "execution_count": 248,
     "metadata": {},
     "output_type": "execute_result"
    }
   ],
   "source": [
    "# 클래스별 성별 생존자의 수를 출력\n",
    "pd.pivot_table(\n",
    "    titanic,                 ## 기준이 되는 데이터\n",
    "    index = ['class','sex'], ## 등급별/성별로 그룹화\n",
    "    values= 'survived',      ## 그룹화된 데이터들의 나이를 선택\n",
    "    aggfunc= 'sum'           ## 나이의 평균\n",
    ")"
   ]
  },
  {
   "cell_type": "code",
   "execution_count": 246,
   "metadata": {},
   "outputs": [
    {
     "data": {
      "text/html": [
       "<div>\n",
       "<style scoped>\n",
       "    .dataframe tbody tr th:only-of-type {\n",
       "        vertical-align: middle;\n",
       "    }\n",
       "\n",
       "    .dataframe tbody tr th {\n",
       "        vertical-align: top;\n",
       "    }\n",
       "\n",
       "    .dataframe thead th {\n",
       "        text-align: right;\n",
       "    }\n",
       "</style>\n",
       "<table border=\"1\" class=\"dataframe\">\n",
       "  <thead>\n",
       "    <tr style=\"text-align: right;\">\n",
       "      <th></th>\n",
       "      <th></th>\n",
       "      <th>survived</th>\n",
       "    </tr>\n",
       "    <tr>\n",
       "      <th>class</th>\n",
       "      <th>sex</th>\n",
       "      <th></th>\n",
       "    </tr>\n",
       "  </thead>\n",
       "  <tbody>\n",
       "    <tr>\n",
       "      <th rowspan=\"2\" valign=\"top\">First</th>\n",
       "      <th>female</th>\n",
       "      <td>91</td>\n",
       "    </tr>\n",
       "    <tr>\n",
       "      <th>male</th>\n",
       "      <td>45</td>\n",
       "    </tr>\n",
       "    <tr>\n",
       "      <th rowspan=\"2\" valign=\"top\">Second</th>\n",
       "      <th>female</th>\n",
       "      <td>70</td>\n",
       "    </tr>\n",
       "    <tr>\n",
       "      <th>male</th>\n",
       "      <td>17</td>\n",
       "    </tr>\n",
       "    <tr>\n",
       "      <th rowspan=\"2\" valign=\"top\">Third</th>\n",
       "      <th>female</th>\n",
       "      <td>72</td>\n",
       "    </tr>\n",
       "    <tr>\n",
       "      <th>male</th>\n",
       "      <td>47</td>\n",
       "    </tr>\n",
       "  </tbody>\n",
       "</table>\n",
       "</div>"
      ],
      "text/plain": [
       "               survived\n",
       "class  sex             \n",
       "First  female        91\n",
       "       male          45\n",
       "Second female        70\n",
       "       male          17\n",
       "Third  female        72\n",
       "       male          47"
      ]
     },
     "execution_count": 246,
     "metadata": {},
     "output_type": "execute_result"
    }
   ],
   "source": [
    "titanic.groupby(['class','sex']).sum()['survived'] # 시리즈 형태로 출력"
   ]
  },
  {
   "cell_type": "code",
   "execution_count": 249,
   "metadata": {},
   "outputs": [
    {
     "data": {
      "text/html": [
       "<div>\n",
       "<style scoped>\n",
       "    .dataframe tbody tr th:only-of-type {\n",
       "        vertical-align: middle;\n",
       "    }\n",
       "\n",
       "    .dataframe tbody tr th {\n",
       "        vertical-align: top;\n",
       "    }\n",
       "\n",
       "    .dataframe thead th {\n",
       "        text-align: right;\n",
       "    }\n",
       "</style>\n",
       "<table border=\"1\" class=\"dataframe\">\n",
       "  <thead>\n",
       "    <tr style=\"text-align: right;\">\n",
       "      <th></th>\n",
       "      <th></th>\n",
       "      <th>survived</th>\n",
       "    </tr>\n",
       "    <tr>\n",
       "      <th>class</th>\n",
       "      <th>sex</th>\n",
       "      <th></th>\n",
       "    </tr>\n",
       "  </thead>\n",
       "  <tbody>\n",
       "    <tr>\n",
       "      <th rowspan=\"2\" valign=\"top\">First</th>\n",
       "      <th>female</th>\n",
       "      <td>91</td>\n",
       "    </tr>\n",
       "    <tr>\n",
       "      <th>male</th>\n",
       "      <td>45</td>\n",
       "    </tr>\n",
       "    <tr>\n",
       "      <th rowspan=\"2\" valign=\"top\">Second</th>\n",
       "      <th>female</th>\n",
       "      <td>70</td>\n",
       "    </tr>\n",
       "    <tr>\n",
       "      <th>male</th>\n",
       "      <td>17</td>\n",
       "    </tr>\n",
       "    <tr>\n",
       "      <th rowspan=\"2\" valign=\"top\">Third</th>\n",
       "      <th>female</th>\n",
       "      <td>72</td>\n",
       "    </tr>\n",
       "    <tr>\n",
       "      <th>male</th>\n",
       "      <td>47</td>\n",
       "    </tr>\n",
       "  </tbody>\n",
       "</table>\n",
       "</div>"
      ],
      "text/plain": [
       "               survived\n",
       "class  sex             \n",
       "First  female        91\n",
       "       male          45\n",
       "Second female        70\n",
       "       male          17\n",
       "Third  female        72\n",
       "       male          47"
      ]
     },
     "execution_count": 249,
     "metadata": {},
     "output_type": "execute_result"
    }
   ],
   "source": [
    "titanic.groupby(['class','sex']).sum()[['survived']] # 데이터프레임 형태로 출력"
   ]
  },
  {
   "cell_type": "code",
   "execution_count": 251,
   "metadata": {},
   "outputs": [
    {
     "data": {
      "text/html": [
       "<div>\n",
       "<style scoped>\n",
       "    .dataframe tbody tr th:only-of-type {\n",
       "        vertical-align: middle;\n",
       "    }\n",
       "\n",
       "    .dataframe tbody tr th {\n",
       "        vertical-align: top;\n",
       "    }\n",
       "\n",
       "    .dataframe thead th {\n",
       "        text-align: right;\n",
       "    }\n",
       "</style>\n",
       "<table border=\"1\" class=\"dataframe\">\n",
       "  <thead>\n",
       "    <tr style=\"text-align: right;\">\n",
       "      <th></th>\n",
       "      <th>survived</th>\n",
       "      <th>0</th>\n",
       "      <th>1</th>\n",
       "    </tr>\n",
       "    <tr>\n",
       "      <th>class</th>\n",
       "      <th>sex</th>\n",
       "      <th></th>\n",
       "      <th></th>\n",
       "    </tr>\n",
       "  </thead>\n",
       "  <tbody>\n",
       "    <tr>\n",
       "      <th rowspan=\"2\" valign=\"top\">First</th>\n",
       "      <th>female</th>\n",
       "      <td>25.666667</td>\n",
       "      <td>34.939024</td>\n",
       "    </tr>\n",
       "    <tr>\n",
       "      <th>male</th>\n",
       "      <td>44.581967</td>\n",
       "      <td>36.248000</td>\n",
       "    </tr>\n",
       "    <tr>\n",
       "      <th rowspan=\"2\" valign=\"top\">Second</th>\n",
       "      <th>female</th>\n",
       "      <td>36.000000</td>\n",
       "      <td>28.080882</td>\n",
       "    </tr>\n",
       "    <tr>\n",
       "      <th>male</th>\n",
       "      <td>33.369048</td>\n",
       "      <td>16.022000</td>\n",
       "    </tr>\n",
       "    <tr>\n",
       "      <th rowspan=\"2\" valign=\"top\">Third</th>\n",
       "      <th>female</th>\n",
       "      <td>23.818182</td>\n",
       "      <td>19.329787</td>\n",
       "    </tr>\n",
       "    <tr>\n",
       "      <th>male</th>\n",
       "      <td>27.255814</td>\n",
       "      <td>22.274211</td>\n",
       "    </tr>\n",
       "  </tbody>\n",
       "</table>\n",
       "</div>"
      ],
      "text/plain": [
       "survived               0          1\n",
       "class  sex                         \n",
       "First  female  25.666667  34.939024\n",
       "       male    44.581967  36.248000\n",
       "Second female  36.000000  28.080882\n",
       "       male    33.369048  16.022000\n",
       "Third  female  23.818182  19.329787\n",
       "       male    27.255814  22.274211"
      ]
     },
     "execution_count": 251,
     "metadata": {},
     "output_type": "execute_result"
    }
   ],
   "source": [
    "# 클래스별 성별 생존자의 수를 출력\n",
    "pd.pivot_table(\n",
    "    titanic,                 ## 기준이 되는 데이터\n",
    "    index = ['class','sex'], ## 등급별/성별로 그룹화\n",
    "    columns= 'survived',     ## 생존자 선택\n",
    "    values= 'age',           ## 그룹화된 데이터들의 나이를 선택\n",
    "    aggfunc= 'mean'          ## 나이의 평균\n",
    ")"
   ]
  },
  {
   "cell_type": "code",
   "execution_count": null,
   "metadata": {},
   "outputs": [],
   "source": []
  }
 ],
 "metadata": {
  "kernelspec": {
   "display_name": "Python 3",
   "language": "python",
   "name": "python3"
  },
  "language_info": {
   "codemirror_mode": {
    "name": "ipython",
    "version": 3
   },
   "file_extension": ".py",
   "mimetype": "text/x-python",
   "name": "python",
   "nbconvert_exporter": "python",
   "pygments_lexer": "ipython3",
   "version": "3.11.2"
  },
  "orig_nbformat": 4
 },
 "nbformat": 4,
 "nbformat_minor": 2
}
