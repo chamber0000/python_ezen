{
 "cells": [
  {
   "attachments": {},
   "cell_type": "markdown",
   "metadata": {},
   "source": [
    "# 페르마의 정리\n",
    "   > n이 2보다 큰 자연수인 경우에 a<sup>n</sup> + b<sup>n</sup> = c<sup>n</sup> 이 되는 자연수 a, b, c 는 존재하지 않는다  \n",
    "   > n이 3이고 a, b, c가 1부터 10까지 자연수 일 때 페르마의 마지막 정리가 사실임을 증명하시오  \n",
    "- (for문을 이용하여 증명하시오)"
   ]
  },
  {
   "cell_type": "code",
   "execution_count": 112,
   "metadata": {},
   "outputs": [
    {
     "name": "stdout",
     "output_type": "stream",
     "text": [
      "페르마의 정리가 참이다.\n"
     ]
    }
   ],
   "source": [
    "n= 3\n",
    "for a in range(1,11,1):\n",
    "    for b in range(1,11,1):\n",
    "        for c in range(1,11,1):\n",
    "            if a**n + b**n == c**n :\n",
    "                print('페르마의 정리는 거짓이다.')\n",
    "else:\n",
    "    print('페르마의 정리가 참이다.')"
   ]
  },
  {
   "attachments": {},
   "cell_type": "markdown",
   "metadata": {},
   "source": [
    "# max() 함수 만들기\n",
    "1. max() 함수는 개수가 가변인 인자의 값들을 비교하여 가장 큰 수를 돌려주는 함수이다. \n",
    "2. 이 함수와 같은 행동를 하는 함수를 생성\n",
    "    - 개수가 가변인 매개변수 생성\n",
    "    - for문과 if문을 이용하여 함수를 생성"
   ]
  },
  {
   "cell_type": "code",
   "execution_count": 113,
   "metadata": {},
   "outputs": [
    {
     "data": {
      "text/plain": [
       "3333433"
      ]
     },
     "execution_count": 113,
     "metadata": {},
     "output_type": "execute_result"
    }
   ],
   "source": [
    "def custom_max(*_list):\n",
    "    result = _list[0] \n",
    "    # for i in range(1,len(args),1):\n",
    "    for i in _list:    \n",
    "        if result < i:\n",
    "            result = i\n",
    "\n",
    "    return result\n",
    "\n",
    "\n",
    "custom_max(1,41,5,45,-11212,0,9,10,3333433,223,1,232,23234)"
   ]
  },
  {
   "attachments": {},
   "cell_type": "markdown",
   "metadata": {},
   "source": [
    "# 카드 이용 내역\n",
    "\n",
    "- test_csv 폴더의 유통+업종 데이터를 로드하여 문제를 푸시오\n",
    "\n",
    "1. 각 컬럼의 이름을 변경 ['기준년월', '업종', '성별', '연령대', '총이용건수', '총이용금액']\n",
    "2. 기준년월을 시계열로 변경\n",
    "3. index를 기준년월 변경\n",
    "4. 데이터를 확인하여서 굉장히 이상한 데이터가 존재 체크\n",
    "5. 성별 컬럼의 데이터 값을 1은 남자, 2는 여자 변경\n",
    "6. 남, 녀 성별을 기준으로 연도별 건당 이용 금액의 평균이 몇인지 출력 & 시각화"
   ]
  },
  {
   "cell_type": "code",
   "execution_count": 135,
   "metadata": {},
   "outputs": [
    {
     "data": {
      "text/html": [
       "<div>\n",
       "<style scoped>\n",
       "    .dataframe tbody tr th:only-of-type {\n",
       "        vertical-align: middle;\n",
       "    }\n",
       "\n",
       "    .dataframe tbody tr th {\n",
       "        vertical-align: top;\n",
       "    }\n",
       "\n",
       "    .dataframe thead th {\n",
       "        text-align: right;\n",
       "    }\n",
       "</style>\n",
       "<table border=\"1\" class=\"dataframe\">\n",
       "  <thead>\n",
       "    <tr style=\"text-align: right;\">\n",
       "      <th></th>\n",
       "      <th>crym</th>\n",
       "      <th>tco_btc_nm</th>\n",
       "      <th>ma_fem_dc</th>\n",
       "      <th>agegrp_dc</th>\n",
       "      <th>tco_btc_u_ct</th>\n",
       "      <th>tco_btc_u_am</th>\n",
       "    </tr>\n",
       "  </thead>\n",
       "  <tbody>\n",
       "    <tr>\n",
       "      <th>0</th>\n",
       "      <td>201901</td>\n",
       "      <td>백화점</td>\n",
       "      <td>1</td>\n",
       "      <td>1</td>\n",
       "      <td>1</td>\n",
       "      <td>7.600000e+03</td>\n",
       "    </tr>\n",
       "    <tr>\n",
       "      <th>1</th>\n",
       "      <td>201901</td>\n",
       "      <td>백화점</td>\n",
       "      <td>1</td>\n",
       "      <td>10</td>\n",
       "      <td>379</td>\n",
       "      <td>1.945872e+07</td>\n",
       "    </tr>\n",
       "    <tr>\n",
       "      <th>2</th>\n",
       "      <td>201901</td>\n",
       "      <td>백화점</td>\n",
       "      <td>1</td>\n",
       "      <td>20</td>\n",
       "      <td>45173</td>\n",
       "      <td>4.747711e+09</td>\n",
       "    </tr>\n",
       "    <tr>\n",
       "      <th>3</th>\n",
       "      <td>201901</td>\n",
       "      <td>백화점</td>\n",
       "      <td>1</td>\n",
       "      <td>30</td>\n",
       "      <td>271858</td>\n",
       "      <td>2.791826e+10</td>\n",
       "    </tr>\n",
       "    <tr>\n",
       "      <th>4</th>\n",
       "      <td>201901</td>\n",
       "      <td>백화점</td>\n",
       "      <td>1</td>\n",
       "      <td>40</td>\n",
       "      <td>391109</td>\n",
       "      <td>3.791149e+10</td>\n",
       "    </tr>\n",
       "  </tbody>\n",
       "</table>\n",
       "</div>"
      ],
      "text/plain": [
       "     crym tco_btc_nm  ma_fem_dc  agegrp_dc  tco_btc_u_ct  tco_btc_u_am\n",
       "0  201901        백화점          1          1             1  7.600000e+03\n",
       "1  201901        백화점          1         10           379  1.945872e+07\n",
       "2  201901        백화점          1         20         45173  4.747711e+09\n",
       "3  201901        백화점          1         30        271858  2.791826e+10\n",
       "4  201901        백화점          1         40        391109  3.791149e+10"
      ]
     },
     "execution_count": 135,
     "metadata": {},
     "output_type": "execute_result"
    }
   ],
   "source": [
    "import pandas as pd\n",
    "df = pd.read_csv('../test_csv/유통+업종(백화점,+할인점,+슈퍼마켓,+편의점)+카드소비트렌드+데이터_1901_2109.csv', encoding='euc-kr' )\n",
    "df.head()"
   ]
  },
  {
   "cell_type": "code",
   "execution_count": 136,
   "metadata": {},
   "outputs": [
    {
     "data": {
      "text/html": [
       "<div>\n",
       "<style scoped>\n",
       "    .dataframe tbody tr th:only-of-type {\n",
       "        vertical-align: middle;\n",
       "    }\n",
       "\n",
       "    .dataframe tbody tr th {\n",
       "        vertical-align: top;\n",
       "    }\n",
       "\n",
       "    .dataframe thead th {\n",
       "        text-align: right;\n",
       "    }\n",
       "</style>\n",
       "<table border=\"1\" class=\"dataframe\">\n",
       "  <thead>\n",
       "    <tr style=\"text-align: right;\">\n",
       "      <th></th>\n",
       "      <th>기준년월</th>\n",
       "      <th>업종</th>\n",
       "      <th>성별</th>\n",
       "      <th>연령대</th>\n",
       "      <th>총이용건수</th>\n",
       "      <th>총이용금액</th>\n",
       "    </tr>\n",
       "  </thead>\n",
       "  <tbody>\n",
       "    <tr>\n",
       "      <th>0</th>\n",
       "      <td>201901</td>\n",
       "      <td>백화점</td>\n",
       "      <td>1</td>\n",
       "      <td>1</td>\n",
       "      <td>1</td>\n",
       "      <td>7.600000e+03</td>\n",
       "    </tr>\n",
       "    <tr>\n",
       "      <th>1</th>\n",
       "      <td>201901</td>\n",
       "      <td>백화점</td>\n",
       "      <td>1</td>\n",
       "      <td>10</td>\n",
       "      <td>379</td>\n",
       "      <td>1.945872e+07</td>\n",
       "    </tr>\n",
       "    <tr>\n",
       "      <th>2</th>\n",
       "      <td>201901</td>\n",
       "      <td>백화점</td>\n",
       "      <td>1</td>\n",
       "      <td>20</td>\n",
       "      <td>45173</td>\n",
       "      <td>4.747711e+09</td>\n",
       "    </tr>\n",
       "  </tbody>\n",
       "</table>\n",
       "</div>"
      ],
      "text/plain": [
       "     기준년월   업종  성별  연령대  총이용건수         총이용금액\n",
       "0  201901  백화점   1    1      1  7.600000e+03\n",
       "1  201901  백화점   1   10    379  1.945872e+07\n",
       "2  201901  백화점   1   20  45173  4.747711e+09"
      ]
     },
     "execution_count": 136,
     "metadata": {},
     "output_type": "execute_result"
    }
   ],
   "source": [
    "df.columns = ['기준년월', '업종', '성별', '연령대', '총이용건수', '총이용금액']\n",
    "df.head(3)"
   ]
  },
  {
   "cell_type": "code",
   "execution_count": 137,
   "metadata": {},
   "outputs": [
    {
     "data": {
      "text/plain": [
       "0      1970-01-01 00:00:00.000201901\n",
       "1      1970-01-01 00:00:00.000201901\n",
       "2      1970-01-01 00:00:00.000201901\n",
       "3      1970-01-01 00:00:00.000201901\n",
       "4      1970-01-01 00:00:00.000201901\n",
       "                    ...             \n",
       "2643   1970-01-01 00:00:00.000202109\n",
       "2644   1970-01-01 00:00:00.000202109\n",
       "2645   1970-01-01 00:00:00.000202109\n",
       "2646   1970-01-01 00:00:00.000202109\n",
       "2647   1970-01-01 00:00:00.000202109\n",
       "Name: 기준년월, Length: 2648, dtype: datetime64[ns]"
      ]
     },
     "execution_count": 137,
     "metadata": {},
     "output_type": "execute_result"
    }
   ],
   "source": [
    "# 시계열로 데이터 변환\n",
    "pd.to_datetime(df['기준년월'], format= '%Y-%m')"
   ]
  },
  {
   "cell_type": "code",
   "execution_count": 117,
   "metadata": {},
   "outputs": [
    {
     "data": {
      "text/html": [
       "<div>\n",
       "<style scoped>\n",
       "    .dataframe tbody tr th:only-of-type {\n",
       "        vertical-align: middle;\n",
       "    }\n",
       "\n",
       "    .dataframe tbody tr th {\n",
       "        vertical-align: top;\n",
       "    }\n",
       "\n",
       "    .dataframe thead th {\n",
       "        text-align: right;\n",
       "    }\n",
       "</style>\n",
       "<table border=\"1\" class=\"dataframe\">\n",
       "  <thead>\n",
       "    <tr style=\"text-align: right;\">\n",
       "      <th></th>\n",
       "      <th>기준년월</th>\n",
       "      <th>업종</th>\n",
       "      <th>성별</th>\n",
       "      <th>연령대</th>\n",
       "      <th>총이용건수</th>\n",
       "      <th>총이용금액</th>\n",
       "    </tr>\n",
       "    <tr>\n",
       "      <th>기준년월</th>\n",
       "      <th></th>\n",
       "      <th></th>\n",
       "      <th></th>\n",
       "      <th></th>\n",
       "      <th></th>\n",
       "      <th></th>\n",
       "    </tr>\n",
       "  </thead>\n",
       "  <tbody>\n",
       "    <tr>\n",
       "      <th>201901</th>\n",
       "      <td>201901</td>\n",
       "      <td>백화점</td>\n",
       "      <td>1</td>\n",
       "      <td>1</td>\n",
       "      <td>1</td>\n",
       "      <td>7.600000e+03</td>\n",
       "    </tr>\n",
       "    <tr>\n",
       "      <th>201901</th>\n",
       "      <td>201901</td>\n",
       "      <td>백화점</td>\n",
       "      <td>1</td>\n",
       "      <td>10</td>\n",
       "      <td>379</td>\n",
       "      <td>1.945872e+07</td>\n",
       "    </tr>\n",
       "    <tr>\n",
       "      <th>201901</th>\n",
       "      <td>201901</td>\n",
       "      <td>백화점</td>\n",
       "      <td>1</td>\n",
       "      <td>20</td>\n",
       "      <td>45173</td>\n",
       "      <td>4.747711e+09</td>\n",
       "    </tr>\n",
       "    <tr>\n",
       "      <th>201901</th>\n",
       "      <td>201901</td>\n",
       "      <td>백화점</td>\n",
       "      <td>1</td>\n",
       "      <td>30</td>\n",
       "      <td>271858</td>\n",
       "      <td>2.791826e+10</td>\n",
       "    </tr>\n",
       "    <tr>\n",
       "      <th>201901</th>\n",
       "      <td>201901</td>\n",
       "      <td>백화점</td>\n",
       "      <td>1</td>\n",
       "      <td>40</td>\n",
       "      <td>391109</td>\n",
       "      <td>3.791149e+10</td>\n",
       "    </tr>\n",
       "  </tbody>\n",
       "</table>\n",
       "</div>"
      ],
      "text/plain": [
       "          기준년월   업종  성별  연령대   총이용건수         총이용금액\n",
       "기준년월                                              \n",
       "201901  201901  백화점   1    1       1  7.600000e+03\n",
       "201901  201901  백화점   1   10     379  1.945872e+07\n",
       "201901  201901  백화점   1   20   45173  4.747711e+09\n",
       "201901  201901  백화점   1   30  271858  2.791826e+10\n",
       "201901  201901  백화점   1   40  391109  3.791149e+10"
      ]
     },
     "execution_count": 117,
     "metadata": {},
     "output_type": "execute_result"
    }
   ],
   "source": [
    "# 기준년월 컬럼을 인덱스로 변경\n",
    "df.set_index(df['기준년월'], inplace= True)\n",
    "df.head()"
   ]
  },
  {
   "cell_type": "code",
   "execution_count": 119,
   "metadata": {},
   "outputs": [
    {
     "ename": "TypeError",
     "evalue": "'DataFrame' object is not callable",
     "output_type": "error",
     "traceback": [
      "\u001b[1;31m---------------------------------------------------------------------------\u001b[0m",
      "\u001b[1;31mTypeError\u001b[0m                                 Traceback (most recent call last)",
      "Cell \u001b[1;32mIn[119], line 1\u001b[0m\n\u001b[1;32m----> 1\u001b[0m df(df[[\u001b[39m'\u001b[39;49m\u001b[39m총이용건수\u001b[39;49m\u001b[39m'\u001b[39;49m,\u001b[39m'\u001b[39;49m\u001b[39m총이용금액\u001b[39;49m\u001b[39m'\u001b[39;49m]] \u001b[39m<\u001b[39;49m\u001b[39m0\u001b[39;49m)\u001b[39m.\u001b[39many(\u001b[39m0\u001b[39m)\n",
      "\u001b[1;31mTypeError\u001b[0m: 'DataFrame' object is not callable"
     ]
    }
   ],
   "source": [
    "df(df[['총이용건수','총이용금액']] <0).any(0)"
   ]
  },
  {
   "cell_type": "code",
   "execution_count": 132,
   "metadata": {},
   "outputs": [],
   "source": [
    "# 연령대가 0인 데이터를 제외\n",
    "df_2 = df[~df['연령대'] == 0]"
   ]
  },
  {
   "cell_type": "code",
   "execution_count": 133,
   "metadata": {},
   "outputs": [
    {
     "data": {
      "text/plain": [
       "Series([], Name: 성별, dtype: int64)"
      ]
     },
     "execution_count": 133,
     "metadata": {},
     "output_type": "execute_result"
    }
   ],
   "source": [
    "df_2['성별'] = df_2['성별'].apply(lambda x : '남자' if x==1 else '여자')"
   ]
  },
  {
   "cell_type": "code",
   "execution_count": 134,
   "metadata": {},
   "outputs": [
    {
     "ename": "AttributeError",
     "evalue": "'Int64Index' object has no attribute 'strftime'",
     "output_type": "error",
     "traceback": [
      "\u001b[1;31m---------------------------------------------------------------------------\u001b[0m",
      "\u001b[1;31mAttributeError\u001b[0m                            Traceback (most recent call last)",
      "Cell \u001b[1;32mIn[134], line 3\u001b[0m\n\u001b[0;32m      1\u001b[0m \u001b[39m# 연도별 남, 녀 건당 이용 평균 금액을 출력 및 시각화\u001b[39;00m\n\u001b[0;32m      2\u001b[0m \u001b[39m# 연도 컬럼을 생성\u001b[39;00m\n\u001b[1;32m----> 3\u001b[0m df_2[\u001b[39m'\u001b[39m\u001b[39m연도\u001b[39m\u001b[39m'\u001b[39m] \u001b[39m=\u001b[39m df_2\u001b[39m.\u001b[39;49mindex\u001b[39m.\u001b[39;49mstrftime(\u001b[39m'\u001b[39m\u001b[39m%\u001b[39m\u001b[39mY\u001b[39m\u001b[39m'\u001b[39m)\n",
      "\u001b[1;31mAttributeError\u001b[0m: 'Int64Index' object has no attribute 'strftime'"
     ]
    }
   ],
   "source": [
    "# 연도별 남, 녀 건당 이용 평균 금액을 출력 및 시각화\n",
    "# 연도 컬럼을 생성\n",
    "df_2['연도'] = df_2.index.strftime('%Y')"
   ]
  },
  {
   "cell_type": "code",
   "execution_count": null,
   "metadata": {},
   "outputs": [],
   "source": [
    "#건당 평균 금액 컬럼 생성\n",
    "df_2 "
   ]
  },
  {
   "attachments": {},
   "cell_type": "markdown",
   "metadata": {},
   "source": [
    "## 온라인 카드 매출과 오프라인 카드매출을 월별로 비교\n",
    "1. 오프라인 데이터 df를 월별로 그룹화 총이용금액의 합계\n",
    "    - 기준년월을 시계열데이터 변경\n",
    "    - 기준년월 인덱스로 변경\n",
    "    - 인덱스를 기준으로 그룹화 -> 총이용금액의 합계\n",
    "2. 온라인 데이터 df_online도 월별로 그룹화 총이용금액의 합계\n",
    "    - 기준년월을 시계열데이터 변경\n",
    "    - 기준년월 인덱스로 변경\n",
    "    - 인덱스를 기준으로 그룹화 -> 총이용금액의 합계\n",
    "3. 1,2번과정에서 나온 데이터를 plot 그래프를 그려서 차이를 확인\n",
    "4. 2개의 데이터프레임을 단순한 행 결합\n",
    "    - df_online에 업종 파생 변수 생성 값은 \"온라인\"\n",
    "    - df와 df_online 데이터프레임을 행 결합\n",
    "    - 월별, 업종별로 총 이용 금액을 pivot_table을 이용하여 그래프 시각화"
   ]
  },
  {
   "cell_type": "code",
   "execution_count": 130,
   "metadata": {},
   "outputs": [],
   "source": []
  }
 ],
 "metadata": {
  "kernelspec": {
   "display_name": "Python 3",
   "language": "python",
   "name": "python3"
  },
  "language_info": {
   "codemirror_mode": {
    "name": "ipython",
    "version": 3
   },
   "file_extension": ".py",
   "mimetype": "text/x-python",
   "name": "python",
   "nbconvert_exporter": "python",
   "pygments_lexer": "ipython3",
   "version": "3.11.2"
  },
  "orig_nbformat": 4
 },
 "nbformat": 4,
 "nbformat_minor": 2
}
