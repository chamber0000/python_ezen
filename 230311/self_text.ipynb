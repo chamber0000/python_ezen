{
 "cells": [
  {
   "cell_type": "code",
   "execution_count": 2,
   "metadata": {},
   "outputs": [],
   "source": [
    "def search_text(_search):\n",
    "    from selenium import webdriver\n",
    "    from selenium.webdriver.common.by import By\n",
    "    from selenium.webdriver.common.keys import Keys\n",
    "    from bs4 import BeautifulSoup as bs\n",
    "    import time\n",
    "    \n",
    "    path = '../chromdriver'\n",
    "    driver = webdriver.Chrome(path)\n",
    "    driver.get('https://www.naver.com') \n",
    "\n",
    "    element = driver.find_element(By.ID,'query')\n",
    "    element.send_keys(_search) # 2.웹드라이버에서 검색어를 입력 \n",
    "    element.send_keys(Keys.ENTER) # 3.웹 드라이버에서 엔터키를 입력\n",
    "    time.sleep(0.25)\n",
    "    data = bs(driver.page_source,'html.parser') # 4.페이지의 소스코드를 변수에 입력\n",
    "                                                # 5.bs를 이용하여 html parsing\n",
    "    div_list = data.find_all('div',attrs={      # 6.parsing된 데이터에서 지식인 부분 출력\n",
    "        'class':'question_group'\n",
    "    })\n",
    "    search_list =[]                             # 7. a태그 안에 text들을 리스트 형태로 저장\n",
    "    for i in div_list:\n",
    "        if i.find('a'):\n",
    "            search_list.append(i.find('a').get_text())\n",
    "    driver.close()\n",
    "    return search_list"
   ]
  },
  {
   "cell_type": "code",
   "execution_count": 14,
   "metadata": {},
   "outputs": [
    {
     "name": "stderr",
     "output_type": "stream",
     "text": [
      "C:\\Users\\ezen\\AppData\\Local\\Temp\\ipykernel_7596\\3502675214.py:9: DeprecationWarning: executable_path has been deprecated, please pass in a Service object\n",
      "  driver = webdriver.Chrome(path)\n"
     ]
    },
    {
     "data": {
      "text/plain": [
       "['파이썬 파싱이 뮈에요? 파싱이 뭐죠? 예시도 보여주세요 ㅜㅜ',\n",
       " '프로그램 파싱이란 게 뭘까요?',\n",
       " '파싱 리튬 배터리 수리 가능한가요 파싱 FS-970N 배터리 물리적 충격으로 접합부쪽 뚜껑이 분리됐어요 ㅠㅠ 다시 닫아서 테이프로 감아봐도 안되던데, 수리가 가능한가요? 정식 수입 업체에서는 배터리 소모품이라 수리가 어렵다고해서 사설로 가능한지 알아보고싶은데 정보가 없네요 ..']"
      ]
     },
     "execution_count": 14,
     "metadata": {},
     "output_type": "execute_result"
    }
   ],
   "source": [
    "search_text('파싱')"
   ]
  },
  {
   "cell_type": "code",
   "execution_count": 15,
   "metadata": {},
   "outputs": [
    {
     "name": "stderr",
     "output_type": "stream",
     "text": [
      "C:\\Users\\ezen\\AppData\\Local\\Temp\\ipykernel_7596\\3502675214.py:9: DeprecationWarning: executable_path has been deprecated, please pass in a Service object\n",
      "  driver = webdriver.Chrome(path)\n"
     ]
    },
    {
     "data": {
      "text/plain": [
       "['직구할 때 환율 질문입니다. 직구를 하려는데, 환율이 있고, 고시환율이 있던데, 어떤 차이가 있나요? 그리고 해외 결제시 어떤 환율을 기준으로 결제가 되며, 통관시 통관되는 시점의 환율이 적용돼 무관세가 적용되나요 아니면, 결제 당시의 환율을 기준으로 무관세가 적용되나요?',\n",
       " '금리,환율 등등 질문드립니다. 금리=화폐가치이고 미국이 금리인상하면 환율상승. 원화가치하락인가요? 그럼 우리도 원화가치 하락을 막기위해 금리인상?? 음.. 잘 모르겠네요. 인플레이션.물가.금리.원화.원/달러(환율)이런 쪽에서의 상관관계에 대해 자세한 설명좀 부탁드립니다',\n",
       " '라오스 환율 질문드립니다 3만원 정도를 라오스 환율 낍으로 하면 현 시세로 얼마가 나오는지 또 대충 2100낍 정도로 알 고 있습니다 그런데 2100낍 정도면 라오스에서 무얼 살 수 있는지 궁금합니다']"
      ]
     },
     "execution_count": 15,
     "metadata": {},
     "output_type": "execute_result"
    }
   ],
   "source": [
    "search_text('환율')"
   ]
  },
  {
   "cell_type": "code",
   "execution_count": 3,
   "metadata": {},
   "outputs": [
    {
     "name": "stderr",
     "output_type": "stream",
     "text": [
      "C:\\Users\\ezen\\AppData\\Local\\Temp\\ipykernel_11584\\3502675214.py:9: DeprecationWarning: executable_path has been deprecated, please pass in a Service object\n",
      "  driver = webdriver.Chrome(path)\n"
     ]
    },
    {
     "data": {
      "text/plain": [
       "['챗GPT 할려고 했는데 이렇게 떠요...어떻게 하나요??',\n",
       " '챗GPT 사용법 알려주세요 어디 들어가서 뭐 해야 해요?',\n",
       " '챗GPT 왜 이럴까요? 챗GPT 사용하는데 계속 오류가 나고 사용이 안돼요. 질문을 해도 질문 답변하다가 계속 끊기고... 요즘 챗GPT 못쓰면 안된다는데 잘쓰고 싶은데 안돼서 오류해결이나 방법 계속 찾고 있네요.... 스마트폰으로 잘 사용하는 방법 있으면 좀 알려주세요. 챗GPT 사용법이 생각보다 어렵네요']"
      ]
     },
     "execution_count": 3,
     "metadata": {},
     "output_type": "execute_result"
    }
   ],
   "source": [
    "search_text('챗gpt')"
   ]
  }
 ],
 "metadata": {
  "kernelspec": {
   "display_name": "Python 3",
   "language": "python",
   "name": "python3"
  },
  "language_info": {
   "codemirror_mode": {
    "name": "ipython",
    "version": 3
   },
   "file_extension": ".py",
   "mimetype": "text/x-python",
   "name": "python",
   "nbconvert_exporter": "python",
   "pygments_lexer": "ipython3",
   "version": "3.11.2"
  },
  "orig_nbformat": 4
 },
 "nbformat": 4,
 "nbformat_minor": 2
}
