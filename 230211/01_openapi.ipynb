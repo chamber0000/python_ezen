{
 "cells": [
  {
   "cell_type": "code",
   "execution_count": null,
   "metadata": {},
   "outputs": [],
   "source": [
    "service_key = \"dtbWOdJ%2FCz5HE0DGLU%2BCRPe7pOW0NIQBUcGEqsHZaTRiYCI%2F5%2BzugwzQjcvuId7NPdg6rUiW%2Bft3fm7yqyD4pw%3D%3D\"\n",
    "\n",
    "\n",
    "url = \"http://openapi.data.go.kr/openapi/service/rest/Covid19/getCovid19InfStateJson\""
   ]
  },
  {
   "cell_type": "code",
   "execution_count": 3,
   "metadata": {},
   "outputs": [],
   "source": [
    "# open API(메뉴판) 라이브러리 로드\n",
    "import requests\n",
    "from urllib import parse   ## 다른 형태 import urllib.parse as parse\n",
    "import xmltodict\n",
    "\n",
    "\n"
   ]
  },
  {
   "cell_type": "code",
   "execution_count": 2,
   "metadata": {},
   "outputs": [
    {
     "name": "stdout",
     "output_type": "stream",
     "text": [
      "Collecting requests\n",
      "  Downloading requests-2.28.2-py3-none-any.whl (62 kB)\n",
      "     ---------------------------------------- 0.0/62.8 kB ? eta -:--:--\n",
      "     ---------------------------------------- 62.8/62.8 kB ? eta 0:00:00\n",
      "Collecting xmltodict\n",
      "  Downloading xmltodict-0.13.0-py2.py3-none-any.whl (10.0 kB)\n",
      "Collecting charset-normalizer<4,>=2\n",
      "  Downloading charset_normalizer-3.0.1-cp311-cp311-win_amd64.whl (96 kB)\n",
      "     ---------------------------------------- 0.0/96.0 kB ? eta -:--:--\n",
      "     ---------------------------------------- 96.0/96.0 kB 5.7 MB/s eta 0:00:00\n",
      "Collecting idna<4,>=2.5\n",
      "  Downloading idna-3.4-py3-none-any.whl (61 kB)\n",
      "     ---------------------------------------- 0.0/61.5 kB ? eta -:--:--\n",
      "     ---------------------------------------- 61.5/61.5 kB ? eta 0:00:00\n",
      "Collecting urllib3<1.27,>=1.21.1\n",
      "  Downloading urllib3-1.26.14-py2.py3-none-any.whl (140 kB)\n",
      "     ---------------------------------------- 0.0/140.6 kB ? eta -:--:--\n",
      "     -------------------------------------- 140.6/140.6 kB 8.7 MB/s eta 0:00:00\n",
      "Collecting certifi>=2017.4.17\n",
      "  Downloading certifi-2022.12.7-py3-none-any.whl (155 kB)\n",
      "     ---------------------------------------- 0.0/155.3 kB ? eta -:--:--\n",
      "     -------------------------------------- 155.3/155.3 kB 4.5 MB/s eta 0:00:00\n",
      "Installing collected packages: charset-normalizer, xmltodict, urllib3, idna, certifi, requests\n",
      "Successfully installed certifi-2022.12.7 charset-normalizer-3.0.1 idna-3.4 requests-2.28.2 urllib3-1.26.14 xmltodict-0.13.0\n"
     ]
    }
   ],
   "source": [
    "!pip install requests xmltodict"
   ]
  },
  {
   "cell_type": "code",
   "execution_count": null,
   "metadata": {},
   "outputs": [],
   "source": [
    "## openApi를 이용해서 서버와 통신하여 데이터를 가져오는 작업\n",
    "## 어느 api에 접속할지 url 변수를 생성\n",
    "\n",
    "url = \"http://openapi.data.go.kr/openapi/service/rest/Covid19/getCovid19InfStateJson\"\n",
    "\n",
    "## 공공데이터포털에서 주소와 함께 보내야되는 요청 변수\n",
    "#$ 서비스키(공공데이터포탈에서 코로나 현황에 대한 강사님 키값)\n",
    "service_key = \"dtbWOdJ%2FCz5HE0DGLU%2BCRPe7pOW0NIQBUcGEqsHZaTRiYCI%2F5%2BzugwzQjcvuId7NPdg6rUiW%2Bft3fm7yqyD4pw%3D%3D\"\n",
    "\n",
    "param = {\n",
    "    'serviceKey' : parse.unquote(service_key),  \n",
    "    ## Parse는 문장을 분석하다 라는 뜻으로 \n",
    "    ## 프로그래밍에서 parse는 프로그래밍 언어 또는 xml과 json과 같은 표현 언어등을 해석하는 작업\n",
    "    ## unquote는 문자열을 요청변수화 시키는 함수\n",
    "    'pageNo' : '1',               ## 페이지 번호\n",
    "    'numOfRows' : '5000',         ## 페이지당 데이터의 수\n",
    "    'startCreateDt' : '20220101', ## 데이터의 시작 일자\n",
    "    'endCreateDt' : '20230210'    ## 데이터의 마지막 일자\n",
    "}\n",
    "## 서버에게 요청\n",
    "response = requests.get(url, params = param)\n",
    "## response는 xml 형태의 데이터\n",
    "\n",
    "## xml 데이터를 dict형태로 변환\n",
    "result = xmltodict.parse(response.content)\n",
    "\n",
    "print(result)\n"
   ]
  },
  {
   "cell_type": "code",
   "execution_count": 18,
   "metadata": {},
   "outputs": [],
   "source": [
    "## result의 결과 안에 response 안에 body 안에 items 안에 item의 데이터\n",
    "rows = result['response']['body']['items']['item']"
   ]
  },
  {
   "cell_type": "code",
   "execution_count": 20,
   "metadata": {},
   "outputs": [
    {
     "data": {
      "text/html": [
       "<div>\n",
       "<style scoped>\n",
       "    .dataframe tbody tr th:only-of-type {\n",
       "        vertical-align: middle;\n",
       "    }\n",
       "\n",
       "    .dataframe tbody tr th {\n",
       "        vertical-align: top;\n",
       "    }\n",
       "\n",
       "    .dataframe thead th {\n",
       "        text-align: right;\n",
       "    }\n",
       "</style>\n",
       "<table border=\"1\" class=\"dataframe\">\n",
       "  <thead>\n",
       "    <tr style=\"text-align: right;\">\n",
       "      <th></th>\n",
       "      <th>createDt</th>\n",
       "      <th>deathCnt</th>\n",
       "      <th>decideCnt</th>\n",
       "      <th>seq</th>\n",
       "      <th>stateDt</th>\n",
       "      <th>stateTime</th>\n",
       "      <th>updateDt</th>\n",
       "      <th>accExamCnt</th>\n",
       "    </tr>\n",
       "  </thead>\n",
       "  <tbody>\n",
       "    <tr>\n",
       "      <th>0</th>\n",
       "      <td>2023-02-10 04:22:09.0</td>\n",
       "      <td>33697</td>\n",
       "      <td>30325343</td>\n",
       "      <td>1159</td>\n",
       "      <td>20230210</td>\n",
       "      <td>00:00</td>\n",
       "      <td>2023-02-11 06:02:40.0</td>\n",
       "      <td>NaN</td>\n",
       "    </tr>\n",
       "    <tr>\n",
       "      <th>1</th>\n",
       "      <td>2023-02-09 00:13:08.0</td>\n",
       "      <td>33680</td>\n",
       "      <td>30311839</td>\n",
       "      <td>1158</td>\n",
       "      <td>20230209</td>\n",
       "      <td>00:00</td>\n",
       "      <td>2023-02-11 06:03:21.0</td>\n",
       "      <td>NaN</td>\n",
       "    </tr>\n",
       "    <tr>\n",
       "      <th>2</th>\n",
       "      <td>2023-02-08 00:10:49.0</td>\n",
       "      <td>33646</td>\n",
       "      <td>30297177</td>\n",
       "      <td>1157</td>\n",
       "      <td>20230208</td>\n",
       "      <td>00:00</td>\n",
       "      <td>2023-02-11 06:03:54.0</td>\n",
       "      <td>NaN</td>\n",
       "    </tr>\n",
       "    <tr>\n",
       "      <th>3</th>\n",
       "      <td>2023-02-07 04:25:43.0</td>\n",
       "      <td>33624</td>\n",
       "      <td>30279250</td>\n",
       "      <td>1156</td>\n",
       "      <td>20230207</td>\n",
       "      <td>00:00</td>\n",
       "      <td>2023-02-11 06:04:17.0</td>\n",
       "      <td>NaN</td>\n",
       "    </tr>\n",
       "    <tr>\n",
       "      <th>4</th>\n",
       "      <td>2023-02-06 04:20:35.0</td>\n",
       "      <td>33614</td>\n",
       "      <td>30263138</td>\n",
       "      <td>1155</td>\n",
       "      <td>20230206</td>\n",
       "      <td>00:00</td>\n",
       "      <td>2023-02-11 06:04:43.0</td>\n",
       "      <td>NaN</td>\n",
       "    </tr>\n",
       "  </tbody>\n",
       "</table>\n",
       "</div>"
      ],
      "text/plain": [
       "                createDt deathCnt decideCnt   seq   stateDt stateTime  \\\n",
       "0  2023-02-10 04:22:09.0    33697  30325343  1159  20230210     00:00   \n",
       "1  2023-02-09 00:13:08.0    33680  30311839  1158  20230209     00:00   \n",
       "2  2023-02-08 00:10:49.0    33646  30297177  1157  20230208     00:00   \n",
       "3  2023-02-07 04:25:43.0    33624  30279250  1156  20230207     00:00   \n",
       "4  2023-02-06 04:20:35.0    33614  30263138  1155  20230206     00:00   \n",
       "\n",
       "                updateDt accExamCnt  \n",
       "0  2023-02-11 06:02:40.0        NaN  \n",
       "1  2023-02-11 06:03:21.0        NaN  \n",
       "2  2023-02-11 06:03:54.0        NaN  \n",
       "3  2023-02-11 06:04:17.0        NaN  \n",
       "4  2023-02-11 06:04:43.0        NaN  "
      ]
     },
     "execution_count": 20,
     "metadata": {},
     "output_type": "execute_result"
    }
   ],
   "source": [
    "import pandas as pd\n",
    "df = pd.DataFrame(rows)\n",
    "df.head()"
   ]
  },
  {
   "cell_type": "code",
   "execution_count": 23,
   "metadata": {},
   "outputs": [],
   "source": [
    "## pandas를 이용하여 csv로 파일 저장\n",
    "df.to_csv(\"conora.csv\", encoding = 'UTF-8')"
   ]
  },
  {
   "cell_type": "code",
   "execution_count": null,
   "metadata": {},
   "outputs": [],
   "source": []
  },
  {
   "cell_type": "code",
   "execution_count": null,
   "metadata": {},
   "outputs": [],
   "source": []
  }
 ],
 "metadata": {
  "kernelspec": {
   "display_name": "Python 3",
   "language": "python",
   "name": "python3"
  },
  "language_info": {
   "codemirror_mode": {
    "name": "ipython",
    "version": 3
   },
   "file_extension": ".py",
   "mimetype": "text/x-python",
   "name": "python",
   "nbconvert_exporter": "python",
   "pygments_lexer": "ipython3",
   "version": "3.11.2"
  },
  "orig_nbformat": 4,
  "vscode": {
   "interpreter": {
    "hash": "d83fa9b78f6d32ae369e3b25d0bdfb8546935a326f61d3bc2625644343d73d1f"
   }
  }
 },
 "nbformat": 4,
 "nbformat_minor": 2
}
