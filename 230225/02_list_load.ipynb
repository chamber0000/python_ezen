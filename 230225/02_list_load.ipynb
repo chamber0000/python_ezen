{
 "cells": [
  {
   "cell_type": "code",
   "execution_count": 89,
   "metadata": {},
   "outputs": [],
   "source": [
    "import os   # 명령프롬프트에서 사용할수 있는 명령어 사용\n",
    "import pandas as pd"
   ]
  },
  {
   "cell_type": "code",
   "execution_count": 90,
   "metadata": {},
   "outputs": [],
   "source": [
    "# 파일 리스트 생성\n",
    "file_list = os.listdir('../csv/2017')"
   ]
  },
  {
   "cell_type": "code",
   "execution_count": 91,
   "metadata": {},
   "outputs": [
    {
     "data": {
      "text/plain": [
       "['201701_expense_list.csv',\n",
       " '201702_expense_list.csv',\n",
       " '201703_expense_list.csv',\n",
       " '201704_expense_list.csv',\n",
       " '201705_expense_list.csv',\n",
       " '201706_expense_list.csv',\n",
       " '201707_expense_list.csv',\n",
       " '201708_expense_list.csv',\n",
       " '201709_expense_list.csv',\n",
       " '201710_expense_list.csv',\n",
       " '201711_expense_list.csv',\n",
       " '201712_expense_list.csv']"
      ]
     },
     "execution_count": 91,
     "metadata": {},
     "output_type": "execute_result"
    }
   ],
   "source": [
    "file_list"
   ]
  },
  {
   "cell_type": "code",
   "execution_count": 92,
   "metadata": {},
   "outputs": [
    {
     "name": "stdout",
     "output_type": "stream",
     "text": [
      "201701_expense_list.csv\n",
      "201702_expense_list.csv\n",
      "201703_expense_list.csv\n",
      "201704_expense_list.csv\n",
      "201705_expense_list.csv\n",
      "201706_expense_list.csv\n",
      "201707_expense_list.csv\n",
      "201708_expense_list.csv\n",
      "201709_expense_list.csv\n",
      "201710_expense_list.csv\n",
      "201711_expense_list.csv\n",
      "201712_expense_list.csv\n",
      "201701_expense_list.csv\n",
      "201702_expense_list.csv\n",
      "201703_expense_list.csv\n",
      "201704_expense_list.csv\n",
      "201705_expense_list.csv\n",
      "201706_expense_list.csv\n",
      "201707_expense_list.csv\n",
      "201708_expense_list.csv\n",
      "201709_expense_list.csv\n",
      "201710_expense_list.csv\n",
      "201711_expense_list.csv\n",
      "201712_expense_list.csv\n"
     ]
    }
   ],
   "source": [
    "# 반복문을 이용해서 파일명들을 각각 print\n",
    "# 각각 파일들을 pandas를 이용해서 파일을 로드하여 하나의 데이터프레임으로 결합\n",
    "# 결합은 유니업 결합(concat)을 사용하여 결합\n",
    "# hint : pd.read_csv(파일의 경로 + 파일의 이름)\n",
    "# 비어있는 데이터프레임을 생성\n",
    "# 반복문에서 read_csv -> pd.concat()\n",
    "\n",
    "# case1(range 사용)\n",
    "\n",
    "for i in range(0,len(file_list),1):\n",
    "    print(file_list[i])\n",
    "\n",
    "# case2(list 사용)\n",
    "for i in file_list:\n",
    "    print(i)\n"
   ]
  },
  {
   "cell_type": "code",
   "execution_count": 93,
   "metadata": {},
   "outputs": [
    {
     "name": "stdout",
     "output_type": "stream",
     "text": [
      "../csv/2017/201712_expense_list.csv\n"
     ]
    }
   ],
   "source": [
    "# csv를 데이터프레임으로 변경\n",
    "# pd.read_csv(파일경로)\n",
    "print('../csv/2017/' + '201712_expense_list.csv')"
   ]
  },
  {
   "cell_type": "code",
   "execution_count": 94,
   "metadata": {},
   "outputs": [
    {
     "data": {
      "text/plain": [
       "'../csv/2017/201701_expense_list.csv'"
      ]
     },
     "execution_count": 94,
     "metadata": {},
     "output_type": "execute_result"
    }
   ],
   "source": [
    "'../csv/2017/' + file_list[0]"
   ]
  },
  {
   "cell_type": "code",
   "execution_count": 95,
   "metadata": {},
   "outputs": [],
   "source": [
    "file_path = '../csv/2017/' # 문자열을 변수에 담아준다.\n",
    "\n",
    "total_df = pd.DataFrame()  # 비어있는 데이터프레임을 tatol_df에 저장\n",
    "for i in file_list:\n",
    "    df = pd.read_csv(file_path + i)  \n",
    "    # file_path와 i를 합친 문자열(상대주소)의 CSV파일을\n",
    "    # 데이터프레임화하여 df라는 변수에 저장\n",
    "    # case1\n",
    "    total_df = pd.concat([total_df,df], axis= 'rows').reset_index(drop=True) # axis = 0도 가능\n",
    "    # case2\n",
    "    # total_df = pd.concat([total_df,df], axis= 'rows', ignore_index=True)\n",
    "\n",
    "\n",
    "\n",
    "\n"
   ]
  },
  {
   "cell_type": "code",
   "execution_count": 96,
   "metadata": {},
   "outputs": [
    {
     "name": "stdout",
     "output_type": "stream",
     "text": [
      "<class 'pandas.core.frame.DataFrame'>\n",
      "RangeIndex: 70132 entries, 0 to 70131\n",
      "Data columns (total 20 columns):\n",
      " #   Column             Non-Null Count  Dtype  \n",
      "---  ------             --------------  -----  \n",
      " 0   nid                70132 non-null  int64  \n",
      " 1   title              70132 non-null  object \n",
      " 2   url                70132 non-null  object \n",
      " 3   dept_nm_lvl_1      70132 non-null  object \n",
      " 4   dept_nm_lvl_2      70074 non-null  object \n",
      " 5   dept_nm_lvl_3      61262 non-null  object \n",
      " 6   dept_nm_lvl_4      17939 non-null  object \n",
      " 7   dept_nm_lvl_5      3474 non-null   object \n",
      " 8   exec_yr            70132 non-null  int64  \n",
      " 9   exec_month         70132 non-null  int64  \n",
      " 10  expense_budget     3108 non-null   float64\n",
      " 11  expense_execution  2805 non-null   float64\n",
      " 12  category           1259 non-null   object \n",
      " 13  dept_nm_full       70053 non-null  object \n",
      " 14  exec_dt            70132 non-null  object \n",
      " 15  exec_loc           69360 non-null  object \n",
      " 16  exec_purpose       70110 non-null  object \n",
      " 17  target_nm          69597 non-null  object \n",
      " 18  payment_method     69929 non-null  object \n",
      " 19  exec_amount        70132 non-null  int64  \n",
      "dtypes: float64(2), int64(4), object(14)\n",
      "memory usage: 10.7+ MB\n"
     ]
    }
   ],
   "source": [
    "total_df.info()"
   ]
  },
  {
   "cell_type": "code",
   "execution_count": 97,
   "metadata": {},
   "outputs": [
    {
     "name": "stdout",
     "output_type": "stream",
     "text": [
      "202101_expense_list.csv\n",
      "202102_expense_list.csv\n",
      "202103_expense_list.csv\n",
      "202104_expense_list.csv\n",
      "202105_expense_list.csv\n",
      "202106_expense_list.csv\n",
      "202107_expense_list.csv\n",
      "202108_expense_list.csv\n",
      "202109_expense_list.csv\n",
      "202110_expense_list.csv\n",
      "202111_expense_list.csv\n",
      "202112_expense_list.csv\n"
     ]
    }
   ],
   "source": [
    "file_list21 = os.listdir('../csv/2021')\n",
    "file_path21 = '../csv/2021'\n",
    "total_df21 = pd.DataFrame()\n",
    "\n",
    "#for i in range(len(file_list21)):\n",
    "    #for i in file_list21:\n",
    " #   if file_list21[i][-3:]== 'csv':\n",
    "  #      print(file_list21[i])\n",
    "\n",
    "for i in file_list21:\n",
    "    if i.endswith('.csv'):\n",
    "        print(i)\n",
    "    \n",
    "    #df = pd.read_csv(file_path21 + i)\n",
    "    #total_df21 = pd.concat([total_df21, df], axis=0, ignore_index=True)"
   ]
  },
  {
   "cell_type": "code",
   "execution_count": 98,
   "metadata": {},
   "outputs": [],
   "source": [
    "# 함수 생성\n",
    "# 매개변수 2개 path, end_string\n",
    "def list_df(path, end_string):\n",
    "    # file_list 생성\n",
    "    file_list = os.listdir(path)\n",
    "    \n",
    "    # 확장자가 end_string과 같은 경우의 리스트만 추출\n",
    "    # case1\n",
    "    file_list2 =[]\n",
    "    for i in file_list:\n",
    "        if i.endswith(end_string):\n",
    "            file_list2.append(i)\n",
    "    # case2\n",
    "    file_list3 = [i for i in file_list if i.endswith(end_string)]\n",
    "    print(file_list2 == file_list3)\n",
    "\n",
    "    # file_list2의 리스트 항목들을 데이터프레임화하여\n",
    "    # 하나의 데이터프레임으로 결합\n",
    "\n",
    "    # 비어있는 데이터프레임 생성\n",
    "    total_df = pd.DataFrame()\n",
    "    \n",
    "    # file_list2의 항목들을 가지고 반복문 실행\n",
    "    for i in file_list2:\n",
    "        # path는 매개변수, i는 file_list2 항목의 값\n",
    "        if end_string =='.csv':\n",
    "            df = pd.read_csv(path + i)\n",
    "        elif end_string == '.json':\n",
    "            df = pd.read_json(path + i)\n",
    "        elif (end_string == '.xlsx') | (end_string == '.xls'):\n",
    "            df = pd.read_excel(path + i)\n",
    "        else : \n",
    "            return \"확장자가 잘못 입력되었습니다.\"\n",
    "\n",
    "        # 불러온 데이터프레임을 total_df에 단순한 행 결합\n",
    "        total_df = pd.concat([total_df, df], axis=0, ignore_index=True)\n",
    "    \n",
    "    # 합쳐진 데이터프레임을 리턴\n",
    "    return total_df"
   ]
  },
  {
   "cell_type": "code",
   "execution_count": 100,
   "metadata": {},
   "outputs": [
    {
     "name": "stdout",
     "output_type": "stream",
     "text": [
      "True\n"
     ]
    },
    {
     "data": {
      "text/html": [
       "<div>\n",
       "<style scoped>\n",
       "    .dataframe tbody tr th:only-of-type {\n",
       "        vertical-align: middle;\n",
       "    }\n",
       "\n",
       "    .dataframe tbody tr th {\n",
       "        vertical-align: top;\n",
       "    }\n",
       "\n",
       "    .dataframe thead th {\n",
       "        text-align: right;\n",
       "    }\n",
       "</style>\n",
       "<table border=\"1\" class=\"dataframe\">\n",
       "  <thead>\n",
       "    <tr style=\"text-align: right;\">\n",
       "      <th></th>\n",
       "      <th>nid</th>\n",
       "      <th>title</th>\n",
       "      <th>url</th>\n",
       "      <th>dept_nm_lvl_1</th>\n",
       "      <th>dept_nm_lvl_2</th>\n",
       "      <th>dept_nm_lvl_3</th>\n",
       "      <th>dept_nm_lvl_4</th>\n",
       "      <th>dept_nm_lvl_5</th>\n",
       "      <th>exec_yr</th>\n",
       "      <th>exec_month</th>\n",
       "      <th>expense_budget</th>\n",
       "      <th>expense_execution</th>\n",
       "      <th>category</th>\n",
       "      <th>dept_nm_full</th>\n",
       "      <th>exec_dt</th>\n",
       "      <th>exec_loc</th>\n",
       "      <th>exec_purpose</th>\n",
       "      <th>target_nm</th>\n",
       "      <th>payment_method</th>\n",
       "      <th>exec_amount</th>\n",
       "    </tr>\n",
       "  </thead>\n",
       "  <tbody>\n",
       "    <tr>\n",
       "      <th>0</th>\n",
       "      <td>11430252</td>\n",
       "      <td>2017년 1월 장애인복지정책과 업무추진비 집행내역</td>\n",
       "      <td>http://opengov.seoul.go.kr/public/11430252</td>\n",
       "      <td>서울시본청</td>\n",
       "      <td>복지본부</td>\n",
       "      <td>장애인복지정책과</td>\n",
       "      <td>NaN</td>\n",
       "      <td>NaN</td>\n",
       "      <td>2017</td>\n",
       "      <td>1</td>\n",
       "      <td>NaN</td>\n",
       "      <td>NaN</td>\n",
       "      <td>NaN</td>\n",
       "      <td>복지본부 장애인복지정책과</td>\n",
       "      <td>2017-01-26 13:10</td>\n",
       "      <td>동해일식 (중구 무교동)</td>\n",
       "      <td>기본소득과 장애인복지 논의간담회</td>\n",
       "      <td>장애인복지정책팀장 외 2명</td>\n",
       "      <td>카드</td>\n",
       "      <td>76000</td>\n",
       "    </tr>\n",
       "  </tbody>\n",
       "</table>\n",
       "</div>"
      ],
      "text/plain": [
       "        nid                         title  \\\n",
       "0  11430252  2017년 1월 장애인복지정책과 업무추진비 집행내역   \n",
       "\n",
       "                                          url dept_nm_lvl_1 dept_nm_lvl_2  \\\n",
       "0  http://opengov.seoul.go.kr/public/11430252         서울시본청          복지본부   \n",
       "\n",
       "  dept_nm_lvl_3 dept_nm_lvl_4 dept_nm_lvl_5  exec_yr  exec_month  \\\n",
       "0      장애인복지정책과           NaN           NaN     2017           1   \n",
       "\n",
       "   expense_budget  expense_execution category   dept_nm_full  \\\n",
       "0             NaN                NaN      NaN  복지본부 장애인복지정책과   \n",
       "\n",
       "            exec_dt       exec_loc       exec_purpose       target_nm  \\\n",
       "0  2017-01-26 13:10  동해일식 (중구 무교동)  기본소득과 장애인복지 논의간담회  장애인복지정책팀장 외 2명   \n",
       "\n",
       "  payment_method  exec_amount  \n",
       "0             카드        76000  "
      ]
     },
     "execution_count": 100,
     "metadata": {},
     "output_type": "execute_result"
    }
   ],
   "source": [
    "list_df('../csv/2017/','.csv').head(1)"
   ]
  },
  {
   "cell_type": "code",
   "execution_count": 101,
   "metadata": {},
   "outputs": [
    {
     "name": "stdout",
     "output_type": "stream",
     "text": [
      "True\n",
      "True\n"
     ]
    }
   ],
   "source": [
    "df_2017= list_df('../csv/2017/','.csv')\n",
    "df_2018= list_df('../csv/2018/','.csv')"
   ]
  },
  {
   "cell_type": "code",
   "execution_count": 102,
   "metadata": {},
   "outputs": [
    {
     "name": "stdout",
     "output_type": "stream",
     "text": [
      "<class 'pandas.core.frame.DataFrame'>\n",
      "RangeIndex: 6392 entries, 0 to 6391\n",
      "Data columns (total 20 columns):\n",
      " #   Column             Non-Null Count  Dtype  \n",
      "---  ------             --------------  -----  \n",
      " 0   nid                6392 non-null   int64  \n",
      " 1   title              6392 non-null   object \n",
      " 2   url                6392 non-null   object \n",
      " 3   dept_nm_lvl_1      6392 non-null   object \n",
      " 4   dept_nm_lvl_2      6392 non-null   object \n",
      " 5   dept_nm_lvl_3      6392 non-null   object \n",
      " 6   dept_nm_lvl_4      6392 non-null   object \n",
      " 7   dept_nm_lvl_5      6392 non-null   object \n",
      " 8   exec_yr            6392 non-null   int64  \n",
      " 9   exec_month         6392 non-null   int64  \n",
      " 10  expense_budget     318 non-null    float64\n",
      " 11  expense_execution  306 non-null    float64\n",
      " 12  category           6392 non-null   object \n",
      " 13  dept_nm_full       6392 non-null   object \n",
      " 14  exec_dt            6392 non-null   object \n",
      " 15  exec_loc           6392 non-null   object \n",
      " 16  exec_purpose       6392 non-null   object \n",
      " 17  target_nm          6392 non-null   object \n",
      " 18  payment_method     6392 non-null   object \n",
      " 19  exec_amount        6392 non-null   int64  \n",
      "dtypes: float64(2), int64(4), object(14)\n",
      "memory usage: 998.9+ KB\n"
     ]
    }
   ],
   "source": [
    "# json 데이터를 데이터프레임으로 로드\n",
    "json_data = pd.read_json('../csv/2019/201901_expense_list.json')\n",
    "json_data.info()"
   ]
  },
  {
   "cell_type": "code",
   "execution_count": 103,
   "metadata": {},
   "outputs": [
    {
     "name": "stdout",
     "output_type": "stream",
     "text": [
      "Requirement already satisfied: openpyxl in c:\\users\\ezen\\appdata\\local\\programs\\python\\python311\\lib\\site-packages (3.1.1)\n",
      "Requirement already satisfied: et-xmlfile in c:\\users\\ezen\\appdata\\local\\programs\\python\\python311\\lib\\site-packages (from openpyxl) (1.1.0)\n"
     ]
    },
    {
     "name": "stderr",
     "output_type": "stream",
     "text": [
      "\n",
      "[notice] A new release of pip is available: 23.0 -> 23.0.1\n",
      "[notice] To update, run: python.exe -m pip install --upgrade pip\n"
     ]
    }
   ],
   "source": [
    "# xlsx 파일을 로드하기 위한 엔진 라이브러리를 설치\n",
    "!pip install openpyxl"
   ]
  },
  {
   "cell_type": "code",
   "execution_count": 104,
   "metadata": {},
   "outputs": [
    {
     "name": "stdout",
     "output_type": "stream",
     "text": [
      "<class 'pandas.core.frame.DataFrame'>\n",
      "RangeIndex: 5282 entries, 0 to 5281\n",
      "Data columns (total 20 columns):\n",
      " #   Column             Non-Null Count  Dtype  \n",
      "---  ------             --------------  -----  \n",
      " 0   nid                5282 non-null   int64  \n",
      " 1   title              5282 non-null   object \n",
      " 2   url                5282 non-null   object \n",
      " 3   dept_nm_lvl_1      5282 non-null   object \n",
      " 4   dept_nm_lvl_2      5282 non-null   object \n",
      " 5   dept_nm_lvl_3      4198 non-null   object \n",
      " 6   dept_nm_lvl_4      1272 non-null   object \n",
      " 7   dept_nm_lvl_5      81 non-null     object \n",
      " 8   exec_yr            5282 non-null   int64  \n",
      " 9   exec_month         5282 non-null   int64  \n",
      " 10  expense_budget     355 non-null    float64\n",
      " 11  expense_execution  276 non-null    float64\n",
      " 12  category           224 non-null    object \n",
      " 13  dept_nm_full       5282 non-null   object \n",
      " 14  exec_dt            5282 non-null   object \n",
      " 15  exec_loc           5236 non-null   object \n",
      " 16  exec_purpose       5282 non-null   object \n",
      " 17  target_nm          5257 non-null   object \n",
      " 18  payment_method     5282 non-null   object \n",
      " 19  exec_amount        5282 non-null   int64  \n",
      "dtypes: float64(2), int64(4), object(14)\n",
      "memory usage: 825.4+ KB\n"
     ]
    }
   ],
   "source": [
    "# 엑셀 데이터를 데이터프레임으로 로드\n",
    "excel_data= pd.read_excel('../csv/2020/202001_expense_list.xlsx')\n",
    "excel_data.info()"
   ]
  },
  {
   "cell_type": "code",
   "execution_count": 106,
   "metadata": {},
   "outputs": [
    {
     "name": "stdout",
     "output_type": "stream",
     "text": [
      "True\n",
      "True\n"
     ]
    }
   ],
   "source": [
    "df_2019 = list_df('../csv/2019/','.json')\n",
    "df_2020 = list_df('../csv/2020/','.xlsx')"
   ]
  },
  {
   "cell_type": "code",
   "execution_count": 107,
   "metadata": {},
   "outputs": [
    {
     "name": "stdout",
     "output_type": "stream",
     "text": [
      "<class 'pandas.core.frame.DataFrame'>\n",
      "RangeIndex: 70862 entries, 0 to 70861\n",
      "Data columns (total 21 columns):\n",
      " #   Column             Non-Null Count  Dtype  \n",
      "---  ------             --------------  -----  \n",
      " 0   nid                70862 non-null  int64  \n",
      " 1   title              70862 non-null  object \n",
      " 2   url                70862 non-null  object \n",
      " 3   dept_nm_lvl_1      70862 non-null  object \n",
      " 4   dept_nm_lvl_2      70862 non-null  object \n",
      " 5   dept_nm_lvl_3      55593 non-null  object \n",
      " 6   dept_nm_lvl_4      18992 non-null  object \n",
      " 7   dept_nm_lvl_5      1601 non-null   object \n",
      " 8   exec_yr            70862 non-null  int64  \n",
      " 9   exec_month         70862 non-null  int64  \n",
      " 10  expense_budget     1823 non-null   float64\n",
      " 11  expense_execution  1338 non-null   float64\n",
      " 12  category           2123 non-null   object \n",
      " 13  dept_nm_full       70862 non-null  object \n",
      " 14  exec_dt            70862 non-null  object \n",
      " 15  exec_loc           70278 non-null  object \n",
      " 16  exec_purpose       70862 non-null  object \n",
      " 17  target_nm          70488 non-null  object \n",
      " 18  payment_method     70862 non-null  object \n",
      " 19  exec_amount        70862 non-null  int64  \n",
      " 20  bimok              283 non-null    object \n",
      "dtypes: float64(2), int64(4), object(15)\n",
      "memory usage: 11.4+ MB\n"
     ]
    }
   ],
   "source": [
    "df_2020.info()"
   ]
  },
  {
   "cell_type": "code",
   "execution_count": 112,
   "metadata": {},
   "outputs": [
    {
     "name": "stderr",
     "output_type": "stream",
     "text": [
      "C:\\Users\\ezen\\AppData\\Local\\Temp\\ipykernel_1340\\489260183.py:3: DeprecationWarning: the imp module is deprecated in favour of importlib and slated for removal in Python 3.12; see the module's documentation for alternative uses\n",
      "  import imp\n"
     ]
    },
    {
     "data": {
      "text/plain": [
       "<module 'list_pandas' from 'c:\\\\Users\\\\ezen\\\\Documents\\\\GitHub\\\\python_ezen\\\\230225\\\\list_pandas.py'>"
      ]
     },
     "execution_count": 112,
     "metadata": {},
     "output_type": "execute_result"
    }
   ],
   "source": [
    "## 모듈 로드  / 외부에 있는 파일의 코드를 불러온다\n",
    "import list_pandas\n",
    "import imp              # 모듈 재수정시\n",
    "imp.reload(list_pandas)"
   ]
  },
  {
   "cell_type": "code",
   "execution_count": 111,
   "metadata": {},
   "outputs": [
    {
     "name": "stdout",
     "output_type": "stream",
     "text": [
      "True\n"
     ]
    },
    {
     "data": {
      "text/html": [
       "<div>\n",
       "<style scoped>\n",
       "    .dataframe tbody tr th:only-of-type {\n",
       "        vertical-align: middle;\n",
       "    }\n",
       "\n",
       "    .dataframe tbody tr th {\n",
       "        vertical-align: top;\n",
       "    }\n",
       "\n",
       "    .dataframe thead th {\n",
       "        text-align: right;\n",
       "    }\n",
       "</style>\n",
       "<table border=\"1\" class=\"dataframe\">\n",
       "  <thead>\n",
       "    <tr style=\"text-align: right;\">\n",
       "      <th></th>\n",
       "      <th>nid</th>\n",
       "      <th>title</th>\n",
       "      <th>url</th>\n",
       "      <th>dept_nm_lvl_1</th>\n",
       "      <th>dept_nm_lvl_2</th>\n",
       "      <th>dept_nm_lvl_3</th>\n",
       "      <th>dept_nm_lvl_4</th>\n",
       "      <th>dept_nm_lvl_5</th>\n",
       "      <th>exec_yr</th>\n",
       "      <th>exec_month</th>\n",
       "      <th>expense_budget</th>\n",
       "      <th>expense_execution</th>\n",
       "      <th>category</th>\n",
       "      <th>dept_nm_full</th>\n",
       "      <th>exec_dt</th>\n",
       "      <th>exec_loc</th>\n",
       "      <th>exec_purpose</th>\n",
       "      <th>target_nm</th>\n",
       "      <th>payment_method</th>\n",
       "      <th>exec_amount</th>\n",
       "    </tr>\n",
       "  </thead>\n",
       "  <tbody>\n",
       "    <tr>\n",
       "      <th>0</th>\n",
       "      <td>11430252</td>\n",
       "      <td>2017년 1월 장애인복지정책과 업무추진비 집행내역</td>\n",
       "      <td>http://opengov.seoul.go.kr/public/11430252</td>\n",
       "      <td>서울시본청</td>\n",
       "      <td>복지본부</td>\n",
       "      <td>장애인복지정책과</td>\n",
       "      <td>NaN</td>\n",
       "      <td>NaN</td>\n",
       "      <td>2017</td>\n",
       "      <td>1</td>\n",
       "      <td>NaN</td>\n",
       "      <td>NaN</td>\n",
       "      <td>NaN</td>\n",
       "      <td>복지본부 장애인복지정책과</td>\n",
       "      <td>2017-01-26 13:10</td>\n",
       "      <td>동해일식 (중구 무교동)</td>\n",
       "      <td>기본소득과 장애인복지 논의간담회</td>\n",
       "      <td>장애인복지정책팀장 외 2명</td>\n",
       "      <td>카드</td>\n",
       "      <td>76000</td>\n",
       "    </tr>\n",
       "  </tbody>\n",
       "</table>\n",
       "</div>"
      ],
      "text/plain": [
       "        nid                         title  \\\n",
       "0  11430252  2017년 1월 장애인복지정책과 업무추진비 집행내역   \n",
       "\n",
       "                                          url dept_nm_lvl_1 dept_nm_lvl_2  \\\n",
       "0  http://opengov.seoul.go.kr/public/11430252         서울시본청          복지본부   \n",
       "\n",
       "  dept_nm_lvl_3 dept_nm_lvl_4 dept_nm_lvl_5  exec_yr  exec_month  \\\n",
       "0      장애인복지정책과           NaN           NaN     2017           1   \n",
       "\n",
       "   expense_budget  expense_execution category   dept_nm_full  \\\n",
       "0             NaN                NaN      NaN  복지본부 장애인복지정책과   \n",
       "\n",
       "            exec_dt       exec_loc       exec_purpose       target_nm  \\\n",
       "0  2017-01-26 13:10  동해일식 (중구 무교동)  기본소득과 장애인복지 논의간담회  장애인복지정책팀장 외 2명   \n",
       "\n",
       "  payment_method  exec_amount  \n",
       "0             카드        76000  "
      ]
     },
     "execution_count": 111,
     "metadata": {},
     "output_type": "execute_result"
    }
   ],
   "source": [
    "list_pandas.list_df('../csv/2017/','.csv').head(1)"
   ]
  },
  {
   "cell_type": "code",
   "execution_count": null,
   "metadata": {},
   "outputs": [],
   "source": []
  }
 ],
 "metadata": {
  "kernelspec": {
   "display_name": "Python 3",
   "language": "python",
   "name": "python3"
  },
  "language_info": {
   "codemirror_mode": {
    "name": "ipython",
    "version": 3
   },
   "file_extension": ".py",
   "mimetype": "text/x-python",
   "name": "python",
   "nbconvert_exporter": "python",
   "pygments_lexer": "ipython3",
   "version": "3.11.2"
  },
  "orig_nbformat": 4,
  "vscode": {
   "interpreter": {
    "hash": "d83fa9b78f6d32ae369e3b25d0bdfb8546935a326f61d3bc2625644343d73d1f"
   }
  }
 },
 "nbformat": 4,
 "nbformat_minor": 2
}
