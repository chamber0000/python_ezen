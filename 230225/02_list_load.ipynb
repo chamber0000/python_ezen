{
 "cells": [
  {
   "cell_type": "code",
   "execution_count": 17,
   "metadata": {},
   "outputs": [],
   "source": [
    "import os   # 명령프롬프트에서 사용할수 있는 명령어 사용\n",
    "import pandas as pd"
   ]
  },
  {
   "cell_type": "code",
   "execution_count": 4,
   "metadata": {},
   "outputs": [],
   "source": [
    "# 파일 리스트 생성\n",
    "file_list = os.listdir('../csv/2017')"
   ]
  },
  {
   "cell_type": "code",
   "execution_count": 6,
   "metadata": {},
   "outputs": [
    {
     "data": {
      "text/plain": [
       "['201701_expense_list.csv',\n",
       " '201702_expense_list.csv',\n",
       " '201703_expense_list.csv',\n",
       " '201704_expense_list.csv',\n",
       " '201705_expense_list.csv',\n",
       " '201706_expense_list.csv',\n",
       " '201707_expense_list.csv',\n",
       " '201708_expense_list.csv',\n",
       " '201709_expense_list.csv',\n",
       " '201710_expense_list.csv',\n",
       " '201711_expense_list.csv',\n",
       " '201712_expense_list.csv']"
      ]
     },
     "execution_count": 6,
     "metadata": {},
     "output_type": "execute_result"
    }
   ],
   "source": [
    "file_list"
   ]
  },
  {
   "cell_type": "code",
   "execution_count": 15,
   "metadata": {},
   "outputs": [
    {
     "name": "stdout",
     "output_type": "stream",
     "text": [
      "201701_expense_list.csv\n",
      "201702_expense_list.csv\n",
      "201703_expense_list.csv\n",
      "201704_expense_list.csv\n",
      "201705_expense_list.csv\n",
      "201706_expense_list.csv\n",
      "201707_expense_list.csv\n",
      "201708_expense_list.csv\n",
      "201709_expense_list.csv\n",
      "201710_expense_list.csv\n",
      "201711_expense_list.csv\n",
      "201712_expense_list.csv\n",
      "201701_expense_list.csv\n",
      "201702_expense_list.csv\n",
      "201703_expense_list.csv\n",
      "201704_expense_list.csv\n",
      "201705_expense_list.csv\n",
      "201706_expense_list.csv\n",
      "201707_expense_list.csv\n",
      "201708_expense_list.csv\n",
      "201709_expense_list.csv\n",
      "201710_expense_list.csv\n",
      "201711_expense_list.csv\n",
      "201712_expense_list.csv\n"
     ]
    }
   ],
   "source": [
    "# 반복문을 이용해서 파일명들을 각각 print\n",
    "# 각각 파일들을 pandas를 이용해서 파일을 로드하여 하나의 데이터프레임으로 결합\n",
    "# 결합은 유니업 결합(concat)을 사용하여 결합\n",
    "# hint : pd.read_csv(파일의 경로 + 파일의 이름)\n",
    "# 비어있는 데이터프레임을 생성\n",
    "# 반복문에서 read_csv -> pd.concat()\n",
    "\n",
    "# case1(range 사용)\n",
    "\n",
    "for i in range(0,len(file_list),1):\n",
    "    print(file_list[i])\n",
    "\n",
    "# case2(list 사용)\n",
    "for i in file_list:\n",
    "    print(i)\n"
   ]
  },
  {
   "cell_type": "code",
   "execution_count": 16,
   "metadata": {},
   "outputs": [
    {
     "name": "stdout",
     "output_type": "stream",
     "text": [
      "../csv/2017/201712_expense_list.csv\n"
     ]
    }
   ],
   "source": [
    "# csv를 데이터프레임으로 변경\n",
    "# pd.read_csv(파일경로)\n",
    "print('../csv/2017/' + '201712_expense_list.csv')"
   ]
  },
  {
   "cell_type": "code",
   "execution_count": 19,
   "metadata": {},
   "outputs": [
    {
     "data": {
      "text/plain": [
       "'../csv/2017/201701_expense_list.csv'"
      ]
     },
     "execution_count": 19,
     "metadata": {},
     "output_type": "execute_result"
    }
   ],
   "source": [
    "'../csv/2017/' + file_list[0]"
   ]
  },
  {
   "cell_type": "code",
   "execution_count": 30,
   "metadata": {},
   "outputs": [],
   "source": [
    "file_path = '../csv/2017/' # 문자열을 변수에 담아준다.\n",
    "\n",
    "total_df = pd.DataFrame()  # 비어있는 데이터프레임을 tatol_df에 저장\n",
    "for i in file_list:\n",
    "    df = pd.read_csv(file_path + i)  \n",
    "    # file_path와 i를 합친 문자열(상대주소)의 CSV파일을\n",
    "    # 데이터프레임화하여 df라는 변수에 저장\n",
    "    # case1\n",
    "    total_df = pd.concat([total_df,df], axis= 'rows').reset_index(drop=True) # axis = 0도 가능\n",
    "    # case2\n",
    "    # total_df = pd.concat([total_df,df], axis= 'rows', ignore_index=True)\n",
    "\n",
    "\n",
    "\n",
    "\n"
   ]
  },
  {
   "cell_type": "code",
   "execution_count": 31,
   "metadata": {},
   "outputs": [
    {
     "name": "stdout",
     "output_type": "stream",
     "text": [
      "<class 'pandas.core.frame.DataFrame'>\n",
      "RangeIndex: 70132 entries, 0 to 70131\n",
      "Data columns (total 20 columns):\n",
      " #   Column             Non-Null Count  Dtype  \n",
      "---  ------             --------------  -----  \n",
      " 0   nid                70132 non-null  int64  \n",
      " 1   title              70132 non-null  object \n",
      " 2   url                70132 non-null  object \n",
      " 3   dept_nm_lvl_1      70132 non-null  object \n",
      " 4   dept_nm_lvl_2      70074 non-null  object \n",
      " 5   dept_nm_lvl_3      61262 non-null  object \n",
      " 6   dept_nm_lvl_4      17939 non-null  object \n",
      " 7   dept_nm_lvl_5      3474 non-null   object \n",
      " 8   exec_yr            70132 non-null  int64  \n",
      " 9   exec_month         70132 non-null  int64  \n",
      " 10  expense_budget     3108 non-null   float64\n",
      " 11  expense_execution  2805 non-null   float64\n",
      " 12  category           1259 non-null   object \n",
      " 13  dept_nm_full       70053 non-null  object \n",
      " 14  exec_dt            70132 non-null  object \n",
      " 15  exec_loc           69360 non-null  object \n",
      " 16  exec_purpose       70110 non-null  object \n",
      " 17  target_nm          69597 non-null  object \n",
      " 18  payment_method     69929 non-null  object \n",
      " 19  exec_amount        70132 non-null  int64  \n",
      "dtypes: float64(2), int64(4), object(14)\n",
      "memory usage: 10.7+ MB\n"
     ]
    }
   ],
   "source": [
    "total_df.info()"
   ]
  },
  {
   "cell_type": "code",
   "execution_count": null,
   "metadata": {},
   "outputs": [],
   "source": []
  }
 ],
 "metadata": {
  "kernelspec": {
   "display_name": "Python 3",
   "language": "python",
   "name": "python3"
  },
  "language_info": {
   "codemirror_mode": {
    "name": "ipython",
    "version": 3
   },
   "file_extension": ".py",
   "mimetype": "text/x-python",
   "name": "python",
   "nbconvert_exporter": "python",
   "pygments_lexer": "ipython3",
   "version": "3.11.2"
  },
  "orig_nbformat": 4,
  "vscode": {
   "interpreter": {
    "hash": "d83fa9b78f6d32ae369e3b25d0bdfb8546935a326f61d3bc2625644343d73d1f"
   }
  }
 },
 "nbformat": 4,
 "nbformat_minor": 2
}
