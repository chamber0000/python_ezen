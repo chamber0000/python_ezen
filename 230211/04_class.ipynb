{
 "cells": [
  {
   "attachments": {},
   "cell_type": "markdown",
   "metadata": {},
   "source": [
    "### Class\n",
    "1. User 클래스 생성\n",
    "   - 생성자 함수는 유저 정보 입력(이름, 휴대폰번호, 생년월일)\n",
    "   - info()함수를 생성 : 유저의 정보를 출력\n",
    "2. Wallet 클래스 생성\n",
    "   - User를 상속\n",
    "   - 생성자 함수는 소유자, 지갑 브랜드, 지갑의 가치, 잔액(0) 입력\n",
    "   - work() 함수를 생성 : 일의 종류는 'TM', \"Alba', \"Serving'이고 \n",
    "     TM을 하는 경우 지갑의 잔액이 5000 증가, \n",
    "     Alba을 하는 경우 지갑의 잔액이 10000 증가, \n",
    "     Serving을 하는 경우 지갑의 잔액이 15000 증가\n",
    "   - wallet_info()함수를 생성 : 지갑의 소유자 정보와 잔액을 출력 "
   ]
  },
  {
   "cell_type": "code",
   "execution_count": 2,
   "metadata": {},
   "outputs": [],
   "source": [
    "# user 클래스 선언\n",
    "class User():\n",
    "    # 생성자 함수인 __init__ 생성\n",
    "    def __init__(self, _name, _phone, _birth):\n",
    "        self.name = _name\n",
    "        self.phone = _phone\n",
    "        self.birth = _birth\n",
    "    # 유저의 정보를 출력하는 함수\n",
    "    def info(self):\n",
    "        self.result = [self.name, self.phone, self.birth]\n",
    "        return self.result"
   ]
  },
  {
   "cell_type": "code",
   "execution_count": 10,
   "metadata": {},
   "outputs": [],
   "source": [
    "user1 = User('Angela','01033335555', '19800101')\n",
    "user2 = User('Brian','0102224444', '19900202')"
   ]
  },
  {
   "cell_type": "code",
   "execution_count": 12,
   "metadata": {},
   "outputs": [
    {
     "name": "stdout",
     "output_type": "stream",
     "text": [
      "['Angela', '01033335555', '19800101']\n",
      "['Brian', '0102224444', '19900202']\n"
     ]
    }
   ],
   "source": [
    "print(user1.info())\n",
    "print(user2.info())"
   ]
  },
  {
   "cell_type": "code",
   "execution_count": 65,
   "metadata": {},
   "outputs": [],
   "source": [
    "# Wallet 클래스 선언\n",
    "class Wallet(User):   # User 클래스를 상속\n",
    "    # 생성자 함수 \n",
    "    def __init__(self, _name, _phone, _birth, _brand, _value, _balance=0):\n",
    "        #부모 class의 생성자 함수를 실행한다.\n",
    "        super().__init__(_name, _phone, _birth)\n",
    "        self.brand = _brand\n",
    "        self.value = _value\n",
    "        self.balance = _balance\n",
    "    \n",
    "    # work() 함수 생성 -> 일의 종류\n",
    "    def work(self, _work_type):\n",
    "        \n",
    "        # 업무를 금액 설정\n",
    "        if _work_type == 'TM':\n",
    "            self.cost = 5000\n",
    "        elif _work_type == 'Alba':\n",
    "            self.cost = 10000\n",
    "        elif _work_type == 'Serving':\n",
    "            self.cost = 15000\n",
    "        else:\n",
    "            return 'work_type이 맞지 않습니다.'\n",
    "    # 잔액 변경\n",
    "        self.balance += self.cost\n",
    "        return f\"{_work_type} 일을 성공하였습니다. 현재 잔액은 {self.balance} 입니다.\"\n",
    "\n",
    "# 지갑의 정보를 출력하는 함수\n",
    "    def wallet_info(self):\n",
    "        print(f\"지갑의 소유자는 {self.name}이다\")\n",
    "        print(f\"현재 잔액은 {self.balance}입니다.\")\n",
    "\n",
    "# 오버라이딩 : 부모 클래스의 기능을 변경하여 사용\n",
    "    def info(self):\n",
    "        print(f\"소유자의 이름은 {self.name}\")\n",
    "        print(f\"지갑의 브랜드는 {self.brand}\")\n",
    "        print(f\"지갑의 가치는 {self.value}\")"
   ]
  },
  {
   "cell_type": "code",
   "execution_count": 66,
   "metadata": {},
   "outputs": [],
   "source": [
    "wallet1 = Wallet(\"Angela\",\"0101112222\",\"19701111\",\"Gucci\", 1000000)\n",
    "wallet2 = Wallet(\"Brian\",\"0102223333\",\"19801212\",\"channel\",5000000)"
   ]
  },
  {
   "cell_type": "code",
   "execution_count": 72,
   "metadata": {},
   "outputs": [
    {
     "data": {
      "text/plain": [
       "'work_type이 맞지 않습니다.'"
      ]
     },
     "execution_count": 72,
     "metadata": {},
     "output_type": "execute_result"
    }
   ],
   "source": [
    "wallet1.work('TM')\n",
    "wallet1.work('Alba')\n",
    "wallet1.work('Serving')\n",
    "wallet1.work(\"teaching\")\n"
   ]
  },
  {
   "cell_type": "code",
   "execution_count": 73,
   "metadata": {},
   "outputs": [
    {
     "name": "stdout",
     "output_type": "stream",
     "text": [
      "지갑의 소유자는 Angela이다\n",
      "현재 잔액은 120000입니다.\n"
     ]
    }
   ],
   "source": [
    "wallet1.wallet_info()"
   ]
  },
  {
   "cell_type": "code",
   "execution_count": 74,
   "metadata": {},
   "outputs": [
    {
     "name": "stdout",
     "output_type": "stream",
     "text": [
      "지갑의 소유자는 Brian이다\n",
      "현재 잔액은 0입니다.\n"
     ]
    }
   ],
   "source": [
    "wallet2.wallet_info()"
   ]
  },
  {
   "cell_type": "code",
   "execution_count": 76,
   "metadata": {},
   "outputs": [
    {
     "data": {
      "text/plain": [
       "'TM 일을 성공하였습니다. 현재 잔액은 10000 입니다.'"
      ]
     },
     "execution_count": 76,
     "metadata": {},
     "output_type": "execute_result"
    }
   ],
   "source": [
    "wallet2.work(\"TM\")"
   ]
  },
  {
   "cell_type": "code",
   "execution_count": 77,
   "metadata": {},
   "outputs": [
    {
     "name": "stdout",
     "output_type": "stream",
     "text": [
      "소유자의 이름은 Angela\n",
      "지갑의 브랜드는 Gucci\n",
      "지갑의 가치는 1000000\n"
     ]
    }
   ],
   "source": [
    "wallet1.info()"
   ]
  },
  {
   "cell_type": "code",
   "execution_count": 79,
   "metadata": {},
   "outputs": [],
   "source": [
    "wallet3 = User(\"Cymon\",\"0103334444\",\"19900303\")"
   ]
  },
  {
   "cell_type": "code",
   "execution_count": 80,
   "metadata": {},
   "outputs": [
    {
     "data": {
      "text/plain": [
       "['Cymon', '0103334444', '19900303']"
      ]
     },
     "execution_count": 80,
     "metadata": {},
     "output_type": "execute_result"
    }
   ],
   "source": [
    "wallet3.info()"
   ]
  },
  {
   "cell_type": "code",
   "execution_count": null,
   "metadata": {},
   "outputs": [],
   "source": [
    "강사님 github에 추가   class  예제 업로드. "
   ]
  }
 ],
 "metadata": {
  "kernelspec": {
   "display_name": "Python 3",
   "language": "python",
   "name": "python3"
  },
  "language_info": {
   "codemirror_mode": {
    "name": "ipython",
    "version": 3
   },
   "file_extension": ".py",
   "mimetype": "text/x-python",
   "name": "python",
   "nbconvert_exporter": "python",
   "pygments_lexer": "ipython3",
   "version": "3.11.2"
  },
  "orig_nbformat": 4,
  "vscode": {
   "interpreter": {
    "hash": "d83fa9b78f6d32ae369e3b25d0bdfb8546935a326f61d3bc2625644343d73d1f"
   }
  }
 },
 "nbformat": 4,
 "nbformat_minor": 2
}
