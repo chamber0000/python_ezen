{
 "cells": [
  {
   "attachments": {},
   "cell_type": "markdown",
   "metadata": {},
   "source": [
    "# 클래스\n",
    "변수와 매서드(함수)로 구성\n",
    "class 키워드로 생성\n",
    "__init__(self, a, b)으로 처음 시작함."
   ]
  },
  {
   "cell_type": "code",
   "execution_count": 5,
   "metadata": {},
   "outputs": [
    {
     "name": "stdout",
     "output_type": "stream",
     "text": [
      "<__main__.Class_1 object at 0x0000014355E89510>\n",
      "Class_1 call\n"
     ]
    }
   ],
   "source": [
    "#class를 선언\n",
    "class Class_1():\n",
    "    def func_1(self):\n",
    "        print(\"Class_1 call\")\n",
    "\n",
    "#Class 생성\n",
    "a = Class_1()\n",
    "print(a)\n",
    "a.func_1()\n"
   ]
  },
  {
   "cell_type": "code",
   "execution_count": 6,
   "metadata": {},
   "outputs": [],
   "source": [
    "#생성자 함수 입력\n",
    "class Class_2():\n",
    "    def __init__(self, input_a, input_b):\n",
    "        self.a = input_a\n",
    "        self.b = input_b"
   ]
  },
  {
   "cell_type": "code",
   "execution_count": 9,
   "metadata": {},
   "outputs": [
    {
     "name": "stdout",
     "output_type": "stream",
     "text": [
      "5\n",
      "test1\n"
     ]
    }
   ],
   "source": [
    "b = Class_2(5, 1)\n",
    "c = Class_2(\"test1\", \"test2\")\n",
    "\n",
    "print(b.a)\n",
    "print(c.a)"
   ]
  },
  {
   "cell_type": "code",
   "execution_count": 19,
   "metadata": {},
   "outputs": [],
   "source": [
    "class Class_3():\n",
    "    def __init__(self, input_x, input_y):\n",
    "        self.x = input_x\n",
    "        self.y = input_y\n",
    "    def add(self):\n",
    "        self.result = self.x + self.y\n",
    "        return self.result\n",
    "    def subtract(self):\n",
    "        self.result = self.x - self.y\n",
    "        return self.result"
   ]
  },
  {
   "cell_type": "code",
   "execution_count": 22,
   "metadata": {},
   "outputs": [
    {
     "name": "stdout",
     "output_type": "stream",
     "text": [
      "12\n",
      "60\n",
      "8\n",
      "40\n"
     ]
    }
   ],
   "source": [
    "a = Class_3(10,2)\n",
    "b = Class_3(50,10)\n",
    "\n",
    "print(a.add())\n",
    "print(b.add())\n",
    "print(a.subtract())\n",
    "print(b.subtract())"
   ]
  },
  {
   "attachments": {},
   "cell_type": "markdown",
   "metadata": {},
   "source": [
    "#클래스 변수\n",
    "같은 클래스에서 생성된 변수들은 독립적이다. \n",
    "변수 공유하는 방법"
   ]
  },
  {
   "cell_type": "code",
   "execution_count": 31,
   "metadata": {},
   "outputs": [
    {
     "name": "stdout",
     "output_type": "stream",
     "text": [
      "[]\n",
      "[]\n",
      "['0123456789']\n",
      "['0123456789']\n",
      "['0123456789', '1234567890']\n",
      "['0123456789', '1234567890']\n"
     ]
    }
   ],
   "source": [
    "class Class_4():\n",
    "    _list = []\n",
    "    def __init__(self, input_name):\n",
    "        self.name = input_name\n",
    "    def add_list(self, input_phone):\n",
    "        self._list.append(input_phone)\n",
    "\n",
    "a = Class_4(\"test1\")\n",
    "b = Class_4(\"test2\")\n",
    "\n",
    "print(a._list)\n",
    "print(b._list)\n",
    "a.add_list(\"0123456789\")\n",
    "print(a._list)\n",
    "print(b._list)\n",
    "b.add_list(\"1234567890\")\n",
    "print(a._list)\n",
    "print(b._list)\n"
   ]
  },
  {
   "attachments": {},
   "cell_type": "markdown",
   "metadata": {},
   "source": [
    "# 상속\n",
    "class B클래스(A클래스)\n",
    "기존의 클래스를 변경하지 않고 기능을 추가하거나 변경할 때 사용한다."
   ]
  },
  {
   "cell_type": "code",
   "execution_count": null,
   "metadata": {},
   "outputs": [],
   "source": []
  }
 ],
 "metadata": {
  "kernelspec": {
   "display_name": "Python 3",
   "language": "python",
   "name": "python3"
  },
  "language_info": {
   "codemirror_mode": {
    "name": "ipython",
    "version": 3
   },
   "file_extension": ".py",
   "mimetype": "text/x-python",
   "name": "python",
   "nbconvert_exporter": "python",
   "pygments_lexer": "ipython3",
   "version": "3.11.1 (tags/v3.11.1:a7a450f, Dec  6 2022, 19:58:39) [MSC v.1934 64 bit (AMD64)]"
  },
  "orig_nbformat": 4,
  "vscode": {
   "interpreter": {
    "hash": "d83fa9b78f6d32ae369e3b25d0bdfb8546935a326f61d3bc2625644343d73d1f"
   }
  }
 },
 "nbformat": 4,
 "nbformat_minor": 2
}
